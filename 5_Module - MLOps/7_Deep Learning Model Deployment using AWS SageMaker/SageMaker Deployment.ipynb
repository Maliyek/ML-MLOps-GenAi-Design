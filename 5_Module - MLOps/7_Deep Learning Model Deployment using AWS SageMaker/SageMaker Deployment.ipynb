{
 "cells": [
  {
   "cell_type": "markdown",
   "id": "b8a9150d",
   "metadata": {},
   "source": [
    "# AWS SageMaker"
   ]
  },
  {
   "cell_type": "code",
   "execution_count": null,
   "id": "9597099b",
   "metadata": {},
   "outputs": [],
   "source": [
    "managed service\n",
    "\n",
    "- build\n",
    "- train\n",
    "- deploy\n",
    "\n",
    "advantages\n",
    "\n",
    "- AWS s3 bucket - Big Storage space\n",
    "- AWS ec2 instance - computaional resources\n",
    "- End-to-End machine learning model development"
   ]
  },
  {
   "cell_type": "markdown",
   "id": "e01a8ef3",
   "metadata": {},
   "source": [
    "# How SageMaker Works\n",
    "\n",
    "<img src='s1.png' />"
   ]
  },
  {
   "cell_type": "code",
   "execution_count": null,
   "id": "a15cfde2",
   "metadata": {},
   "outputs": [],
   "source": []
  },
  {
   "cell_type": "code",
   "execution_count": null,
   "id": "c7cd8585",
   "metadata": {},
   "outputs": [],
   "source": []
  },
  {
   "cell_type": "markdown",
   "id": "4d62c247",
   "metadata": {},
   "source": [
    "# Code"
   ]
  },
  {
   "cell_type": "markdown",
   "id": "13b3f356",
   "metadata": {},
   "source": [
    "#### CNN training code for AWS instance\n",
    "\n",
    "https://github.com/aws/amazon-sagemaker-examples/blob/7a12bef6aea065c8bb8807b85cac194b9124593e/sagemaker-python-sdk/tensorflow_script_mode_training_and_serving/mnist.py"
   ]
  },
  {
   "cell_type": "code",
   "execution_count": null,
   "id": "d346a731",
   "metadata": {},
   "outputs": [],
   "source": [
    "import os import sagemaker\n",
    "from sagemaker import get_execution_role \n",
    "\n",
    "sagemaker_session = sagemaker.Session()\n",
    "\n",
    "role = get_execution_role()"
   ]
  },
  {
   "cell_type": "code",
   "execution_count": null,
   "id": "fef95496",
   "metadata": {},
   "outputs": [],
   "source": [
    "role"
   ]
  },
  {
   "cell_type": "code",
   "execution_count": null,
   "id": "a2a6e318",
   "metadata": {},
   "outputs": [],
   "source": [
    "region = sagemaker_session.boto_session.region_name\n",
    "\n",
    "region"
   ]
  },
  {
   "cell_type": "code",
   "execution_count": null,
   "id": "08b901ef",
   "metadata": {},
   "outputs": [],
   "source": [
    "training_data uri = 's3://sagemaker-sample-data-{}/tensorflow/mnist'.format(region)"
   ]
  },
  {
   "cell_type": "code",
   "execution_count": null,
   "id": "8ed91454",
   "metadata": {},
   "outputs": [],
   "source": [
    "from sagemaker.tensorflow import TensorFlow"
   ]
  },
  {
   "cell_type": "code",
   "execution_count": null,
   "id": "89873694",
   "metadata": {},
   "outputs": [],
   "source": []
  },
  {
   "cell_type": "code",
   "execution_count": null,
   "id": "dbea46f0",
   "metadata": {},
   "outputs": [],
   "source": []
  },
  {
   "cell_type": "code",
   "execution_count": null,
   "id": "f4a5d752",
   "metadata": {},
   "outputs": [],
   "source": []
  },
  {
   "cell_type": "code",
   "execution_count": null,
   "id": "2e0f7950",
   "metadata": {},
   "outputs": [],
   "source": []
  },
  {
   "cell_type": "code",
   "execution_count": null,
   "id": "12558d55",
   "metadata": {},
   "outputs": [],
   "source": []
  },
  {
   "cell_type": "code",
   "execution_count": null,
   "id": "9508dc35",
   "metadata": {},
   "outputs": [],
   "source": []
  },
  {
   "cell_type": "code",
   "execution_count": null,
   "id": "59f93318",
   "metadata": {},
   "outputs": [],
   "source": []
  },
  {
   "cell_type": "code",
   "execution_count": null,
   "id": "3ae7747b",
   "metadata": {},
   "outputs": [],
   "source": []
  },
  {
   "cell_type": "code",
   "execution_count": null,
   "id": "ffb6e69d",
   "metadata": {},
   "outputs": [],
   "source": []
  },
  {
   "cell_type": "code",
   "execution_count": null,
   "id": "6f7f64ad",
   "metadata": {},
   "outputs": [],
   "source": []
  },
  {
   "cell_type": "code",
   "execution_count": null,
   "id": "fd0a5649",
   "metadata": {},
   "outputs": [],
   "source": []
  }
 ],
 "metadata": {
  "kernelspec": {
   "display_name": "Python 3 (ipykernel)",
   "language": "python",
   "name": "python3"
  },
  "language_info": {
   "codemirror_mode": {
    "name": "ipython",
    "version": 3
   },
   "file_extension": ".py",
   "mimetype": "text/x-python",
   "name": "python",
   "nbconvert_exporter": "python",
   "pygments_lexer": "ipython3",
   "version": "3.9.12"
  }
 },
 "nbformat": 4,
 "nbformat_minor": 5
}
