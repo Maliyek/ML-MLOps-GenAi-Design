{
 "cells": [
  {
   "cell_type": "markdown",
   "id": "c46729d5",
   "metadata": {},
   "source": [
    "# ML Operations"
   ]
  },
  {
   "cell_type": "code",
   "execution_count": null,
   "id": "86044a86",
   "metadata": {},
   "outputs": [],
   "source": [
    "AI powered application\n",
    "\n",
    "- microservices (serving business logic)\n",
    "- big data (log, preprocessing, feature engineering)\n",
    "- training"
   ]
  },
  {
   "cell_type": "code",
   "execution_count": null,
   "id": "62e5ba97",
   "metadata": {},
   "outputs": [],
   "source": [
    "Software development methods\n",
    "\n",
    "- waterfall\n",
    "- agile\n",
    "- DevOps - development operations (build, test, deploy, delivery)"
   ]
  },
  {
   "cell_type": "code",
   "execution_count": null,
   "id": "1a33f216",
   "metadata": {},
   "outputs": [],
   "source": [
    "MLOps\n",
    "\n",
    "- Machine Learning\n",
    "- DevOps\n",
    "- Data Engineering"
   ]
  },
  {
   "cell_type": "markdown",
   "id": "fba02ca7",
   "metadata": {},
   "source": [
    "# MLOps Workflow"
   ]
  },
  {
   "cell_type": "code",
   "execution_count": null,
   "id": "7472dcf6",
   "metadata": {},
   "outputs": [],
   "source": [
    "- MLOps Pipeline -> Build, Deploy, and monitor\n",
    "\n",
    "- Drivers -> Data, Code, Artifacts, Middleware, Infrastructure"
   ]
  },
  {
   "cell_type": "markdown",
   "id": "b780f55a",
   "metadata": {},
   "source": [
    "<img src='mlflow.jpg' />"
   ]
  },
  {
   "cell_type": "code",
   "execution_count": null,
   "id": "d6f2606d",
   "metadata": {},
   "outputs": [],
   "source": [
    "py                                         ------>         pyc\n",
    "model weights(knowledge graph/matrix)                    pkl / h5   --->    production model"
   ]
  },
  {
   "cell_type": "code",
   "execution_count": null,
   "id": "cf7e4968",
   "metadata": {},
   "outputs": [],
   "source": [
    "# model = LinearRegression()\n",
    "\n",
    "# # model.pkl()"
   ]
  },
  {
   "cell_type": "markdown",
   "id": "9b71f399",
   "metadata": {},
   "source": [
    "# MLOps categorization"
   ]
  },
  {
   "cell_type": "code",
   "execution_count": null,
   "id": "347d8a07",
   "metadata": {},
   "outputs": [],
   "source": [
    "- small data -> dataset < 10 GB\n",
    "- big data -> data > 1 TB -> Kafka, Spark, Hadoop\n",
    "- large scale MLops -> \n",
    "- hybrid mlops -> processing capacity, data team, money"
   ]
  },
  {
   "cell_type": "markdown",
   "id": "219bbda6",
   "metadata": {},
   "source": [
    "# Roadmap\n",
    "\n",
    "\n",
    "## Phase 1\n",
    "Infrastructure Setup\n",
    "\n",
    "ML Development\n",
    "\n",
    "\n",
    "\n",
    "## Phase 2\n",
    "Transition into Operations\n",
    "\n",
    "\n",
    "\n",
    "## Phase 3\n",
    "MLOps, Data Operations\n",
    "\n",
    "Monitoring"
   ]
  },
  {
   "cell_type": "markdown",
   "id": "6e8832c2",
   "metadata": {},
   "source": [
    "# Real World Business Problem\n"
   ]
  },
  {
   "cell_type": "code",
   "execution_count": null,
   "id": "6081c237",
   "metadata": {},
   "outputs": [],
   "source": [
    "predict weather every 4 hours\n",
    "\n",
    "reduce the operational costs by 20%"
   ]
  },
  {
   "cell_type": "code",
   "execution_count": null,
   "id": "e67c30dd",
   "metadata": {},
   "outputs": [],
   "source": [
    "- Azure Machine Learning(cloud based ML service)\n",
    "- MLFlow(cloud and platform agnostic tool)\n",
    "- Azure DevOps(CI/CD and source code management)\n",
    "\n",
    "- JupyterHub"
   ]
  },
  {
   "cell_type": "code",
   "execution_count": null,
   "id": "d4e725ce",
   "metadata": {},
   "outputs": [],
   "source": [
    "terminal\n",
    "\n",
    "pip install mlflow\n",
    "\n",
    "mlflow ui (localhost:5000)\n",
    "\n"
   ]
  },
  {
   "cell_type": "code",
   "execution_count": null,
   "id": "a516656c",
   "metadata": {},
   "outputs": [],
   "source": [
    "create Azure ML resource and workspace\n",
    "\n",
    "install Azure ML SDK\n",
    "\n",
    "pip install --upgrade azureml-sdk\n",
    "\n"
   ]
  },
  {
   "cell_type": "code",
   "execution_count": null,
   "id": "c7596fe0",
   "metadata": {},
   "outputs": [],
   "source": [
    "pip install jupyterhub\n",
    "\n"
   ]
  },
  {
   "cell_type": "markdown",
   "id": "3a8a9811",
   "metadata": {},
   "source": [
    "# Day 2\n"
   ]
  },
  {
   "cell_type": "code",
   "execution_count": null,
   "id": "1e09817f",
   "metadata": {},
   "outputs": [],
   "source": [
    "ML Pipeline\n",
    "\n",
    "- data ingestion and feature engineering\n",
    "- ml training along with hyperparameter tuning\n",
    "- "
   ]
  },
  {
   "cell_type": "markdown",
   "id": "65544499",
   "metadata": {},
   "source": [
    "# Day 3"
   ]
  },
  {
   "cell_type": "code",
   "execution_count": null,
   "id": "f3e5edac",
   "metadata": {},
   "outputs": [],
   "source": [
    "registering training data to the datastore"
   ]
  }
 ],
 "metadata": {
  "kernelspec": {
   "display_name": "Python 3 (ipykernel)",
   "language": "python",
   "name": "python3"
  },
  "language_info": {
   "codemirror_mode": {
    "name": "ipython",
    "version": 3
   },
   "file_extension": ".py",
   "mimetype": "text/x-python",
   "name": "python",
   "nbconvert_exporter": "python",
   "pygments_lexer": "ipython3",
   "version": "3.9.12"
  }
 },
 "nbformat": 4,
 "nbformat_minor": 5
}
