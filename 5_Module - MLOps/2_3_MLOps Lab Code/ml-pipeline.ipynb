{
 "cells": [
  {
   "cell_type": "code",
   "execution_count": 1,
   "id": "cd0774bc-d462-4110-b567-79a35b84ea2f",
   "metadata": {},
   "outputs": [],
   "source": [
    "import pandas as pd\n",
    "import numpy as np\n",
    "from math import sqrt\n",
    "import warnings\n",
    "warnings.filterwarnings('ignore')\n",
    "\n",
    "from azureml.core.run import Run\n",
    "from azureml.core.experiment import Experiment\n",
    "from azureml.core.workspace import Workspace\n",
    "from azureml.core.model import Model\n",
    "from azureml.core.authentication import ServicePrincipalAuthentication\n",
    "from azureml.train.automl import AutoMLConfig\n",
    "import pickle\n",
    "from matplotlib import pyplot as plt\n",
    "from matplotlib.pyplot import figure\n",
    "import mlflow"
   ]
  },
  {
   "cell_type": "code",
   "execution_count": 2,
   "id": "7fdfccdf-ae7c-4a12-847f-99e2e96978e8",
   "metadata": {},
   "outputs": [],
   "source": [
    "from azureml.core import Workspace, Dataset\n",
    "\n",
    "subscription_id = '7a12af0d-a67c-4fb2-85ce-acb1b512790a'\n",
    "resource_group = 'MLOps'\n",
    "workspace_name = 'MLOps_WS'\n",
    "\n",
    "workspace = Workspace(subscription_id, resource_group, workspace_name)"
   ]
  },
  {
   "cell_type": "code",
   "execution_count": 3,
   "id": "338a701c-1595-42fe-a953-70ed57fa75ca",
   "metadata": {},
   "outputs": [],
   "source": [
    "# setup mlflow\n",
    "\n",
    "uri = workspace.get_mlflow_tracking_uri()\n",
    "\n",
    "mlflow.set_tracking_uri(uri)"
   ]
  },
  {
   "cell_type": "code",
   "execution_count": 4,
   "id": "d2a16236-0ed1-4ff4-918a-9adb2a5e8951",
   "metadata": {},
   "outputs": [
    {
     "name": "stdout",
     "output_type": "stream",
     "text": [
      "weather_ds_processed 1\n"
     ]
    }
   ],
   "source": [
    "dataset = Dataset.get_by_name(workspace, name='weather_ds_processed')\n",
    "\n",
    "print(dataset.name, dataset.version)"
   ]
  },
  {
   "cell_type": "code",
   "execution_count": 5,
   "id": "ec115fb1-a292-41a1-a7f6-e4f24926f11a",
   "metadata": {},
   "outputs": [
    {
     "data": {
      "text/html": [
       "<div>\n",
       "<style scoped>\n",
       "    .dataframe tbody tr th:only-of-type {\n",
       "        vertical-align: middle;\n",
       "    }\n",
       "\n",
       "    .dataframe tbody tr th {\n",
       "        vertical-align: top;\n",
       "    }\n",
       "\n",
       "    .dataframe thead th {\n",
       "        text-align: right;\n",
       "    }\n",
       "</style>\n",
       "<table border=\"1\" class=\"dataframe\">\n",
       "  <thead>\n",
       "    <tr style=\"text-align: right;\">\n",
       "      <th></th>\n",
       "      <th>Column1</th>\n",
       "      <th>Timestamp</th>\n",
       "      <th>Location</th>\n",
       "      <th>Temperature_C</th>\n",
       "      <th>Humidity</th>\n",
       "      <th>Wind_speed_kmph</th>\n",
       "      <th>Wind_bearing_degrees</th>\n",
       "      <th>Visibility_km</th>\n",
       "      <th>Pressure_millibars</th>\n",
       "      <th>Weather_condition</th>\n",
       "      <th>Future_Weather_Condition</th>\n",
       "    </tr>\n",
       "  </thead>\n",
       "  <tbody>\n",
       "    <tr>\n",
       "      <th>0</th>\n",
       "      <td>0</td>\n",
       "      <td>2006-03-31 22:00:00</td>\n",
       "      <td>Port of Turku, Finland</td>\n",
       "      <td>9.472222</td>\n",
       "      <td>0.89</td>\n",
       "      <td>14.1197</td>\n",
       "      <td>251</td>\n",
       "      <td>15.8263</td>\n",
       "      <td>1015.13</td>\n",
       "      <td>1</td>\n",
       "      <td>1.0</td>\n",
       "    </tr>\n",
       "    <tr>\n",
       "      <th>1</th>\n",
       "      <td>1</td>\n",
       "      <td>2006-03-31 23:00:00</td>\n",
       "      <td>Port of Turku, Finland</td>\n",
       "      <td>9.355556</td>\n",
       "      <td>0.86</td>\n",
       "      <td>14.2646</td>\n",
       "      <td>259</td>\n",
       "      <td>15.8263</td>\n",
       "      <td>1015.63</td>\n",
       "      <td>1</td>\n",
       "      <td>1.0</td>\n",
       "    </tr>\n",
       "    <tr>\n",
       "      <th>2</th>\n",
       "      <td>2</td>\n",
       "      <td>2006-04-01 00:00:00</td>\n",
       "      <td>Port of Turku, Finland</td>\n",
       "      <td>9.377778</td>\n",
       "      <td>0.89</td>\n",
       "      <td>3.9284</td>\n",
       "      <td>204</td>\n",
       "      <td>14.9569</td>\n",
       "      <td>1015.94</td>\n",
       "      <td>1</td>\n",
       "      <td>1.0</td>\n",
       "    </tr>\n",
       "    <tr>\n",
       "      <th>3</th>\n",
       "      <td>3</td>\n",
       "      <td>2006-04-01 01:00:00</td>\n",
       "      <td>Port of Turku, Finland</td>\n",
       "      <td>8.288889</td>\n",
       "      <td>0.83</td>\n",
       "      <td>14.1036</td>\n",
       "      <td>269</td>\n",
       "      <td>15.8263</td>\n",
       "      <td>1016.41</td>\n",
       "      <td>1</td>\n",
       "      <td>1.0</td>\n",
       "    </tr>\n",
       "    <tr>\n",
       "      <th>4</th>\n",
       "      <td>4</td>\n",
       "      <td>2006-04-01 02:00:00</td>\n",
       "      <td>Port of Turku, Finland</td>\n",
       "      <td>8.755556</td>\n",
       "      <td>0.83</td>\n",
       "      <td>11.0446</td>\n",
       "      <td>259</td>\n",
       "      <td>15.8263</td>\n",
       "      <td>1016.51</td>\n",
       "      <td>1</td>\n",
       "      <td>1.0</td>\n",
       "    </tr>\n",
       "  </tbody>\n",
       "</table>\n",
       "</div>"
      ],
      "text/plain": [
       "   Column1           Timestamp                Location  Temperature_C  \\\n",
       "0        0 2006-03-31 22:00:00  Port of Turku, Finland       9.472222   \n",
       "1        1 2006-03-31 23:00:00  Port of Turku, Finland       9.355556   \n",
       "2        2 2006-04-01 00:00:00  Port of Turku, Finland       9.377778   \n",
       "3        3 2006-04-01 01:00:00  Port of Turku, Finland       8.288889   \n",
       "4        4 2006-04-01 02:00:00  Port of Turku, Finland       8.755556   \n",
       "\n",
       "   Humidity  Wind_speed_kmph  Wind_bearing_degrees  Visibility_km  \\\n",
       "0      0.89          14.1197                   251        15.8263   \n",
       "1      0.86          14.2646                   259        15.8263   \n",
       "2      0.89           3.9284                   204        14.9569   \n",
       "3      0.83          14.1036                   269        15.8263   \n",
       "4      0.83          11.0446                   259        15.8263   \n",
       "\n",
       "   Pressure_millibars  Weather_condition  Future_Weather_Condition  \n",
       "0             1015.13                  1                       1.0  \n",
       "1             1015.63                  1                       1.0  \n",
       "2             1015.94                  1                       1.0  \n",
       "3             1016.41                  1                       1.0  \n",
       "4             1016.51                  1                       1.0  "
      ]
     },
     "execution_count": 5,
     "metadata": {},
     "output_type": "execute_result"
    }
   ],
   "source": [
    "df = dataset.to_pandas_dataframe()\n",
    "df.head()"
   ]
  },
  {
   "cell_type": "code",
   "execution_count": 6,
   "id": "309acbf7-893d-4904-baa9-7a34fa9486bb",
   "metadata": {},
   "outputs": [
    {
     "data": {
      "text/plain": [
       "(96449, 11)"
      ]
     },
     "execution_count": 6,
     "metadata": {},
     "output_type": "execute_result"
    }
   ],
   "source": [
    "df.shape"
   ]
  },
  {
   "cell_type": "code",
   "execution_count": 7,
   "id": "c6ee211f-84ae-4716-9713-e7a05dacc732",
   "metadata": {},
   "outputs": [],
   "source": [
    "df.drop('Column1',axis=1, inplace=True)"
   ]
  },
  {
   "cell_type": "code",
   "execution_count": 8,
   "id": "775dd6be-034b-4ee6-af5b-c404b3791712",
   "metadata": {},
   "outputs": [
    {
     "data": {
      "text/plain": [
       "(96449, 10)"
      ]
     },
     "execution_count": 8,
     "metadata": {},
     "output_type": "execute_result"
    }
   ],
   "source": [
    "df.shape"
   ]
  },
  {
   "cell_type": "code",
   "execution_count": 9,
   "id": "c5849811-de9e-4253-9154-7ef190db19f5",
   "metadata": {},
   "outputs": [
    {
     "data": {
      "text/plain": [
       "(77160, 10)"
      ]
     },
     "execution_count": 9,
     "metadata": {},
     "output_type": "execute_result"
    }
   ],
   "source": [
    "# training and validation set\n",
    "\n",
    "df_training = df.iloc[:77160]   # 80% values\n",
    "\n",
    "df_training.shape"
   ]
  },
  {
   "cell_type": "code",
   "execution_count": 10,
   "id": "978ee66c-d538-45d0-8024-e821a6c09631",
   "metadata": {},
   "outputs": [
    {
     "data": {
      "text/plain": [
       "(19289, 10)"
      ]
     },
     "execution_count": 10,
     "metadata": {},
     "output_type": "execute_result"
    }
   ],
   "source": [
    "df_validation = df.drop(df_training.index)\n",
    "df_validation.shape"
   ]
  },
  {
   "cell_type": "code",
   "execution_count": 11,
   "id": "fac7e94f-c048-401a-9d3a-7a4d1fe6e3de",
   "metadata": {},
   "outputs": [
    {
     "name": "stdout",
     "output_type": "stream",
     "text": [
      "mkdir: cannot create directory ‘Data’: File exists\n"
     ]
    }
   ],
   "source": [
    "!mkdir Data"
   ]
  },
  {
   "cell_type": "code",
   "execution_count": 15,
   "id": "d2af8eaa-c398-4dc5-9028-3a1a5eb5325d",
   "metadata": {},
   "outputs": [],
   "source": [
    "# storing the training and validation set\n",
    "\n",
    "df_training.to_csv('Data/training_data.csv', index=False)\n",
    "\n",
    "df_validation.to_csv('Data/validation_data.csv', index=False)"
   ]
  },
  {
   "cell_type": "code",
   "execution_count": 12,
   "id": "1783132f-e8b3-434c-bfae-04df5a087d40",
   "metadata": {},
   "outputs": [],
   "source": [
    "## registering the training and validation dataset -->> \n",
    "\n",
    "datastore = workspace.get_default_datastore()"
   ]
  },
  {
   "cell_type": "code",
   "execution_count": 13,
   "id": "bb2c546e-a3dd-4159-be6b-e51983d2efaf",
   "metadata": {},
   "outputs": [
    {
     "name": "stderr",
     "output_type": "stream",
     "text": [
      "\"Datastore.upload\" is deprecated after version 1.0.69. Please use \"Dataset.File.upload_directory\" to upload your files             from a local directory and create FileDataset in single method call. See Dataset API change notice at https://aka.ms/dataset-deprecation.\n"
     ]
    },
    {
     "name": "stdout",
     "output_type": "stream",
     "text": [
      "Uploading an estimated of 2 files\n",
      "Uploading Data/validation_data.csv\n",
      "Uploaded Data/validation_data.csv, 1 files out of an estimated total of 2\n",
      "Uploading Data/training_data.csv\n",
      "Uploaded Data/training_data.csv, 2 files out of an estimated total of 2\n",
      "Uploaded 2 files\n"
     ]
    },
    {
     "data": {
      "text/plain": [
       "$AZUREML_DATAREFERENCE_6ac883d3146440aaa989892f23b18e65"
      ]
     },
     "execution_count": 13,
     "metadata": {},
     "output_type": "execute_result"
    }
   ],
   "source": [
    "datastore.upload(src_dir='Data', target_path='data')"
   ]
  },
  {
   "cell_type": "code",
   "execution_count": 14,
   "id": "5405bc90-fe8b-4e0d-89dd-f494ef82b7b6",
   "metadata": {},
   "outputs": [],
   "source": [
    "training_dataset = Dataset.Tabular.from_delimited_files(datastore.path('data/training_data.csv'))"
   ]
  },
  {
   "cell_type": "code",
   "execution_count": 15,
   "id": "446b00a6-091f-4567-bc7f-a0f3a994495f",
   "metadata": {},
   "outputs": [],
   "source": [
    "validation_dataset = Dataset.Tabular.from_delimited_files(datastore.path('data/validation_data.csv'))"
   ]
  },
  {
   "cell_type": "code",
   "execution_count": 16,
   "id": "e4db71ee-7f4f-456f-873b-74fdb5713986",
   "metadata": {},
   "outputs": [],
   "source": [
    "training_ds = training_dataset.register(workspace=workspace,\n",
    "                                        name='training_dataset',\n",
    "                                        description='dataset to use for ML traininig')"
   ]
  },
  {
   "cell_type": "code",
   "execution_count": 17,
   "id": "8a175ffd-21a5-460b-a913-3c60c9d8dc3f",
   "metadata": {},
   "outputs": [],
   "source": [
    "validation_ds = validation_dataset.register(workspace=workspace,\n",
    "                                            name='validation_dataset',\n",
    "                                            description='dataset for validation of our ML models')"
   ]
  },
  {
   "cell_type": "markdown",
   "id": "ff319a54-53cd-4acf-946f-90bab25ba88a",
   "metadata": {},
   "source": [
    "# Data Ingestion"
   ]
  },
  {
   "cell_type": "code",
   "execution_count": 18,
   "id": "b070721b-6134-40e5-9244-a0cbcca33326",
   "metadata": {},
   "outputs": [
    {
     "name": "stdout",
     "output_type": "stream",
     "text": [
      "training_dataset 1\n"
     ]
    }
   ],
   "source": [
    "dataset = Dataset.get_by_name(workspace, name='training_dataset')\n",
    "\n",
    "print(dataset.name, dataset.version)"
   ]
  },
  {
   "cell_type": "code",
   "execution_count": 19,
   "id": "8a750d35-2811-4548-a14c-8b570fa0f6ea",
   "metadata": {},
   "outputs": [
    {
     "data": {
      "text/html": [
       "<div>\n",
       "<style scoped>\n",
       "    .dataframe tbody tr th:only-of-type {\n",
       "        vertical-align: middle;\n",
       "    }\n",
       "\n",
       "    .dataframe tbody tr th {\n",
       "        vertical-align: top;\n",
       "    }\n",
       "\n",
       "    .dataframe thead th {\n",
       "        text-align: right;\n",
       "    }\n",
       "</style>\n",
       "<table border=\"1\" class=\"dataframe\">\n",
       "  <thead>\n",
       "    <tr style=\"text-align: right;\">\n",
       "      <th></th>\n",
       "      <th>Timestamp</th>\n",
       "      <th>Location</th>\n",
       "      <th>Temperature_C</th>\n",
       "      <th>Humidity</th>\n",
       "      <th>Wind_speed_kmph</th>\n",
       "      <th>Wind_bearing_degrees</th>\n",
       "      <th>Visibility_km</th>\n",
       "      <th>Pressure_millibars</th>\n",
       "      <th>Weather_condition</th>\n",
       "      <th>Future_Weather_Condition</th>\n",
       "    </tr>\n",
       "  </thead>\n",
       "  <tbody>\n",
       "    <tr>\n",
       "      <th>0</th>\n",
       "      <td>2006-03-31 22:00:00</td>\n",
       "      <td>Port of Turku, Finland</td>\n",
       "      <td>9.472222</td>\n",
       "      <td>0.89</td>\n",
       "      <td>14.1197</td>\n",
       "      <td>251</td>\n",
       "      <td>15.8263</td>\n",
       "      <td>1015.13</td>\n",
       "      <td>1</td>\n",
       "      <td>1.0</td>\n",
       "    </tr>\n",
       "    <tr>\n",
       "      <th>1</th>\n",
       "      <td>2006-03-31 23:00:00</td>\n",
       "      <td>Port of Turku, Finland</td>\n",
       "      <td>9.355556</td>\n",
       "      <td>0.86</td>\n",
       "      <td>14.2646</td>\n",
       "      <td>259</td>\n",
       "      <td>15.8263</td>\n",
       "      <td>1015.63</td>\n",
       "      <td>1</td>\n",
       "      <td>1.0</td>\n",
       "    </tr>\n",
       "    <tr>\n",
       "      <th>2</th>\n",
       "      <td>2006-04-01 00:00:00</td>\n",
       "      <td>Port of Turku, Finland</td>\n",
       "      <td>9.377778</td>\n",
       "      <td>0.89</td>\n",
       "      <td>3.9284</td>\n",
       "      <td>204</td>\n",
       "      <td>14.9569</td>\n",
       "      <td>1015.94</td>\n",
       "      <td>1</td>\n",
       "      <td>1.0</td>\n",
       "    </tr>\n",
       "    <tr>\n",
       "      <th>3</th>\n",
       "      <td>2006-04-01 01:00:00</td>\n",
       "      <td>Port of Turku, Finland</td>\n",
       "      <td>8.288889</td>\n",
       "      <td>0.83</td>\n",
       "      <td>14.1036</td>\n",
       "      <td>269</td>\n",
       "      <td>15.8263</td>\n",
       "      <td>1016.41</td>\n",
       "      <td>1</td>\n",
       "      <td>1.0</td>\n",
       "    </tr>\n",
       "    <tr>\n",
       "      <th>4</th>\n",
       "      <td>2006-04-01 02:00:00</td>\n",
       "      <td>Port of Turku, Finland</td>\n",
       "      <td>8.755556</td>\n",
       "      <td>0.83</td>\n",
       "      <td>11.0446</td>\n",
       "      <td>259</td>\n",
       "      <td>15.8263</td>\n",
       "      <td>1016.51</td>\n",
       "      <td>1</td>\n",
       "      <td>1.0</td>\n",
       "    </tr>\n",
       "  </tbody>\n",
       "</table>\n",
       "</div>"
      ],
      "text/plain": [
       "            Timestamp                Location  Temperature_C  Humidity  \\\n",
       "0 2006-03-31 22:00:00  Port of Turku, Finland       9.472222      0.89   \n",
       "1 2006-03-31 23:00:00  Port of Turku, Finland       9.355556      0.86   \n",
       "2 2006-04-01 00:00:00  Port of Turku, Finland       9.377778      0.89   \n",
       "3 2006-04-01 01:00:00  Port of Turku, Finland       8.288889      0.83   \n",
       "4 2006-04-01 02:00:00  Port of Turku, Finland       8.755556      0.83   \n",
       "\n",
       "   Wind_speed_kmph  Wind_bearing_degrees  Visibility_km  Pressure_millibars  \\\n",
       "0          14.1197                   251        15.8263             1015.13   \n",
       "1          14.2646                   259        15.8263             1015.63   \n",
       "2           3.9284                   204        14.9569             1015.94   \n",
       "3          14.1036                   269        15.8263             1016.41   \n",
       "4          11.0446                   259        15.8263             1016.51   \n",
       "\n",
       "   Weather_condition  Future_Weather_Condition  \n",
       "0                  1                       1.0  \n",
       "1                  1                       1.0  \n",
       "2                  1                       1.0  \n",
       "3                  1                       1.0  \n",
       "4                  1                       1.0  "
      ]
     },
     "execution_count": 19,
     "metadata": {},
     "output_type": "execute_result"
    }
   ],
   "source": [
    "df = dataset.to_pandas_dataframe()\n",
    "\n",
    "df.head()"
   ]
  },
  {
   "cell_type": "code",
   "execution_count": 20,
   "id": "a63ed23c-704c-4d67-8240-7ff83d366f15",
   "metadata": {},
   "outputs": [
    {
     "data": {
      "text/plain": [
       "(77160, 10)"
      ]
     },
     "execution_count": 20,
     "metadata": {},
     "output_type": "execute_result"
    }
   ],
   "source": [
    "df.shape"
   ]
  },
  {
   "cell_type": "code",
   "execution_count": 21,
   "id": "cc891379-f937-4bf1-97c9-92330a8b02fd",
   "metadata": {},
   "outputs": [
    {
     "data": {
      "text/plain": [
       "Index(['Timestamp', 'Location', 'Temperature_C', 'Humidity', 'Wind_speed_kmph',\n",
       "       'Wind_bearing_degrees', 'Visibility_km', 'Pressure_millibars',\n",
       "       'Weather_condition', 'Future_Weather_Condition'],\n",
       "      dtype='object')"
      ]
     },
     "execution_count": 21,
     "metadata": {},
     "output_type": "execute_result"
    }
   ],
   "source": [
    "df.columns"
   ]
  },
  {
   "cell_type": "code",
   "execution_count": 22,
   "id": "4ffb3e55-f913-43d9-b4a6-9d8010eb2b6c",
   "metadata": {},
   "outputs": [
    {
     "data": {
      "text/plain": [
       "array([1., 1., 1., ..., 1., 1., 1.])"
      ]
     },
     "execution_count": 22,
     "metadata": {},
     "output_type": "execute_result"
    }
   ],
   "source": [
    "# feature selection\n",
    "\n",
    "x = df[['Temperature_C', 'Humidity', 'Wind_speed_kmph',\n",
    "       'Wind_bearing_degrees', 'Visibility_km', 'Pressure_millibars',\n",
    "       'Weather_condition']].values\n",
    "\n",
    "y = df['Future_Weather_Condition'].values\n",
    "y"
   ]
  },
  {
   "cell_type": "code",
   "execution_count": 23,
   "id": "8c389f28-f969-40ef-bd86-48bb28bdd2ad",
   "metadata": {},
   "outputs": [],
   "source": [
    "from sklearn.model_selection import train_test_split\n",
    "\n",
    "xtrain, xtest, ytrain, ytest = train_test_split(x, y, test_size=0.2, random_state=1)"
   ]
  },
  {
   "cell_type": "code",
   "execution_count": 25,
   "id": "eadd7eca-1206-475d-adfa-fad8a378a988",
   "metadata": {},
   "outputs": [],
   "source": [
    "from sklearn.preprocessing import StandardScaler"
   ]
  },
  {
   "cell_type": "code",
   "execution_count": 26,
   "id": "00986ba2-5d92-4ab2-b729-e30a12d2f277",
   "metadata": {},
   "outputs": [],
   "source": [
    "sc = StandardScaler()"
   ]
  },
  {
   "cell_type": "code",
   "execution_count": 27,
   "id": "96443fe7-6050-4e57-be43-deeaaae61c1b",
   "metadata": {},
   "outputs": [],
   "source": [
    "xtrain = sc.fit_transform(xtrain)\n",
    "\n",
    "xtest = sc.transform(xtest)"
   ]
  },
  {
   "cell_type": "markdown",
   "id": "32cd64fd-2686-4db4-b24b-2493efe85a0c",
   "metadata": {},
   "source": [
    "# Model Training \n",
    "\n",
    "\n",
    "## 1 - Support Vector Machine"
   ]
  },
  {
   "cell_type": "code",
   "execution_count": 28,
   "id": "9fbdd95a-8751-429f-8d93-ada086c2ff4c",
   "metadata": {},
   "outputs": [
    {
     "name": "stderr",
     "output_type": "stream",
     "text": [
      "2023/11/03 14:37:47 INFO mlflow.tracking.fluent: Experiment with name 'mlflow-support-vector-machine' does not exist. Creating a new experiment.\n"
     ]
    },
    {
     "data": {
      "text/plain": [
       "<Experiment: artifact_location='', creation_time=1699022267492, experiment_id='6ac17452-2241-4093-acfd-7405b271cab5', last_update_time=None, lifecycle_stage='active', name='mlflow-support-vector-machine', tags={}>"
      ]
     },
     "execution_count": 28,
     "metadata": {},
     "output_type": "execute_result"
    }
   ],
   "source": [
    "myexperiment = Experiment(workspace, \"support-vector-machine\")  # for monitoring and logging\n",
    "\n",
    "mlflow.set_experiment(\"mlflow-support-vector-machine\")"
   ]
  },
  {
   "cell_type": "code",
   "execution_count": 36,
   "id": "c2d57c5b-62cf-4ac3-8ae0-0c2941068def",
   "metadata": {},
   "outputs": [],
   "source": [
    "from sklearn import svm, datasets\n",
    "from sklearn.model_selection import GridSearchCV"
   ]
  },
  {
   "cell_type": "code",
   "execution_count": 37,
   "id": "86e251b3-dc6c-47be-b38b-4711d8989c2a",
   "metadata": {},
   "outputs": [],
   "source": [
    "parameters = { 'kernel':('linear', 'rbf'), 'C':[1,10] }"
   ]
  },
  {
   "cell_type": "code",
   "execution_count": 38,
   "id": "bebb3327-f249-420c-86ab-3c5a13d3cd2b",
   "metadata": {},
   "outputs": [],
   "source": [
    "svc = svm.SVC()  # support vector classifier"
   ]
  },
  {
   "cell_type": "code",
   "execution_count": 33,
   "id": "38e5b412-cdc9-4aed-9f47-b0ec36d7f76d",
   "metadata": {},
   "outputs": [],
   "source": [
    "# initialize a run in Azureml and mlflow experiments\n",
    "\n",
    "run = myexperiment.start_logging()\n",
    "mlflow.start_run()\n",
    "\n",
    "run.log(\"dataset name\", dataset.name)\n",
    "run.log(\"dataset version\", dataset.version)"
   ]
  },
  {
   "cell_type": "code",
   "execution_count": 39,
   "id": "5aa4bab9-0106-4bd2-945d-e288c8e1f206",
   "metadata": {},
   "outputs": [],
   "source": [
    "svc_grid = GridSearchCV(svc, parameters)"
   ]
  },
  {
   "cell_type": "code",
   "execution_count": 40,
   "id": "770ba204-de1f-433f-9a3d-e0d17538630f",
   "metadata": {},
   "outputs": [
    {
     "data": {
      "text/plain": [
       "GridSearchCV(cv=None, error_score=nan,\n",
       "             estimator=SVC(C=1.0, break_ties=False, cache_size=200,\n",
       "                           class_weight=None, coef0=0.0,\n",
       "                           decision_function_shape='ovr', degree=3,\n",
       "                           gamma='scale', kernel='rbf', max_iter=-1,\n",
       "                           probability=False, random_state=None, shrinking=True,\n",
       "                           tol=0.001, verbose=False),\n",
       "             iid='deprecated', n_jobs=None,\n",
       "             param_grid={'C': [1, 10], 'kernel': ('linear', 'rbf')},\n",
       "             pre_dispatch='2*n_jobs', refit=True, return_train_score=False,\n",
       "             scoring=None, verbose=0)"
      ]
     },
     "execution_count": 40,
     "metadata": {},
     "output_type": "execute_result"
    }
   ],
   "source": [
    "svc_grid.fit(xtrain, ytrain)"
   ]
  },
  {
   "cell_type": "code",
   "execution_count": 41,
   "id": "641f00ad-2420-470e-9f3b-e5e9dbb57d25",
   "metadata": {},
   "outputs": [
    {
     "data": {
      "text/plain": [
       "{'cv': None,\n",
       " 'error_score': nan,\n",
       " 'estimator__C': 1.0,\n",
       " 'estimator__break_ties': False,\n",
       " 'estimator__cache_size': 200,\n",
       " 'estimator__class_weight': None,\n",
       " 'estimator__coef0': 0.0,\n",
       " 'estimator__decision_function_shape': 'ovr',\n",
       " 'estimator__degree': 3,\n",
       " 'estimator__gamma': 'scale',\n",
       " 'estimator__kernel': 'rbf',\n",
       " 'estimator__max_iter': -1,\n",
       " 'estimator__probability': False,\n",
       " 'estimator__random_state': None,\n",
       " 'estimator__shrinking': True,\n",
       " 'estimator__tol': 0.001,\n",
       " 'estimator__verbose': False,\n",
       " 'estimator': SVC(C=1.0, break_ties=False, cache_size=200, class_weight=None, coef0=0.0,\n",
       "     decision_function_shape='ovr', degree=3, gamma='scale', kernel='rbf',\n",
       "     max_iter=-1, probability=False, random_state=None, shrinking=True,\n",
       "     tol=0.001, verbose=False),\n",
       " 'iid': 'deprecated',\n",
       " 'n_jobs': None,\n",
       " 'param_grid': {'kernel': ('linear', 'rbf'), 'C': [1, 10]},\n",
       " 'pre_dispatch': '2*n_jobs',\n",
       " 'refit': True,\n",
       " 'return_train_score': False,\n",
       " 'scoring': None,\n",
       " 'verbose': 0}"
      ]
     },
     "execution_count": 41,
     "metadata": {},
     "output_type": "execute_result"
    }
   ],
   "source": [
    "svc_grid.get_params(deep=True)"
   ]
  },
  {
   "cell_type": "code",
   "execution_count": 42,
   "id": "c4a373aa-1fc8-43f9-90d8-0492d4f90f53",
   "metadata": {},
   "outputs": [],
   "source": [
    "from sklearn.svm import SVC\n",
    "\n",
    "svc = SVC(C=svc_grid.get_params(deep=True)['estimator__C'],\n",
    "         kernel=svc_grid.get_params(deep=True)['estimator__kernel'])"
   ]
  },
  {
   "cell_type": "code",
   "execution_count": 43,
   "id": "8c67e3e9-1791-4ecf-984f-ff8d0861c5cc",
   "metadata": {},
   "outputs": [
    {
     "data": {
      "text/plain": [
       "SVC(C=1.0, break_ties=False, cache_size=200, class_weight=None, coef0=0.0,\n",
       "    decision_function_shape='ovr', degree=3, gamma='scale', kernel='rbf',\n",
       "    max_iter=-1, probability=False, random_state=None, shrinking=True,\n",
       "    tol=0.001, verbose=False)"
      ]
     },
     "execution_count": 43,
     "metadata": {},
     "output_type": "execute_result"
    }
   ],
   "source": [
    "svc.fit(xtrain, ytrain)"
   ]
  },
  {
   "cell_type": "code",
   "execution_count": 44,
   "id": "7fa87b33-14a6-4620-b79d-28b87223aed4",
   "metadata": {},
   "outputs": [],
   "source": [
    "# logging parameters to Azureml and mlflow\n",
    "\n",
    "run.log(\"C\", svc_grid.get_params(deep=True)['estimator__C'])\n",
    "run.log(\"Kernel\", svc_grid.get_params(deep=True)['estimator__kernel'])"
   ]
  },
  {
   "cell_type": "code",
   "execution_count": 45,
   "id": "3a02b202-1216-4ac0-b543-f1a5983e8ca3",
   "metadata": {},
   "outputs": [],
   "source": [
    "from sklearn.metrics import accuracy_score, precision_score, recall_score\n",
    "\n",
    "predicted_svc = svc.predict(xtest)"
   ]
  },
  {
   "cell_type": "code",
   "execution_count": 46,
   "id": "e6c5cd65-8f17-4c76-a849-20e7993a50e3",
   "metadata": {},
   "outputs": [],
   "source": [
    "acc = accuracy_score(ytest, predicted_svc)\n",
    "precision = precision_score(ytest, predicted_svc)\n",
    "recall = recall_score(ytest, predicted_svc)"
   ]
  },
  {
   "cell_type": "code",
   "execution_count": 47,
   "id": "764688dc-c698-4c84-8770-80e68c0ac115",
   "metadata": {},
   "outputs": [],
   "source": [
    "run.log(\"Test accuracy\", acc)\n",
    "run.log(\"Precision\", precision)\n",
    "run.log(\"Recall\", recall)"
   ]
  },
  {
   "cell_type": "code",
   "execution_count": 48,
   "id": "b62379ea-da86-41fa-9cc7-e19ece71b6b6",
   "metadata": {},
   "outputs": [
    {
     "data": {
      "text/plain": [
       "0.9496500777604977"
      ]
     },
     "execution_count": 48,
     "metadata": {},
     "output_type": "execute_result"
    }
   ],
   "source": [
    "acc"
   ]
  },
  {
   "cell_type": "code",
   "execution_count": 49,
   "id": "74ec0f94-cfe6-4399-b4c2-2994b2873aec",
   "metadata": {},
   "outputs": [
    {
     "data": {
      "text/plain": [
       "0.9692012967875037"
      ]
     },
     "execution_count": 49,
     "metadata": {},
     "output_type": "execute_result"
    }
   ],
   "source": [
    "precision"
   ]
  },
  {
   "cell_type": "code",
   "execution_count": 50,
   "id": "d16c967c-42f9-41ee-8a67-2b02851e64ea",
   "metadata": {},
   "outputs": [
    {
     "data": {
      "text/plain": [
       "{'dataset name': 'training_dataset',\n",
       " 'dataset version': 1,\n",
       " 'Kernel': 'rbf',\n",
       " 'C': 1.0,\n",
       " 'Precision': 0.9692012967875037,\n",
       " 'Test accuracy': 0.9496500777604977,\n",
       " 'Recall': 0.9734329904536373}"
      ]
     },
     "execution_count": 50,
     "metadata": {},
     "output_type": "execute_result"
    }
   ],
   "source": [
    "run.get_metrics()"
   ]
  },
  {
   "cell_type": "code",
   "execution_count": 51,
   "id": "ed89e3e7-218e-4bb0-adeb-8eb2c07f774a",
   "metadata": {},
   "outputs": [
    {
     "name": "stdout",
     "output_type": "stream",
     "text": [
      "Run ID 62729f4a-8376-412e-9b6c-acc46b0736eb\n"
     ]
    }
   ],
   "source": [
    "run.complete()\n",
    "\n",
    "print(\"Run ID\", run.id)"
   ]
  },
  {
   "cell_type": "code",
   "execution_count": 57,
   "id": "0743ee91-44f5-4530-9b10-7dffd98a46ce",
   "metadata": {},
   "outputs": [],
   "source": [
    "mlflow.end_run()"
   ]
  },
  {
   "cell_type": "code",
   "execution_count": 52,
   "id": "ed873949-81ed-4886-8e20-ad38a0179333",
   "metadata": {},
   "outputs": [
    {
     "data": {
      "text/plain": [
       "{'id': '/subscriptions/7a12af0d-a67c-4fb2-85ce-acb1b512790a/resourceGroups/MLOps/providers/Microsoft.MachineLearningServices/workspaces/MLOps_WS',\n",
       " 'name': 'MLOps_WS',\n",
       " 'identity': {'principal_id': 'fbed4930-dabe-4bd4-8ec7-dde3cfb27cf6',\n",
       "  'tenant_id': '207d936e-f035-4978-85cc-8b810421b510',\n",
       "  'type': 'SystemAssigned'},\n",
       " 'location': 'eastus2',\n",
       " 'type': 'Microsoft.MachineLearningServices/workspaces',\n",
       " 'tags': {},\n",
       " 'sku': 'Basic',\n",
       " 'workspaceid': '720a7946-3ec3-49c5-b38f-d9778859842f',\n",
       " 'sdkTelemetryAppInsightsKey': '066b0d89-53d2-4b58-8bc8-ac382527e4fb',\n",
       " 'description': '',\n",
       " 'friendlyName': 'MLOps_WS',\n",
       " 'creationTime': '2023-10-31T12:02:24.1333751Z',\n",
       " 'keyVault': '/subscriptions/7a12af0d-a67c-4fb2-85ce-acb1b512790a/resourceGroups/MLOps/providers/Microsoft.Keyvault/vaults/mlopsws6971472015',\n",
       " 'applicationInsights': '/subscriptions/7a12af0d-a67c-4fb2-85ce-acb1b512790a/resourceGroups/MLOps/providers/Microsoft.insights/components/mlopsws3340088976',\n",
       " 'storageAccount': '/subscriptions/7a12af0d-a67c-4fb2-85ce-acb1b512790a/resourceGroups/MLOps/providers/Microsoft.Storage/storageAccounts/mlopsws0503938196',\n",
       " 'hbiWorkspace': False,\n",
       " 'provisioningState': 'Succeeded',\n",
       " 'discoveryUrl': 'https://eastus2.api.azureml.ms/discovery',\n",
       " 'notebookInfo': {'fqdn': 'ml-mlopsws-eastus2-720a7946-3ec3-49c5-b38f-d9778859842f.eastus2.notebooks.azure.net',\n",
       "  'resource_id': '2c5212e65345489fa39353ade3977d0e'},\n",
       " 'v1LegacyMode': False}"
      ]
     },
     "execution_count": 52,
     "metadata": {},
     "output_type": "execute_result"
    }
   ],
   "source": [
    "workspace.get_details()"
   ]
  },
  {
   "cell_type": "markdown",
   "id": "e4b9707b-ccd8-4ef2-9ea3-a0a5da879efd",
   "metadata": {},
   "source": [
    "## 2 - Random Forest Classifier"
   ]
  },
  {
   "cell_type": "code",
   "execution_count": 53,
   "id": "436c4d34-7b8a-435b-b1bb-e94badc258da",
   "metadata": {},
   "outputs": [
    {
     "name": "stderr",
     "output_type": "stream",
     "text": [
      "2023/11/03 15:25:26 INFO mlflow.tracking.fluent: Experiment with name 'mlflow-random-forest-classifier' does not exist. Creating a new experiment.\n"
     ]
    },
    {
     "data": {
      "text/plain": [
       "<Experiment: artifact_location='', creation_time=1699025126540, experiment_id='8b12e835-fbb9-4a77-8329-88aad6ce4991', last_update_time=None, lifecycle_stage='active', name='mlflow-random-forest-classifier', tags={}>"
      ]
     },
     "execution_count": 53,
     "metadata": {},
     "output_type": "execute_result"
    }
   ],
   "source": [
    "myexperiment = Experiment(workspace, \"random-forest-classifier\")  # for monitoring and logging\n",
    "\n",
    "mlflow.set_experiment(\"mlflow-random-forest-classifier\")"
   ]
  },
  {
   "cell_type": "code",
   "execution_count": 54,
   "id": "055073b1-85c6-48ac-af82-1cf6ddd4a9e4",
   "metadata": {},
   "outputs": [],
   "source": [
    "from sklearn.ensemble import RandomForestClassifier"
   ]
  },
  {
   "cell_type": "code",
   "execution_count": 55,
   "id": "a65b7e55-0139-43d6-be3a-b5baedd4c94d",
   "metadata": {},
   "outputs": [],
   "source": [
    "rf = RandomForestClassifier(max_depth=10, random_state=0, n_estimators=100)"
   ]
  },
  {
   "cell_type": "code",
   "execution_count": 58,
   "id": "0a21eba3-746d-4d0e-9dad-f7ba804cfd03",
   "metadata": {},
   "outputs": [],
   "source": [
    "# initialize the Azureml and mlflow\n",
    "\n",
    "run = myexperiment.start_logging()\n",
    "mlflow.start_run()\n",
    "\n",
    "run.log(\"dataset name\", dataset.name)\n",
    "run.log(\"dataset version\", dataset.version)"
   ]
  },
  {
   "cell_type": "code",
   "execution_count": 59,
   "id": "10d80d8c-b6b3-4e05-a813-f5527efd23a1",
   "metadata": {},
   "outputs": [
    {
     "data": {
      "text/plain": [
       "RandomForestClassifier(bootstrap=True, ccp_alpha=0.0, class_weight=None,\n",
       "                       criterion='gini', max_depth=10, max_features='auto',\n",
       "                       max_leaf_nodes=None, max_samples=None,\n",
       "                       min_impurity_decrease=0.0, min_impurity_split=None,\n",
       "                       min_samples_leaf=1, min_samples_split=2,\n",
       "                       min_weight_fraction_leaf=0.0, n_estimators=100,\n",
       "                       n_jobs=None, oob_score=False, random_state=0, verbose=0,\n",
       "                       warm_start=False)"
      ]
     },
     "execution_count": 59,
     "metadata": {},
     "output_type": "execute_result"
    }
   ],
   "source": [
    "rf.fit(xtrain, ytrain)"
   ]
  },
  {
   "cell_type": "code",
   "execution_count": 60,
   "id": "d63cc4f7-07af-4751-bd5c-4bf4ae1a664e",
   "metadata": {},
   "outputs": [],
   "source": [
    "run.log(\"max_depth\", 10)\n",
    "run.log(\"random_state\", 0)\n",
    "run.log(\"n_enstimators\", 100)"
   ]
  },
  {
   "cell_type": "code",
   "execution_count": 61,
   "id": "1205095c-cceb-408e-bd21-5a50a5d770e5",
   "metadata": {},
   "outputs": [],
   "source": [
    "predicted_rf = rf.predict(xtest)"
   ]
  },
  {
   "cell_type": "code",
   "execution_count": 62,
   "id": "1be748bf-aa44-4c99-837e-c19c8c95ed62",
   "metadata": {},
   "outputs": [],
   "source": [
    "acc = accuracy_score(ytest, predicted_rf)\n",
    "precision = precision_score(ytest, predicted_rf)\n",
    "recall = recall_score(ytest, predicted_rf)"
   ]
  },
  {
   "cell_type": "code",
   "execution_count": 63,
   "id": "3f6494cb-888c-4546-8453-7e7a68f962af",
   "metadata": {},
   "outputs": [],
   "source": [
    "run.log(\"Test accuracy\", acc)\n",
    "run.log(\"Precision\", precision)\n",
    "run.log(\"Recall\", recall)"
   ]
  },
  {
   "cell_type": "code",
   "execution_count": 64,
   "id": "d145ab83-2a0b-44de-895d-c7db0cd6a9f8",
   "metadata": {},
   "outputs": [
    {
     "name": "stdout",
     "output_type": "stream",
     "text": [
      "Run ID 1e545301-aede-4a26-b99f-601a3c33a676\n"
     ]
    }
   ],
   "source": [
    "run.complete()\n",
    "\n",
    "print(\"Run ID\", run.id)"
   ]
  },
  {
   "cell_type": "code",
   "execution_count": 65,
   "id": "16e82e61-2183-4a4f-b22d-944fcdf5f4c2",
   "metadata": {},
   "outputs": [],
   "source": [
    "mlflow.end_run()"
   ]
  },
  {
   "cell_type": "code",
   "execution_count": 66,
   "id": "dd6cae5b-f292-4a07-8608-6b1491da6a15",
   "metadata": {},
   "outputs": [
    {
     "data": {
      "text/plain": [
       "{'runId': '1e545301-aede-4a26-b99f-601a3c33a676',\n",
       " 'target': 'local',\n",
       " 'status': 'Completed',\n",
       " 'startTimeUtc': '2023-11-03T15:27:57.838347Z',\n",
       " 'endTimeUtc': '2023-11-03T15:31:11.46767Z',\n",
       " 'services': {},\n",
       " 'properties': {'ContentSnapshotId': 'e9fb45c8-9b1e-4652-a76d-3006293b8ffd'},\n",
       " 'inputDatasets': [],\n",
       " 'outputDatasets': [],\n",
       " 'logFiles': {},\n",
       " 'submittedBy': 'Himanshu Ramchandani'}"
      ]
     },
     "execution_count": 66,
     "metadata": {},
     "output_type": "execute_result"
    }
   ],
   "source": [
    "run.get_details()"
   ]
  },
  {
   "cell_type": "code",
   "execution_count": 67,
   "id": "66b44185-9e04-45c7-a7af-4c3ea4d56274",
   "metadata": {},
   "outputs": [
    {
     "data": {
      "text/plain": [
       "{'dataset name': 'training_dataset',\n",
       " 'dataset version': 1,\n",
       " 'max_depth': 10,\n",
       " 'n_enstimators': 100,\n",
       " 'random_state': 0,\n",
       " 'Precision': 0.9706878774488142,\n",
       " 'Recall': 0.9753570635684156,\n",
       " 'Test accuracy': 0.9526308968377397}"
      ]
     },
     "execution_count": 67,
     "metadata": {},
     "output_type": "execute_result"
    }
   ],
   "source": [
    "run.get_metrics()"
   ]
  },
  {
   "cell_type": "markdown",
   "id": "4617c83a-7a24-4291-abbb-6ac3c8e555c8",
   "metadata": {},
   "source": [
    "# Model Packaging\n",
    "\n",
    "compantability and interoperability issues"
   ]
  },
  {
   "cell_type": "code",
   "execution_count": 68,
   "id": "54656c14-cc2d-495a-bd02-ab4fe9a01086",
   "metadata": {},
   "outputs": [
    {
     "name": "stderr",
     "output_type": "stream",
     "text": [
      "The maximum opset needed by this model is only 1.\n"
     ]
    }
   ],
   "source": [
    "# ONNX - Open Neural Network Exchange\n",
    "\n",
    "# convert SVC model into ONNX format file\n",
    "\n",
    "from skl2onnx import convert_sklearn\n",
    "from skl2onnx.common.data_types import FloatTensorType\n",
    "\n",
    "initial_type = [('float_input', FloatTensorType([None, 6]))] # doubt\n",
    "\n",
    "onx = convert_sklearn(svc, initial_types=initial_type)\n",
    "\n",
    "with open(\"outputs/svc.onnx\", \"wb\") as f:\n",
    "    f.write(onx.SerializeToString())"
   ]
  },
  {
   "cell_type": "code",
   "execution_count": 69,
   "id": "37e525fc-68c0-4187-bd57-bafbe401f3a1",
   "metadata": {},
   "outputs": [
    {
     "name": "stderr",
     "output_type": "stream",
     "text": [
      "The maximum opset needed by this model is only 9.\n",
      "The maximum opset needed by this model is only 1.\n"
     ]
    }
   ],
   "source": [
    "# ONNX - Open Neural Network Exchange\n",
    "\n",
    "# convert rf model into ONNX format file\n",
    "\n",
    "from skl2onnx import convert_sklearn\n",
    "from skl2onnx.common.data_types import FloatTensorType\n",
    "\n",
    "initial_type = [('float_input', FloatTensorType([None, 6]))] # doubt\n",
    "\n",
    "onx = convert_sklearn(rf, initial_types=initial_type)\n",
    "\n",
    "with open(\"outputs/rf.onnx\", \"wb\") as f:\n",
    "    f.write(onx.SerializeToString())"
   ]
  },
  {
   "cell_type": "markdown",
   "id": "2f03b877-60d3-430b-a0f5-5d6e3f91656f",
   "metadata": {},
   "source": [
    "# Model Registering"
   ]
  },
  {
   "cell_type": "code",
   "execution_count": 71,
   "id": "777878e7-c522-4724-876f-d9c511130987",
   "metadata": {},
   "outputs": [
    {
     "data": {
      "text/plain": [
       "'1.1.5'"
      ]
     },
     "execution_count": 71,
     "metadata": {},
     "output_type": "execute_result"
    }
   ],
   "source": [
    "pd.__version__"
   ]
  },
  {
   "cell_type": "code",
   "execution_count": 72,
   "id": "0083195e-216f-4525-9de6-51e8bfc8d6c0",
   "metadata": {},
   "outputs": [
    {
     "name": "stdout",
     "output_type": "stream",
     "text": [
      "Registering model support-vector-classifier\n",
      "Name support-vector-classifier\n",
      "Version 1\n"
     ]
    }
   ],
   "source": [
    "# Register to Azure WS\n",
    "\n",
    "model = Model.register(model_path='./outputs/svc.onnx',\n",
    "                      model_name='support-vector-classifier',\n",
    "                      tags={ 'dataset':dataset.name,\n",
    "                            'version': dataset.version,\n",
    "                            'hyperparameter-C': '1',\n",
    "                            'testdata-accuracy': '0.9496'\n",
    "                      },\n",
    "                       model_framework='pandas==1.1.5',\n",
    "                       description='Support vector classifier to predict weather',\n",
    "                       workspace=workspace)\n",
    "\n",
    "print('Name', model.name)\n",
    "print('Version', model.version)"
   ]
  },
  {
   "cell_type": "code",
   "execution_count": 73,
   "id": "140aad51-25f1-4855-a046-0ba1bae6811e",
   "metadata": {},
   "outputs": [
    {
     "name": "stdout",
     "output_type": "stream",
     "text": [
      "Registering model random-forest-classifier\n",
      "Name random-forest-classifier\n",
      "Version 1\n"
     ]
    }
   ],
   "source": [
    "# Register to Azure WS\n",
    "\n",
    "model = Model.register(model_path='./outputs/rf.onnx',\n",
    "                      model_name='random-forest-classifier',\n",
    "                      tags={ 'dataset':dataset.name,\n",
    "                            'version': dataset.version,\n",
    "                            'hyperparameter-C': '1',\n",
    "                            'testdata-accuracy': '0.9526'\n",
    "                      },\n",
    "                       model_framework='pandas==1.1.5',\n",
    "                       description='Random Forest classifier to predict weather',\n",
    "                       workspace=workspace)\n",
    "\n",
    "print('Name', model.name)\n",
    "print('Version', model.version)"
   ]
  },
  {
   "cell_type": "code",
   "execution_count": null,
   "id": "4dccc3ac-801b-4102-8844-4ec18fde806d",
   "metadata": {},
   "outputs": [],
   "source": []
  }
 ],
 "metadata": {
  "kernelspec": {
   "display_name": "Python 3.8 - AzureML",
   "language": "python",
   "name": "python38-azureml"
  },
  "language_info": {
   "codemirror_mode": {
    "name": "ipython",
    "version": 3
   },
   "file_extension": ".py",
   "mimetype": "text/x-python",
   "name": "python",
   "nbconvert_exporter": "python",
   "pygments_lexer": "ipython3",
   "version": "3.8.5"
  }
 },
 "nbformat": 4,
 "nbformat_minor": 5
}
