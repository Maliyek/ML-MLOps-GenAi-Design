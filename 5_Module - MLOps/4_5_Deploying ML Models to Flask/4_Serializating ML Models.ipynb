{
 "cells": [
  {
   "cell_type": "markdown",
   "id": "598017a9",
   "metadata": {},
   "source": [
    "# Serializating ML Models"
   ]
  },
  {
   "cell_type": "code",
   "execution_count": null,
   "id": "db3a5f42",
   "metadata": {},
   "outputs": [],
   "source": [
    "- serialize ml models\n",
    "    - json\n",
    "    - pickle\n",
    "    - joblib\n",
    "\n",
    "- resume training from checkpoint"
   ]
  },
  {
   "cell_type": "code",
   "execution_count": 1,
   "id": "fbd578a3",
   "metadata": {},
   "outputs": [],
   "source": [
    "import numpy as np\n",
    "import pandas as pd"
   ]
  },
  {
   "cell_type": "code",
   "execution_count": 2,
   "id": "dc42430d",
   "metadata": {},
   "outputs": [
    {
     "data": {
      "text/html": [
       "<div>\n",
       "<style scoped>\n",
       "    .dataframe tbody tr th:only-of-type {\n",
       "        vertical-align: middle;\n",
       "    }\n",
       "\n",
       "    .dataframe tbody tr th {\n",
       "        vertical-align: top;\n",
       "    }\n",
       "\n",
       "    .dataframe thead th {\n",
       "        text-align: right;\n",
       "    }\n",
       "</style>\n",
       "<table border=\"1\" class=\"dataframe\">\n",
       "  <thead>\n",
       "    <tr style=\"text-align: right;\">\n",
       "      <th></th>\n",
       "      <th>car_ID</th>\n",
       "      <th>symboling</th>\n",
       "      <th>CarName</th>\n",
       "      <th>fueltype</th>\n",
       "      <th>aspiration</th>\n",
       "      <th>doornumber</th>\n",
       "      <th>carbody</th>\n",
       "      <th>drivewheel</th>\n",
       "      <th>enginelocation</th>\n",
       "      <th>wheelbase</th>\n",
       "      <th>...</th>\n",
       "      <th>enginesize</th>\n",
       "      <th>fuelsystem</th>\n",
       "      <th>boreratio</th>\n",
       "      <th>stroke</th>\n",
       "      <th>compressionratio</th>\n",
       "      <th>horsepower</th>\n",
       "      <th>peakrpm</th>\n",
       "      <th>citympg</th>\n",
       "      <th>highwaympg</th>\n",
       "      <th>price</th>\n",
       "    </tr>\n",
       "  </thead>\n",
       "  <tbody>\n",
       "    <tr>\n",
       "      <th>0</th>\n",
       "      <td>1</td>\n",
       "      <td>3</td>\n",
       "      <td>alfa-romero giulia</td>\n",
       "      <td>gas</td>\n",
       "      <td>std</td>\n",
       "      <td>two</td>\n",
       "      <td>convertible</td>\n",
       "      <td>rwd</td>\n",
       "      <td>front</td>\n",
       "      <td>88.6</td>\n",
       "      <td>...</td>\n",
       "      <td>130</td>\n",
       "      <td>mpfi</td>\n",
       "      <td>3.47</td>\n",
       "      <td>2.68</td>\n",
       "      <td>9.0</td>\n",
       "      <td>111</td>\n",
       "      <td>5000</td>\n",
       "      <td>21</td>\n",
       "      <td>27</td>\n",
       "      <td>13495.0</td>\n",
       "    </tr>\n",
       "    <tr>\n",
       "      <th>1</th>\n",
       "      <td>2</td>\n",
       "      <td>3</td>\n",
       "      <td>alfa-romero stelvio</td>\n",
       "      <td>gas</td>\n",
       "      <td>std</td>\n",
       "      <td>two</td>\n",
       "      <td>convertible</td>\n",
       "      <td>rwd</td>\n",
       "      <td>front</td>\n",
       "      <td>88.6</td>\n",
       "      <td>...</td>\n",
       "      <td>130</td>\n",
       "      <td>mpfi</td>\n",
       "      <td>3.47</td>\n",
       "      <td>2.68</td>\n",
       "      <td>9.0</td>\n",
       "      <td>111</td>\n",
       "      <td>5000</td>\n",
       "      <td>21</td>\n",
       "      <td>27</td>\n",
       "      <td>16500.0</td>\n",
       "    </tr>\n",
       "    <tr>\n",
       "      <th>2</th>\n",
       "      <td>3</td>\n",
       "      <td>1</td>\n",
       "      <td>alfa-romero Quadrifoglio</td>\n",
       "      <td>gas</td>\n",
       "      <td>std</td>\n",
       "      <td>two</td>\n",
       "      <td>hatchback</td>\n",
       "      <td>rwd</td>\n",
       "      <td>front</td>\n",
       "      <td>94.5</td>\n",
       "      <td>...</td>\n",
       "      <td>152</td>\n",
       "      <td>mpfi</td>\n",
       "      <td>2.68</td>\n",
       "      <td>3.47</td>\n",
       "      <td>9.0</td>\n",
       "      <td>154</td>\n",
       "      <td>5000</td>\n",
       "      <td>19</td>\n",
       "      <td>26</td>\n",
       "      <td>16500.0</td>\n",
       "    </tr>\n",
       "    <tr>\n",
       "      <th>3</th>\n",
       "      <td>4</td>\n",
       "      <td>2</td>\n",
       "      <td>audi 100 ls</td>\n",
       "      <td>gas</td>\n",
       "      <td>std</td>\n",
       "      <td>four</td>\n",
       "      <td>sedan</td>\n",
       "      <td>fwd</td>\n",
       "      <td>front</td>\n",
       "      <td>99.8</td>\n",
       "      <td>...</td>\n",
       "      <td>109</td>\n",
       "      <td>mpfi</td>\n",
       "      <td>3.19</td>\n",
       "      <td>3.40</td>\n",
       "      <td>10.0</td>\n",
       "      <td>102</td>\n",
       "      <td>5500</td>\n",
       "      <td>24</td>\n",
       "      <td>30</td>\n",
       "      <td>13950.0</td>\n",
       "    </tr>\n",
       "    <tr>\n",
       "      <th>4</th>\n",
       "      <td>5</td>\n",
       "      <td>2</td>\n",
       "      <td>audi 100ls</td>\n",
       "      <td>gas</td>\n",
       "      <td>std</td>\n",
       "      <td>four</td>\n",
       "      <td>sedan</td>\n",
       "      <td>4wd</td>\n",
       "      <td>front</td>\n",
       "      <td>99.4</td>\n",
       "      <td>...</td>\n",
       "      <td>136</td>\n",
       "      <td>mpfi</td>\n",
       "      <td>3.19</td>\n",
       "      <td>3.40</td>\n",
       "      <td>8.0</td>\n",
       "      <td>115</td>\n",
       "      <td>5500</td>\n",
       "      <td>18</td>\n",
       "      <td>22</td>\n",
       "      <td>17450.0</td>\n",
       "    </tr>\n",
       "  </tbody>\n",
       "</table>\n",
       "<p>5 rows × 26 columns</p>\n",
       "</div>"
      ],
      "text/plain": [
       "   car_ID  symboling                   CarName fueltype aspiration doornumber  \\\n",
       "0       1          3        alfa-romero giulia      gas        std        two   \n",
       "1       2          3       alfa-romero stelvio      gas        std        two   \n",
       "2       3          1  alfa-romero Quadrifoglio      gas        std        two   \n",
       "3       4          2               audi 100 ls      gas        std       four   \n",
       "4       5          2                audi 100ls      gas        std       four   \n",
       "\n",
       "       carbody drivewheel enginelocation  wheelbase  ...  enginesize  \\\n",
       "0  convertible        rwd          front       88.6  ...         130   \n",
       "1  convertible        rwd          front       88.6  ...         130   \n",
       "2    hatchback        rwd          front       94.5  ...         152   \n",
       "3        sedan        fwd          front       99.8  ...         109   \n",
       "4        sedan        4wd          front       99.4  ...         136   \n",
       "\n",
       "   fuelsystem  boreratio  stroke compressionratio horsepower  peakrpm citympg  \\\n",
       "0        mpfi       3.47    2.68              9.0        111     5000      21   \n",
       "1        mpfi       3.47    2.68              9.0        111     5000      21   \n",
       "2        mpfi       2.68    3.47              9.0        154     5000      19   \n",
       "3        mpfi       3.19    3.40             10.0        102     5500      24   \n",
       "4        mpfi       3.19    3.40              8.0        115     5500      18   \n",
       "\n",
       "   highwaympg    price  \n",
       "0          27  13495.0  \n",
       "1          27  16500.0  \n",
       "2          26  16500.0  \n",
       "3          30  13950.0  \n",
       "4          22  17450.0  \n",
       "\n",
       "[5 rows x 26 columns]"
      ]
     },
     "execution_count": 2,
     "metadata": {},
     "output_type": "execute_result"
    }
   ],
   "source": [
    "df = pd.read_csv('CarPrice_Assignment.csv')\n",
    "df.head()"
   ]
  },
  {
   "cell_type": "code",
   "execution_count": 3,
   "id": "b8ff6dcb",
   "metadata": {},
   "outputs": [
    {
     "data": {
      "text/plain": [
       "(205, 26)"
      ]
     },
     "execution_count": 3,
     "metadata": {},
     "output_type": "execute_result"
    }
   ],
   "source": [
    "df.shape"
   ]
  },
  {
   "cell_type": "code",
   "execution_count": 4,
   "id": "2b3c1512",
   "metadata": {},
   "outputs": [
    {
     "data": {
      "text/plain": [
       "Index(['car_ID', 'symboling', 'CarName', 'fueltype', 'aspiration',\n",
       "       'doornumber', 'carbody', 'drivewheel', 'enginelocation', 'wheelbase',\n",
       "       'carlength', 'carwidth', 'carheight', 'curbweight', 'enginetype',\n",
       "       'cylindernumber', 'enginesize', 'fuelsystem', 'boreratio', 'stroke',\n",
       "       'compressionratio', 'horsepower', 'peakrpm', 'citympg', 'highwaympg',\n",
       "       'price'],\n",
       "      dtype='object')"
      ]
     },
     "execution_count": 4,
     "metadata": {},
     "output_type": "execute_result"
    }
   ],
   "source": [
    "df.columns"
   ]
  },
  {
   "cell_type": "code",
   "execution_count": 5,
   "id": "20a94d0d",
   "metadata": {},
   "outputs": [],
   "source": [
    "df.drop(['car_ID', 'symboling', 'CarName'], axis=1, inplace=True)"
   ]
  },
  {
   "cell_type": "code",
   "execution_count": 6,
   "id": "156c065e",
   "metadata": {},
   "outputs": [
    {
     "data": {
      "text/html": [
       "<div>\n",
       "<style scoped>\n",
       "    .dataframe tbody tr th:only-of-type {\n",
       "        vertical-align: middle;\n",
       "    }\n",
       "\n",
       "    .dataframe tbody tr th {\n",
       "        vertical-align: top;\n",
       "    }\n",
       "\n",
       "    .dataframe thead th {\n",
       "        text-align: right;\n",
       "    }\n",
       "</style>\n",
       "<table border=\"1\" class=\"dataframe\">\n",
       "  <thead>\n",
       "    <tr style=\"text-align: right;\">\n",
       "      <th></th>\n",
       "      <th>wheelbase</th>\n",
       "      <th>carlength</th>\n",
       "      <th>carwidth</th>\n",
       "      <th>carheight</th>\n",
       "      <th>curbweight</th>\n",
       "      <th>enginesize</th>\n",
       "      <th>boreratio</th>\n",
       "      <th>stroke</th>\n",
       "      <th>compressionratio</th>\n",
       "      <th>horsepower</th>\n",
       "      <th>...</th>\n",
       "      <th>cylindernumber_twelve</th>\n",
       "      <th>cylindernumber_two</th>\n",
       "      <th>fuelsystem_1bbl</th>\n",
       "      <th>fuelsystem_2bbl</th>\n",
       "      <th>fuelsystem_4bbl</th>\n",
       "      <th>fuelsystem_idi</th>\n",
       "      <th>fuelsystem_mfi</th>\n",
       "      <th>fuelsystem_mpfi</th>\n",
       "      <th>fuelsystem_spdi</th>\n",
       "      <th>fuelsystem_spfi</th>\n",
       "    </tr>\n",
       "  </thead>\n",
       "  <tbody>\n",
       "    <tr>\n",
       "      <th>0</th>\n",
       "      <td>88.6</td>\n",
       "      <td>168.8</td>\n",
       "      <td>64.1</td>\n",
       "      <td>48.8</td>\n",
       "      <td>2548</td>\n",
       "      <td>130</td>\n",
       "      <td>3.47</td>\n",
       "      <td>2.68</td>\n",
       "      <td>9.0</td>\n",
       "      <td>111</td>\n",
       "      <td>...</td>\n",
       "      <td>0</td>\n",
       "      <td>0</td>\n",
       "      <td>0</td>\n",
       "      <td>0</td>\n",
       "      <td>0</td>\n",
       "      <td>0</td>\n",
       "      <td>0</td>\n",
       "      <td>1</td>\n",
       "      <td>0</td>\n",
       "      <td>0</td>\n",
       "    </tr>\n",
       "    <tr>\n",
       "      <th>1</th>\n",
       "      <td>88.6</td>\n",
       "      <td>168.8</td>\n",
       "      <td>64.1</td>\n",
       "      <td>48.8</td>\n",
       "      <td>2548</td>\n",
       "      <td>130</td>\n",
       "      <td>3.47</td>\n",
       "      <td>2.68</td>\n",
       "      <td>9.0</td>\n",
       "      <td>111</td>\n",
       "      <td>...</td>\n",
       "      <td>0</td>\n",
       "      <td>0</td>\n",
       "      <td>0</td>\n",
       "      <td>0</td>\n",
       "      <td>0</td>\n",
       "      <td>0</td>\n",
       "      <td>0</td>\n",
       "      <td>1</td>\n",
       "      <td>0</td>\n",
       "      <td>0</td>\n",
       "    </tr>\n",
       "    <tr>\n",
       "      <th>2</th>\n",
       "      <td>94.5</td>\n",
       "      <td>171.2</td>\n",
       "      <td>65.5</td>\n",
       "      <td>52.4</td>\n",
       "      <td>2823</td>\n",
       "      <td>152</td>\n",
       "      <td>2.68</td>\n",
       "      <td>3.47</td>\n",
       "      <td>9.0</td>\n",
       "      <td>154</td>\n",
       "      <td>...</td>\n",
       "      <td>0</td>\n",
       "      <td>0</td>\n",
       "      <td>0</td>\n",
       "      <td>0</td>\n",
       "      <td>0</td>\n",
       "      <td>0</td>\n",
       "      <td>0</td>\n",
       "      <td>1</td>\n",
       "      <td>0</td>\n",
       "      <td>0</td>\n",
       "    </tr>\n",
       "    <tr>\n",
       "      <th>3</th>\n",
       "      <td>99.8</td>\n",
       "      <td>176.6</td>\n",
       "      <td>66.2</td>\n",
       "      <td>54.3</td>\n",
       "      <td>2337</td>\n",
       "      <td>109</td>\n",
       "      <td>3.19</td>\n",
       "      <td>3.40</td>\n",
       "      <td>10.0</td>\n",
       "      <td>102</td>\n",
       "      <td>...</td>\n",
       "      <td>0</td>\n",
       "      <td>0</td>\n",
       "      <td>0</td>\n",
       "      <td>0</td>\n",
       "      <td>0</td>\n",
       "      <td>0</td>\n",
       "      <td>0</td>\n",
       "      <td>1</td>\n",
       "      <td>0</td>\n",
       "      <td>0</td>\n",
       "    </tr>\n",
       "    <tr>\n",
       "      <th>4</th>\n",
       "      <td>99.4</td>\n",
       "      <td>176.6</td>\n",
       "      <td>66.4</td>\n",
       "      <td>54.3</td>\n",
       "      <td>2824</td>\n",
       "      <td>136</td>\n",
       "      <td>3.19</td>\n",
       "      <td>3.40</td>\n",
       "      <td>8.0</td>\n",
       "      <td>115</td>\n",
       "      <td>...</td>\n",
       "      <td>0</td>\n",
       "      <td>0</td>\n",
       "      <td>0</td>\n",
       "      <td>0</td>\n",
       "      <td>0</td>\n",
       "      <td>0</td>\n",
       "      <td>0</td>\n",
       "      <td>1</td>\n",
       "      <td>0</td>\n",
       "      <td>0</td>\n",
       "    </tr>\n",
       "  </tbody>\n",
       "</table>\n",
       "<p>5 rows × 52 columns</p>\n",
       "</div>"
      ],
      "text/plain": [
       "   wheelbase  carlength  carwidth  carheight  curbweight  enginesize  \\\n",
       "0       88.6      168.8      64.1       48.8        2548         130   \n",
       "1       88.6      168.8      64.1       48.8        2548         130   \n",
       "2       94.5      171.2      65.5       52.4        2823         152   \n",
       "3       99.8      176.6      66.2       54.3        2337         109   \n",
       "4       99.4      176.6      66.4       54.3        2824         136   \n",
       "\n",
       "   boreratio  stroke  compressionratio  horsepower  ...  \\\n",
       "0       3.47    2.68               9.0         111  ...   \n",
       "1       3.47    2.68               9.0         111  ...   \n",
       "2       2.68    3.47               9.0         154  ...   \n",
       "3       3.19    3.40              10.0         102  ...   \n",
       "4       3.19    3.40               8.0         115  ...   \n",
       "\n",
       "   cylindernumber_twelve  cylindernumber_two  fuelsystem_1bbl  \\\n",
       "0                      0                   0                0   \n",
       "1                      0                   0                0   \n",
       "2                      0                   0                0   \n",
       "3                      0                   0                0   \n",
       "4                      0                   0                0   \n",
       "\n",
       "   fuelsystem_2bbl  fuelsystem_4bbl  fuelsystem_idi  fuelsystem_mfi  \\\n",
       "0                0                0               0               0   \n",
       "1                0                0               0               0   \n",
       "2                0                0               0               0   \n",
       "3                0                0               0               0   \n",
       "4                0                0               0               0   \n",
       "\n",
       "   fuelsystem_mpfi  fuelsystem_spdi  fuelsystem_spfi  \n",
       "0                1                0                0  \n",
       "1                1                0                0  \n",
       "2                1                0                0  \n",
       "3                1                0                0  \n",
       "4                1                0                0  \n",
       "\n",
       "[5 rows x 52 columns]"
      ]
     },
     "execution_count": 6,
     "metadata": {},
     "output_type": "execute_result"
    }
   ],
   "source": [
    "df = pd.get_dummies(df)\n",
    "\n",
    "df.head()"
   ]
  },
  {
   "cell_type": "code",
   "execution_count": 7,
   "id": "2c19cbb7",
   "metadata": {},
   "outputs": [
    {
     "data": {
      "text/plain": [
       "(205, 52)"
      ]
     },
     "execution_count": 7,
     "metadata": {},
     "output_type": "execute_result"
    }
   ],
   "source": [
    "df.shape"
   ]
  },
  {
   "cell_type": "code",
   "execution_count": null,
   "id": "f7d70adb",
   "metadata": {},
   "outputs": [],
   "source": [
    "# gender\n",
    "# male\n",
    "# female\n",
    "# male\n",
    "# other\n",
    "\n",
    "# male  female  other\n",
    "#  1     0       0\n",
    "#  0     1       0\n",
    "#  1     0       0\n",
    "#  0     0       1"
   ]
  },
  {
   "cell_type": "code",
   "execution_count": 8,
   "id": "3bc6ab4d",
   "metadata": {},
   "outputs": [],
   "source": [
    "x = df.drop('price', axis=1)\n",
    "\n",
    "y = df['price']"
   ]
  },
  {
   "cell_type": "code",
   "execution_count": 9,
   "id": "06e70f94",
   "metadata": {},
   "outputs": [],
   "source": [
    "from sklearn.model_selection import train_test_split\n",
    "from sklearn.linear_model import LinearRegression\n",
    "from sklearn.metrics import r2_score"
   ]
  },
  {
   "cell_type": "code",
   "execution_count": 10,
   "id": "9b0a4836",
   "metadata": {},
   "outputs": [],
   "source": [
    "xtrain, xtest, ytrain, ytest = train_test_split(x,y, test_size=0.2)"
   ]
  },
  {
   "cell_type": "code",
   "execution_count": 11,
   "id": "c210c07b",
   "metadata": {},
   "outputs": [
    {
     "data": {
      "text/plain": [
       "LinearRegression()"
      ]
     },
     "execution_count": 11,
     "metadata": {},
     "output_type": "execute_result"
    }
   ],
   "source": [
    "model = LinearRegression()\n",
    "\n",
    "model.fit(xtrain, ytrain)"
   ]
  },
  {
   "cell_type": "code",
   "execution_count": 12,
   "id": "11589052",
   "metadata": {},
   "outputs": [
    {
     "data": {
      "text/plain": [
       "0.9544875508395988"
      ]
     },
     "execution_count": 12,
     "metadata": {},
     "output_type": "execute_result"
    }
   ],
   "source": [
    "model.score(xtrain, ytrain)"
   ]
  },
  {
   "cell_type": "code",
   "execution_count": 13,
   "id": "533c93c1",
   "metadata": {},
   "outputs": [
    {
     "data": {
      "text/plain": [
       "array([18619.15757811,  7662.62678786, 20822.50838869, 27539.25567201,\n",
       "       17495.08927843, 11178.52046327,  6409.85832609, 14208.14141144,\n",
       "       18674.54249815, 38283.29871344,  9005.03478484,  6949.49106947,\n",
       "        7853.57661209, 16988.31650221,  9924.86067702,  9147.01488267,\n",
       "        7246.29671961, 30082.33172101,  7854.61605152,  6273.90636822,\n",
       "        5706.27220937, 21211.7248001 , 15423.67305019, 22017.09222772,\n",
       "        9256.81830812,  8404.68250386,  7631.28471913,  8579.88251782,\n",
       "        6409.85832609, 18782.0811832 ,  8368.30556172,  7051.68356244,\n",
       "       11749.7369138 , 13921.41381955, 12282.45164472, 13265.12029092,\n",
       "        9756.9998934 , 10555.05174087,  4690.22826757, 12072.50685247,\n",
       "        8446.72203937])"
      ]
     },
     "execution_count": 13,
     "metadata": {},
     "output_type": "execute_result"
    }
   ],
   "source": [
    "ypred = model.predict(xtest)\n",
    "\n",
    "ypred"
   ]
  },
  {
   "cell_type": "code",
   "execution_count": 14,
   "id": "c1a3f7c5",
   "metadata": {},
   "outputs": [
    {
     "data": {
      "text/plain": [
       "0.8666204914540225"
      ]
     },
     "execution_count": 14,
     "metadata": {},
     "output_type": "execute_result"
    }
   ],
   "source": [
    "r2_score(ytest, ypred)"
   ]
  },
  {
   "cell_type": "markdown",
   "id": "54deb0cc",
   "metadata": {},
   "source": [
    "### Serialize the model coefficients using JSON"
   ]
  },
  {
   "cell_type": "code",
   "execution_count": 15,
   "id": "0200453e",
   "metadata": {},
   "outputs": [
    {
     "data": {
      "text/plain": [
       "array([ 4.36524884e+01, -6.10785249e+01,  7.61964620e+02,  9.34976077e+01,\n",
       "        5.01934211e+00,  1.23387934e+02, -4.09118708e+03, -4.74661863e+03,\n",
       "       -6.53933051e+02, -4.64287530e+00,  1.79595157e+00, -1.46340629e+02,\n",
       "        1.76822298e+02,  3.27598906e+03, -3.27598906e+03, -9.51367821e+02,\n",
       "        9.51367821e+02, -2.90544910e+01,  2.90544910e+01,  2.29549467e+03,\n",
       "       -1.25817425e+03, -3.50647698e+02,  3.75365169e+02, -1.06203789e+03,\n",
       "       -1.17489047e+03, -1.63681304e+02,  1.33857178e+03, -5.01642848e+03,\n",
       "        5.01642848e+03,  1.38304085e+02, -1.90662592e+03, -1.64995839e+03,\n",
       "        2.87251101e+03,  2.11986758e+03, -5.01462751e+03,  3.44052915e+03,\n",
       "        2.80180832e+03, -3.11619579e+03, -3.17227824e+03, -1.13272389e+03,\n",
       "        6.86664437e+03, -5.68778392e+03,  3.44052915e+03,  8.36429021e+02,\n",
       "        6.37722043e+02, -1.09526467e+03,  3.27598906e+03, -1.97816391e+03,\n",
       "        4.42600422e+02, -2.11931197e+03,  0.00000000e+00])"
      ]
     },
     "execution_count": 15,
     "metadata": {},
     "output_type": "execute_result"
    }
   ],
   "source": [
    "model.coef_"
   ]
  },
  {
   "cell_type": "code",
   "execution_count": 16,
   "id": "41a66138",
   "metadata": {},
   "outputs": [
    {
     "data": {
      "text/plain": [
       "-31061.12699703782"
      ]
     },
     "execution_count": 16,
     "metadata": {},
     "output_type": "execute_result"
    }
   ],
   "source": [
    "model.intercept_"
   ]
  },
  {
   "cell_type": "code",
   "execution_count": null,
   "id": "b4bc9226",
   "metadata": {},
   "outputs": [],
   "source": [
    "# JSON - JavaScript Object Notation\n",
    "\n",
    "{\n",
    "    \"name\":\"Amit\",\n",
    "    \n",
    "}"
   ]
  },
  {
   "cell_type": "code",
   "execution_count": 17,
   "id": "d74168bc",
   "metadata": {},
   "outputs": [],
   "source": [
    "model_parameters = {}\n",
    "\n",
    "model_parameters['coef'] = list(model.coef_)\n",
    "model_parameters['intercept'] = model.intercept_.tolist()"
   ]
  },
  {
   "cell_type": "code",
   "execution_count": 19,
   "id": "e9bebb94",
   "metadata": {},
   "outputs": [],
   "source": [
    "# model_parameters"
   ]
  },
  {
   "cell_type": "code",
   "execution_count": 20,
   "id": "61f328cb",
   "metadata": {},
   "outputs": [],
   "source": [
    "import json"
   ]
  },
  {
   "cell_type": "code",
   "execution_count": 21,
   "id": "fcb66710",
   "metadata": {
    "scrolled": true
   },
   "outputs": [
    {
     "data": {
      "text/plain": [
       "'{\\n    \"coef\": [\\n        43.65248842316806,\\n        -61.078524852259385,\\n        761.9646198170216,\\n        93.49760772223024,\\n        5.019342110069658,\\n        123.38793416388835,\\n        -4091.1870813374258,\\n        -4746.618629048639,\\n        -653.9330511773751,\\n        -4.642875300469768,\\n        1.7959515723994173,\\n        -146.34062930295931,\\n        176.82229798527715,\\n        3275.9890613903626,\\n        -3275.9890613903463,\\n        -951.3678206538059,\\n        951.3678206538235,\\n        -29.054490952728486,\\n        29.054490952749944,\\n        2295.4946670032573,\\n        -1258.1742494610746,\\n        -350.64769803584375,\\n        375.36516905570136,\\n        -1062.0378885620553,\\n        -1174.8904709507092,\\n        -163.68130432593617,\\n        1338.5717752766443,\\n        -5016.428481855389,\\n        5016.428481855399,\\n        138.30408451518477,\\n        -1906.625924860555,\\n        -1649.9583949249236,\\n        2872.511011274352,\\n        2119.867583852764,\\n        -5014.6275079904635,\\n        3440.529148133643,\\n        2801.8083188633336,\\n        -3116.195789478773,\\n        -3172.27823888851,\\n        -1132.7238916758988,\\n        6866.644372552781,\\n        -5687.783919506577,\\n        3440.529148133644,\\n        836.4290209667579,\\n        637.72204329493,\\n        -1095.2646690198492,\\n        3275.989061390365,\\n        -1978.163913188037,\\n        442.60042232106923,\\n        -2119.311965765236,\\n        0.0\\n    ],\\n    \"intercept\": -31061.12699703782\\n}'"
      ]
     },
     "execution_count": 21,
     "metadata": {},
     "output_type": "execute_result"
    }
   ],
   "source": [
    "json_text = json.dumps(model_parameters, indent=4)\n",
    "\n",
    "json_text"
   ]
  },
  {
   "cell_type": "code",
   "execution_count": 23,
   "id": "1158c07e",
   "metadata": {},
   "outputs": [],
   "source": [
    "# print(json_text)"
   ]
  },
  {
   "cell_type": "markdown",
   "id": "0d43c872",
   "metadata": {},
   "source": [
    "#### save model parameters into a separate file"
   ]
  },
  {
   "cell_type": "code",
   "execution_count": 24,
   "id": "7670222e",
   "metadata": {},
   "outputs": [],
   "source": [
    "with open('models/regressor_parameters.txt', 'w') as file:\n",
    "    file.write(json_text)"
   ]
  },
  {
   "cell_type": "markdown",
   "id": "0027c308",
   "metadata": {},
   "source": [
    "## Load the json model and generate predictions"
   ]
  },
  {
   "cell_type": "code",
   "execution_count": 25,
   "id": "e86dbed1",
   "metadata": {},
   "outputs": [],
   "source": [
    "with open('models/regressor_parameters.txt', 'r') as file:\n",
    "    json_text_loaded = json.load(file)"
   ]
  },
  {
   "cell_type": "code",
   "execution_count": 28,
   "id": "500b83ee",
   "metadata": {},
   "outputs": [],
   "source": [
    "# help(json.loads)"
   ]
  },
  {
   "cell_type": "code",
   "execution_count": 29,
   "id": "a0c0ae29",
   "metadata": {},
   "outputs": [],
   "source": [
    "json_model = LinearRegression()"
   ]
  },
  {
   "cell_type": "code",
   "execution_count": 30,
   "id": "54fb23a6",
   "metadata": {},
   "outputs": [],
   "source": [
    "json_model.coef_ = np.array(json_text_loaded['coef'])\n",
    "json_model.intercept_ = np.array(json_text_loaded['intercept'])"
   ]
  },
  {
   "cell_type": "code",
   "execution_count": 32,
   "id": "302e56b3",
   "metadata": {},
   "outputs": [
    {
     "name": "stderr",
     "output_type": "stream",
     "text": [
      "C:\\Users\\himan\\anaconda3\\lib\\site-packages\\sklearn\\base.py:443: UserWarning: X has feature names, but LinearRegression was fitted without feature names\n",
      "  warnings.warn(\n"
     ]
    },
    {
     "data": {
      "text/plain": [
       "0.8666204914540225"
      ]
     },
     "execution_count": 32,
     "metadata": {},
     "output_type": "execute_result"
    }
   ],
   "source": [
    "ypred_json = json_model.predict(xtest)\n",
    "\n",
    "r2_score(ytest, ypred_json)"
   ]
  },
  {
   "cell_type": "markdown",
   "id": "046837aa",
   "metadata": {},
   "source": [
    "the issue with json serialization is you need to know what model parameters should write to disk\n",
    "\n",
    "If you go for more complex ml algo like, SVM, RandomForest than we have to go for pickle or joplib\n",
    "\n",
    "## serializing ml model using pickle"
   ]
  },
  {
   "cell_type": "code",
   "execution_count": 33,
   "id": "afd014ef",
   "metadata": {},
   "outputs": [],
   "source": [
    "import pickle"
   ]
  },
  {
   "cell_type": "code",
   "execution_count": 34,
   "id": "92c06c4c",
   "metadata": {},
   "outputs": [],
   "source": [
    "pickle.dump(model, open('models/pickle_model.pkl', 'wb'))  # write bytestream"
   ]
  },
  {
   "cell_type": "code",
   "execution_count": 35,
   "id": "3d645443",
   "metadata": {},
   "outputs": [
    {
     "data": {
      "text/plain": [
       "array([18619.15757811,  7662.62678786, 20822.50838869, 27539.25567201,\n",
       "       17495.08927843, 11178.52046327,  6409.85832609, 14208.14141144,\n",
       "       18674.54249815, 38283.29871344,  9005.03478484,  6949.49106947,\n",
       "        7853.57661209, 16988.31650221,  9924.86067702,  9147.01488267,\n",
       "        7246.29671961, 30082.33172101,  7854.61605152,  6273.90636822,\n",
       "        5706.27220937, 21211.7248001 , 15423.67305019, 22017.09222772,\n",
       "        9256.81830812,  8404.68250386,  7631.28471913,  8579.88251782,\n",
       "        6409.85832609, 18782.0811832 ,  8368.30556172,  7051.68356244,\n",
       "       11749.7369138 , 13921.41381955, 12282.45164472, 13265.12029092,\n",
       "        9756.9998934 , 10555.05174087,  4690.22826757, 12072.50685247,\n",
       "        8446.72203937])"
      ]
     },
     "execution_count": 35,
     "metadata": {},
     "output_type": "execute_result"
    }
   ],
   "source": [
    "# open the pickle model parameter and do the predictions\n",
    "\n",
    "pickle_model = pickle.load(open('models/pickle_model.pkl', 'rb'))   # read bytestream\n",
    "\n",
    "ypred_pickle = pickle_model.predict(xtest)\n",
    "\n",
    "ypred_pickle"
   ]
  },
  {
   "cell_type": "code",
   "execution_count": 36,
   "id": "5ca91fd5",
   "metadata": {},
   "outputs": [
    {
     "data": {
      "text/plain": [
       "0.8666204914540225"
      ]
     },
     "execution_count": 36,
     "metadata": {},
     "output_type": "execute_result"
    }
   ],
   "source": [
    "pickle_r2_score = r2_score(ytest, ypred_pickle)\n",
    "\n",
    "pickle_r2_score"
   ]
  },
  {
   "cell_type": "markdown",
   "id": "3b69442a",
   "metadata": {},
   "source": [
    "## serialize the ml model using joblib\n",
    "\n",
    "- better for cases where the python objects hold huge numpy arrays"
   ]
  },
  {
   "cell_type": "code",
   "execution_count": 37,
   "id": "06305d3f",
   "metadata": {},
   "outputs": [],
   "source": [
    "import joblib"
   ]
  },
  {
   "cell_type": "code",
   "execution_count": 38,
   "id": "9006056b",
   "metadata": {},
   "outputs": [
    {
     "data": {
      "text/plain": [
       "['models/joblib_model.joblib']"
      ]
     },
     "execution_count": 38,
     "metadata": {},
     "output_type": "execute_result"
    }
   ],
   "source": [
    "filename = 'models/joblib_model.joblib'\n",
    "\n",
    "joblib.dump(model, filename)      ## bytestream format"
   ]
  },
  {
   "cell_type": "code",
   "execution_count": 39,
   "id": "8a148aaf",
   "metadata": {},
   "outputs": [
    {
     "data": {
      "text/plain": [
       "array([18619.15757811,  7662.62678786, 20822.50838869, 27539.25567201,\n",
       "       17495.08927843, 11178.52046327,  6409.85832609, 14208.14141144,\n",
       "       18674.54249815, 38283.29871344,  9005.03478484,  6949.49106947,\n",
       "        7853.57661209, 16988.31650221,  9924.86067702,  9147.01488267,\n",
       "        7246.29671961, 30082.33172101,  7854.61605152,  6273.90636822,\n",
       "        5706.27220937, 21211.7248001 , 15423.67305019, 22017.09222772,\n",
       "        9256.81830812,  8404.68250386,  7631.28471913,  8579.88251782,\n",
       "        6409.85832609, 18782.0811832 ,  8368.30556172,  7051.68356244,\n",
       "       11749.7369138 , 13921.41381955, 12282.45164472, 13265.12029092,\n",
       "        9756.9998934 , 10555.05174087,  4690.22826757, 12072.50685247,\n",
       "        8446.72203937])"
      ]
     },
     "execution_count": 39,
     "metadata": {},
     "output_type": "execute_result"
    }
   ],
   "source": [
    "## open the model file and do the predictions\n",
    "\n",
    "joblib_model = joblib.load(filename)\n",
    "\n",
    "ypred_joblib = joblib_model.predict(xtest)\n",
    "\n",
    "ypred_joblib"
   ]
  },
  {
   "cell_type": "code",
   "execution_count": 40,
   "id": "0a84370a",
   "metadata": {},
   "outputs": [
    {
     "data": {
      "text/plain": [
       "0.8666204914540225"
      ]
     },
     "execution_count": 40,
     "metadata": {},
     "output_type": "execute_result"
    }
   ],
   "source": [
    "joblib_r2_score = r2_score(ytest, ypred_joblib)\n",
    "\n",
    "joblib_r2_score"
   ]
  },
  {
   "cell_type": "markdown",
   "id": "82e5bdd6",
   "metadata": {},
   "source": [
    "# resume training from checkpoint"
   ]
  },
  {
   "cell_type": "code",
   "execution_count": 41,
   "id": "20b723bd",
   "metadata": {},
   "outputs": [
    {
     "data": {
      "text/plain": [
       "(164, 51)"
      ]
     },
     "execution_count": 41,
     "metadata": {},
     "output_type": "execute_result"
    }
   ],
   "source": [
    "xtrain.shape"
   ]
  },
  {
   "cell_type": "code",
   "execution_count": 42,
   "id": "803020a5",
   "metadata": {},
   "outputs": [
    {
     "data": {
      "text/plain": [
       "(164,)"
      ]
     },
     "execution_count": 42,
     "metadata": {},
     "output_type": "execute_result"
    }
   ],
   "source": [
    "ytrain.shape"
   ]
  },
  {
   "cell_type": "code",
   "execution_count": 43,
   "id": "caf37b6a",
   "metadata": {},
   "outputs": [
    {
     "data": {
      "text/plain": [
       "133    12170.0\n",
       "123     8921.0\n",
       "157     7198.0\n",
       "17     36880.0\n",
       "76      5389.0\n",
       "Name: price, dtype: float64"
      ]
     },
     "execution_count": 43,
     "metadata": {},
     "output_type": "execute_result"
    }
   ],
   "source": [
    "ytrain.head()"
   ]
  },
  {
   "cell_type": "code",
   "execution_count": 46,
   "id": "f6afe2a1",
   "metadata": {},
   "outputs": [
    {
     "data": {
      "text/plain": [
       "(85, 51)"
      ]
     },
     "execution_count": 46,
     "metadata": {},
     "output_type": "execute_result"
    }
   ],
   "source": [
    "xtrain_part1 = xtrain[:85]\n",
    "\n",
    "xtrain_part1.shape"
   ]
  },
  {
   "cell_type": "code",
   "execution_count": 47,
   "id": "00ad062d",
   "metadata": {},
   "outputs": [
    {
     "data": {
      "text/plain": [
       "(85,)"
      ]
     },
     "execution_count": 47,
     "metadata": {},
     "output_type": "execute_result"
    }
   ],
   "source": [
    "ytrain_part1 = ytrain[:85]\n",
    "\n",
    "ytrain_part1.shape"
   ]
  },
  {
   "cell_type": "code",
   "execution_count": 48,
   "id": "eb8d6eee",
   "metadata": {},
   "outputs": [
    {
     "data": {
      "text/plain": [
       "(79, 51)"
      ]
     },
     "execution_count": 48,
     "metadata": {},
     "output_type": "execute_result"
    }
   ],
   "source": [
    "xtrain_part2 = xtrain[85:]\n",
    "\n",
    "xtrain_part2.shape"
   ]
  },
  {
   "cell_type": "code",
   "execution_count": 49,
   "id": "04c2acd8",
   "metadata": {},
   "outputs": [
    {
     "data": {
      "text/plain": [
       "(79,)"
      ]
     },
     "execution_count": 49,
     "metadata": {},
     "output_type": "execute_result"
    }
   ],
   "source": [
    "ytrain_part2 = ytrain[85:]\n",
    "\n",
    "ytrain_part2.shape"
   ]
  },
  {
   "cell_type": "code",
   "execution_count": 50,
   "id": "f049353a",
   "metadata": {},
   "outputs": [
    {
     "data": {
      "text/plain": [
       "(41, 51)"
      ]
     },
     "execution_count": 50,
     "metadata": {},
     "output_type": "execute_result"
    }
   ],
   "source": [
    "xtest.shape"
   ]
  },
  {
   "cell_type": "code",
   "execution_count": 51,
   "id": "4aada6cd",
   "metadata": {},
   "outputs": [
    {
     "data": {
      "text/plain": [
       "(20, 51)"
      ]
     },
     "execution_count": 51,
     "metadata": {},
     "output_type": "execute_result"
    }
   ],
   "source": [
    "xtest_part1 = xtest[:20]\n",
    "xtest_part1.shape"
   ]
  },
  {
   "cell_type": "code",
   "execution_count": 52,
   "id": "ba50e4e7",
   "metadata": {},
   "outputs": [
    {
     "data": {
      "text/plain": [
       "(21, 51)"
      ]
     },
     "execution_count": 52,
     "metadata": {},
     "output_type": "execute_result"
    }
   ],
   "source": [
    "xtest_part2 = xtest[20:]\n",
    "xtest_part2.shape"
   ]
  },
  {
   "cell_type": "code",
   "execution_count": 53,
   "id": "09e489dc",
   "metadata": {},
   "outputs": [
    {
     "data": {
      "text/plain": [
       "(41,)"
      ]
     },
     "execution_count": 53,
     "metadata": {},
     "output_type": "execute_result"
    }
   ],
   "source": [
    "ytest.shape"
   ]
  },
  {
   "cell_type": "code",
   "execution_count": 54,
   "id": "7ced3e52",
   "metadata": {},
   "outputs": [
    {
     "data": {
      "text/plain": [
       "(20,)"
      ]
     },
     "execution_count": 54,
     "metadata": {},
     "output_type": "execute_result"
    }
   ],
   "source": [
    "ytest_part1 = ytest[:20]\n",
    "ytest_part1.shape"
   ]
  },
  {
   "cell_type": "code",
   "execution_count": 55,
   "id": "854799e9",
   "metadata": {},
   "outputs": [
    {
     "data": {
      "text/plain": [
       "(21,)"
      ]
     },
     "execution_count": 55,
     "metadata": {},
     "output_type": "execute_result"
    }
   ],
   "source": [
    "ytest_part2 = ytest[20:]\n",
    "ytest_part2.shape"
   ]
  },
  {
   "cell_type": "code",
   "execution_count": null,
   "id": "344df239",
   "metadata": {},
   "outputs": [],
   "source": [
    "## train the model on first part of the dataset\n",
    "\n",
    "# xtrain_part1, ytrain_part1, xtest_part1, ytest_part1"
   ]
  },
  {
   "cell_type": "code",
   "execution_count": 57,
   "id": "c039d7ae",
   "metadata": {},
   "outputs": [
    {
     "data": {
      "text/html": [
       "<div>\n",
       "<style scoped>\n",
       "    .dataframe tbody tr th:only-of-type {\n",
       "        vertical-align: middle;\n",
       "    }\n",
       "\n",
       "    .dataframe tbody tr th {\n",
       "        vertical-align: top;\n",
       "    }\n",
       "\n",
       "    .dataframe thead th {\n",
       "        text-align: right;\n",
       "    }\n",
       "</style>\n",
       "<table border=\"1\" class=\"dataframe\">\n",
       "  <thead>\n",
       "    <tr style=\"text-align: right;\">\n",
       "      <th></th>\n",
       "      <th>wheelbase</th>\n",
       "      <th>carlength</th>\n",
       "      <th>carwidth</th>\n",
       "      <th>carheight</th>\n",
       "      <th>curbweight</th>\n",
       "      <th>enginesize</th>\n",
       "      <th>boreratio</th>\n",
       "      <th>stroke</th>\n",
       "      <th>compressionratio</th>\n",
       "      <th>horsepower</th>\n",
       "      <th>...</th>\n",
       "      <th>cylindernumber_twelve</th>\n",
       "      <th>cylindernumber_two</th>\n",
       "      <th>fuelsystem_1bbl</th>\n",
       "      <th>fuelsystem_2bbl</th>\n",
       "      <th>fuelsystem_4bbl</th>\n",
       "      <th>fuelsystem_idi</th>\n",
       "      <th>fuelsystem_mfi</th>\n",
       "      <th>fuelsystem_mpfi</th>\n",
       "      <th>fuelsystem_spdi</th>\n",
       "      <th>fuelsystem_spfi</th>\n",
       "    </tr>\n",
       "  </thead>\n",
       "  <tbody>\n",
       "    <tr>\n",
       "      <th>133</th>\n",
       "      <td>99.1</td>\n",
       "      <td>186.6</td>\n",
       "      <td>66.5</td>\n",
       "      <td>56.1</td>\n",
       "      <td>2695</td>\n",
       "      <td>121</td>\n",
       "      <td>3.54</td>\n",
       "      <td>3.07</td>\n",
       "      <td>9.3</td>\n",
       "      <td>110</td>\n",
       "      <td>...</td>\n",
       "      <td>0</td>\n",
       "      <td>0</td>\n",
       "      <td>0</td>\n",
       "      <td>0</td>\n",
       "      <td>0</td>\n",
       "      <td>0</td>\n",
       "      <td>0</td>\n",
       "      <td>1</td>\n",
       "      <td>0</td>\n",
       "      <td>0</td>\n",
       "    </tr>\n",
       "    <tr>\n",
       "      <th>123</th>\n",
       "      <td>103.3</td>\n",
       "      <td>174.6</td>\n",
       "      <td>64.6</td>\n",
       "      <td>59.8</td>\n",
       "      <td>2535</td>\n",
       "      <td>122</td>\n",
       "      <td>3.35</td>\n",
       "      <td>3.46</td>\n",
       "      <td>8.5</td>\n",
       "      <td>88</td>\n",
       "      <td>...</td>\n",
       "      <td>0</td>\n",
       "      <td>0</td>\n",
       "      <td>0</td>\n",
       "      <td>1</td>\n",
       "      <td>0</td>\n",
       "      <td>0</td>\n",
       "      <td>0</td>\n",
       "      <td>0</td>\n",
       "      <td>0</td>\n",
       "      <td>0</td>\n",
       "    </tr>\n",
       "    <tr>\n",
       "      <th>157</th>\n",
       "      <td>95.7</td>\n",
       "      <td>166.3</td>\n",
       "      <td>64.4</td>\n",
       "      <td>52.8</td>\n",
       "      <td>2109</td>\n",
       "      <td>98</td>\n",
       "      <td>3.19</td>\n",
       "      <td>3.03</td>\n",
       "      <td>9.0</td>\n",
       "      <td>70</td>\n",
       "      <td>...</td>\n",
       "      <td>0</td>\n",
       "      <td>0</td>\n",
       "      <td>0</td>\n",
       "      <td>1</td>\n",
       "      <td>0</td>\n",
       "      <td>0</td>\n",
       "      <td>0</td>\n",
       "      <td>0</td>\n",
       "      <td>0</td>\n",
       "      <td>0</td>\n",
       "    </tr>\n",
       "    <tr>\n",
       "      <th>17</th>\n",
       "      <td>110.0</td>\n",
       "      <td>197.0</td>\n",
       "      <td>70.9</td>\n",
       "      <td>56.3</td>\n",
       "      <td>3505</td>\n",
       "      <td>209</td>\n",
       "      <td>3.62</td>\n",
       "      <td>3.39</td>\n",
       "      <td>8.0</td>\n",
       "      <td>182</td>\n",
       "      <td>...</td>\n",
       "      <td>0</td>\n",
       "      <td>0</td>\n",
       "      <td>0</td>\n",
       "      <td>0</td>\n",
       "      <td>0</td>\n",
       "      <td>0</td>\n",
       "      <td>0</td>\n",
       "      <td>1</td>\n",
       "      <td>0</td>\n",
       "      <td>0</td>\n",
       "    </tr>\n",
       "    <tr>\n",
       "      <th>76</th>\n",
       "      <td>93.7</td>\n",
       "      <td>157.3</td>\n",
       "      <td>64.4</td>\n",
       "      <td>50.8</td>\n",
       "      <td>1918</td>\n",
       "      <td>92</td>\n",
       "      <td>2.97</td>\n",
       "      <td>3.23</td>\n",
       "      <td>9.4</td>\n",
       "      <td>68</td>\n",
       "      <td>...</td>\n",
       "      <td>0</td>\n",
       "      <td>0</td>\n",
       "      <td>0</td>\n",
       "      <td>1</td>\n",
       "      <td>0</td>\n",
       "      <td>0</td>\n",
       "      <td>0</td>\n",
       "      <td>0</td>\n",
       "      <td>0</td>\n",
       "      <td>0</td>\n",
       "    </tr>\n",
       "  </tbody>\n",
       "</table>\n",
       "<p>5 rows × 51 columns</p>\n",
       "</div>"
      ],
      "text/plain": [
       "     wheelbase  carlength  carwidth  carheight  curbweight  enginesize  \\\n",
       "133       99.1      186.6      66.5       56.1        2695         121   \n",
       "123      103.3      174.6      64.6       59.8        2535         122   \n",
       "157       95.7      166.3      64.4       52.8        2109          98   \n",
       "17       110.0      197.0      70.9       56.3        3505         209   \n",
       "76        93.7      157.3      64.4       50.8        1918          92   \n",
       "\n",
       "     boreratio  stroke  compressionratio  horsepower  ...  \\\n",
       "133       3.54    3.07               9.3         110  ...   \n",
       "123       3.35    3.46               8.5          88  ...   \n",
       "157       3.19    3.03               9.0          70  ...   \n",
       "17        3.62    3.39               8.0         182  ...   \n",
       "76        2.97    3.23               9.4          68  ...   \n",
       "\n",
       "     cylindernumber_twelve  cylindernumber_two  fuelsystem_1bbl  \\\n",
       "133                      0                   0                0   \n",
       "123                      0                   0                0   \n",
       "157                      0                   0                0   \n",
       "17                       0                   0                0   \n",
       "76                       0                   0                0   \n",
       "\n",
       "     fuelsystem_2bbl  fuelsystem_4bbl  fuelsystem_idi  fuelsystem_mfi  \\\n",
       "133                0                0               0               0   \n",
       "123                1                0               0               0   \n",
       "157                1                0               0               0   \n",
       "17                 0                0               0               0   \n",
       "76                 1                0               0               0   \n",
       "\n",
       "     fuelsystem_mpfi  fuelsystem_spdi  fuelsystem_spfi  \n",
       "133                1                0                0  \n",
       "123                0                0                0  \n",
       "157                0                0                0  \n",
       "17                 1                0                0  \n",
       "76                 0                0                0  \n",
       "\n",
       "[5 rows x 51 columns]"
      ]
     },
     "execution_count": 57,
     "metadata": {},
     "output_type": "execute_result"
    }
   ],
   "source": [
    "xtrain_part1.head()"
   ]
  },
  {
   "cell_type": "code",
   "execution_count": 56,
   "id": "5ce349b9",
   "metadata": {},
   "outputs": [],
   "source": [
    "import sklearn\n",
    "\n",
    "from sklearn.ensemble import RandomForestRegressor"
   ]
  },
  {
   "cell_type": "code",
   "execution_count": 58,
   "id": "b384dad0",
   "metadata": {},
   "outputs": [
    {
     "data": {
      "text/plain": [
       "'1.0.2'"
      ]
     },
     "execution_count": 58,
     "metadata": {},
     "output_type": "execute_result"
    }
   ],
   "source": [
    "scikitlearn_version = sklearn.__version__\n",
    "\n",
    "scikitlearn_version"
   ]
  },
  {
   "cell_type": "code",
   "execution_count": 59,
   "id": "7b0c2849",
   "metadata": {},
   "outputs": [
    {
     "name": "stdout",
     "output_type": "stream",
     "text": [
      "(85, 51)\n",
      "(85,)\n"
     ]
    }
   ],
   "source": [
    "print(xtrain_part1.shape)\n",
    "print(ytrain_part1.shape)"
   ]
  },
  {
   "cell_type": "code",
   "execution_count": 60,
   "id": "dfe8cac7",
   "metadata": {},
   "outputs": [
    {
     "data": {
      "text/plain": [
       "RandomForestRegressor(n_estimators=5, warm_start=True)"
      ]
     },
     "execution_count": 60,
     "metadata": {},
     "output_type": "execute_result"
    }
   ],
   "source": [
    "regressor_model = RandomForestRegressor(n_estimators=5, warm_start=True)\n",
    "\n",
    "rfr_model = regressor_model.fit(xtrain_part1, ytrain_part1)\n",
    "\n",
    "rfr_model"
   ]
  },
  {
   "cell_type": "code",
   "execution_count": 61,
   "id": "7a12000f",
   "metadata": {},
   "outputs": [
    {
     "data": {
      "text/plain": [
       "0.9657442004501263"
      ]
     },
     "execution_count": 61,
     "metadata": {},
     "output_type": "execute_result"
    }
   ],
   "source": [
    "rfr_model.score(xtrain_part1, ytrain_part1)"
   ]
  },
  {
   "cell_type": "code",
   "execution_count": 62,
   "id": "c15b6abc",
   "metadata": {},
   "outputs": [],
   "source": [
    "ypred_rfr_test = rfr_model.predict(xtest_part1)\n",
    "\n",
    "rfr_test_score = r2_score(ytest_part1, ypred_rfr_test)"
   ]
  },
  {
   "cell_type": "code",
   "execution_count": 63,
   "id": "eaf5f60b",
   "metadata": {},
   "outputs": [
    {
     "data": {
      "text/plain": [
       "0.8737345483615351"
      ]
     },
     "execution_count": 63,
     "metadata": {},
     "output_type": "execute_result"
    }
   ],
   "source": [
    "rfr_test_score"
   ]
  },
  {
   "cell_type": "code",
   "execution_count": 64,
   "id": "e1840eb3",
   "metadata": {},
   "outputs": [
    {
     "data": {
      "text/plain": [
       "{'model': RandomForestRegressor(n_estimators=5, warm_start=True),\n",
       " 'sklearn_version': '1.0.2',\n",
       " 'r2_score': 0.8737345483615351}"
      ]
     },
     "execution_count": 64,
     "metadata": {},
     "output_type": "execute_result"
    }
   ],
   "source": [
    "# store the information for the resume traininig part\n",
    "\n",
    "rfr_model_paramters = {}\n",
    "\n",
    "rfr_model_paramters['model'] = rfr_model\n",
    "rfr_model_paramters['sklearn_version'] = scikitlearn_version\n",
    "rfr_model_paramters['r2_score'] = rfr_test_score\n",
    "\n",
    "rfr_model_paramters"
   ]
  },
  {
   "cell_type": "code",
   "execution_count": 65,
   "id": "606d4152",
   "metadata": {},
   "outputs": [
    {
     "data": {
      "text/plain": [
       "['models/rfr_model_checkpoint.joblib']"
      ]
     },
     "execution_count": 65,
     "metadata": {},
     "output_type": "execute_result"
    }
   ],
   "source": [
    "# serialize the random forest regressor using joblib\n",
    "\n",
    "\n",
    "import joblib\n",
    "\n",
    "\n",
    "filename = 'models/rfr_model_checkpoint.joblib'\n",
    "\n",
    "joblib.dump(rfr_model_paramters, filename)"
   ]
  },
  {
   "cell_type": "code",
   "execution_count": 66,
   "id": "6646dc2c",
   "metadata": {},
   "outputs": [],
   "source": [
    "# open the model and train it again on new data\n",
    "\n",
    "joblib_model_new = joblib.load(filename)"
   ]
  },
  {
   "cell_type": "code",
   "execution_count": 67,
   "id": "3a09a0aa",
   "metadata": {},
   "outputs": [
    {
     "data": {
      "text/plain": [
       "RandomForestRegressor(n_estimators=5, warm_start=True)"
      ]
     },
     "execution_count": 67,
     "metadata": {},
     "output_type": "execute_result"
    }
   ],
   "source": [
    "joblib_model_new['model']"
   ]
  },
  {
   "cell_type": "code",
   "execution_count": 68,
   "id": "1f88b12e",
   "metadata": {},
   "outputs": [
    {
     "data": {
      "text/plain": [
       "'1.0.2'"
      ]
     },
     "execution_count": 68,
     "metadata": {},
     "output_type": "execute_result"
    }
   ],
   "source": [
    "joblib_model_new['sklearn_version']"
   ]
  },
  {
   "cell_type": "code",
   "execution_count": 69,
   "id": "3eaed10b",
   "metadata": {},
   "outputs": [
    {
     "data": {
      "text/plain": [
       "RandomForestRegressor(n_estimators=15, warm_start=True)"
      ]
     },
     "execution_count": 69,
     "metadata": {},
     "output_type": "execute_result"
    }
   ],
   "source": [
    "joblib_model_new['model'].n_estimators = 15\n",
    "\n",
    "joblib_model_new['model']"
   ]
  },
  {
   "cell_type": "code",
   "execution_count": 71,
   "id": "c129877c",
   "metadata": {},
   "outputs": [
    {
     "data": {
      "text/plain": [
       "(79, 51)"
      ]
     },
     "execution_count": 71,
     "metadata": {},
     "output_type": "execute_result"
    }
   ],
   "source": [
    "xtrain_part2.shape"
   ]
  },
  {
   "cell_type": "code",
   "execution_count": 72,
   "id": "e8223901",
   "metadata": {},
   "outputs": [
    {
     "data": {
      "text/plain": [
       "0.9406774985074545"
      ]
     },
     "execution_count": 72,
     "metadata": {},
     "output_type": "execute_result"
    }
   ],
   "source": [
    "rfr_retrained_model = joblib_model_new['model'].fit(xtrain_part2, ytrain_part2)\n",
    "\n",
    "rfr_retrained_model.score(xtrain_part2, ytrain_part2)"
   ]
  },
  {
   "cell_type": "code",
   "execution_count": 73,
   "id": "b3b41b3f",
   "metadata": {},
   "outputs": [
    {
     "data": {
      "text/plain": [
       "0.8152550979073039"
      ]
     },
     "execution_count": 73,
     "metadata": {},
     "output_type": "execute_result"
    }
   ],
   "source": [
    "ypred_rfr_retrained_test = rfr_retrained_model.predict(xtest_part2)\n",
    "\n",
    "rfr_retrained_test_score = r2_score(ytest_part2, ypred_rfr_retrained_test)\n",
    "\n",
    "rfr_retrained_test_score"
   ]
  },
  {
   "cell_type": "code",
   "execution_count": 74,
   "id": "3a8438cc",
   "metadata": {},
   "outputs": [
    {
     "data": {
      "text/plain": [
       "{'model': RandomForestRegressor(n_estimators=15, warm_start=True),\n",
       " 'sklearn_version': '1.0.2',\n",
       " 'r2_score': 0.8152550979073039}"
      ]
     },
     "execution_count": 74,
     "metadata": {},
     "output_type": "execute_result"
    }
   ],
   "source": [
    "# store the checkpoints again\n",
    "\n",
    "retrained_rfr_model_paramters = {}\n",
    "\n",
    "retrained_rfr_model_paramters['model'] = rfr_retrained_model\n",
    "retrained_rfr_model_paramters['sklearn_version'] = scikitlearn_version\n",
    "retrained_rfr_model_paramters['r2_score'] = rfr_retrained_test_score\n",
    "\n",
    "retrained_rfr_model_paramters"
   ]
  },
  {
   "cell_type": "code",
   "execution_count": 75,
   "id": "48247ac9",
   "metadata": {},
   "outputs": [
    {
     "data": {
      "text/plain": [
       "['models/retrained_rfr_model_checkpoint.joblib']"
      ]
     },
     "execution_count": 75,
     "metadata": {},
     "output_type": "execute_result"
    }
   ],
   "source": [
    "# save the model\n",
    "\n",
    "filename = 'models/retrained_rfr_model_checkpoint.joblib'\n",
    "\n",
    "joblib.dump(retrained_rfr_model_paramters,filename)"
   ]
  },
  {
   "cell_type": "code",
   "execution_count": null,
   "id": "5f7dc95b",
   "metadata": {},
   "outputs": [],
   "source": []
  }
 ],
 "metadata": {
  "kernelspec": {
   "display_name": "Python 3 (ipykernel)",
   "language": "python",
   "name": "python3"
  },
  "language_info": {
   "codemirror_mode": {
    "name": "ipython",
    "version": 3
   },
   "file_extension": ".py",
   "mimetype": "text/x-python",
   "name": "python",
   "nbconvert_exporter": "python",
   "pygments_lexer": "ipython3",
   "version": "3.9.12"
  }
 },
 "nbformat": 4,
 "nbformat_minor": 5
}
