{
 "cells": [
  {
   "cell_type": "markdown",
   "id": "34ed17e5",
   "metadata": {},
   "source": [
    "# Resume Building"
   ]
  },
  {
   "cell_type": "code",
   "execution_count": null,
   "id": "9f44192a",
   "metadata": {},
   "outputs": [],
   "source": [
    "resume\n",
    "\n",
    "- Work experience\n",
    "- Projects\n",
    "- Leadership work\n",
    "- Skills\n",
    "- Education\n",
    "- Interests\n",
    "\n",
    "\n",
    "Bullet single points\n",
    "- Problem statement\n",
    "- Approach\n",
    "- Results\n"
   ]
  },
  {
   "cell_type": "markdown",
   "id": "eece8d20",
   "metadata": {},
   "source": [
    "# Resume format: \n",
    "https://docs.google.com/document/d/1-LhK5qFSfF_n3ncpFL6YbXZhBcQiwH0jPc_dDy864YA/edit"
   ]
  },
  {
   "cell_type": "markdown",
   "id": "c4b60950",
   "metadata": {},
   "source": [
    "# how to select projects for your portfolio\n"
   ]
  },
  {
   "cell_type": "code",
   "execution_count": null,
   "id": "affd91f6",
   "metadata": {},
   "outputs": [],
   "source": [
    "\n",
    "- data -> the data should be huge and complex\n",
    "- kaggle featured competitions, somebody is giving money to solve that problem\n",
    "- research papers(to change the problem statement or getting an idea how to solve it)\n",
    "- analytics on the data\n",
    "- model\n",
    "- make it live -> Web application/API in production\n",
    "- create use cases(earn money from it)\n",
    "\n"
   ]
  },
  {
   "cell_type": "markdown",
   "id": "e2668a1d",
   "metadata": {},
   "source": [
    "# How to market yourself?\n"
   ]
  },
  {
   "cell_type": "code",
   "execution_count": null,
   "id": "dcc6b41b",
   "metadata": {},
   "outputs": [],
   "source": [
    "- market -> in-bound opportunities - recuiters will be attracted by your work or content\n",
    "         -> out-bound - applying for the job strategically\n",
    "         -> content - blogs, posts on linkedin, connecting with simmilar people in the industry\n",
    "         -> consultation - juniors for career, freelance consults \n",
    "            https://topmate.io/himanshuramchandani\n",
    "         -> talks in colleges or with a small community\n",
    "         -> teaching part"
   ]
  },
  {
   "cell_type": "markdown",
   "id": "5827cba4",
   "metadata": {},
   "source": [
    "# HR interview Questions\n",
    "\n",
    "https://hemansnation.gumroad.com/l/ChatGPTHuman-AnsweredCollectionof50QuestionsByHimanshuRamchandani"
   ]
  },
  {
   "cell_type": "markdown",
   "id": "b9625907",
   "metadata": {},
   "source": [
    "# Skill in ML Engineer"
   ]
  },
  {
   "cell_type": "code",
   "execution_count": null,
   "id": "b0555eee",
   "metadata": {},
   "outputs": [],
   "source": [
    "https://datanerd.tech/"
   ]
  },
  {
   "cell_type": "markdown",
   "id": "72e10923",
   "metadata": {},
   "source": [
    "# Job Hunt\n",
    "\n",
    "https://ai-jobs.net/?key=&exp=MI"
   ]
  },
  {
   "cell_type": "markdown",
   "id": "0dcefe95",
   "metadata": {},
   "source": [
    "# Portfolio Link\n",
    "\n",
    "https://read.cv/hemansnation"
   ]
  },
  {
   "cell_type": "markdown",
   "id": "a5789e3e",
   "metadata": {},
   "source": [
    "# Fishbowl - Interact with company people\n",
    "\n",
    "https://www.fishbowlapp.com/signup"
   ]
  },
  {
   "cell_type": "code",
   "execution_count": null,
   "id": "5d63f1f7",
   "metadata": {},
   "outputs": [],
   "source": []
  },
  {
   "cell_type": "markdown",
   "id": "e28a2704",
   "metadata": {},
   "source": [
    "# Data Strucutures questions\n",
    "\n",
    "https://projecteuler.net/archives\n"
   ]
  },
  {
   "cell_type": "code",
   "execution_count": null,
   "id": "d094fc2b",
   "metadata": {},
   "outputs": [],
   "source": []
  },
  {
   "cell_type": "markdown",
   "id": "fe111799",
   "metadata": {},
   "source": [
    "# Different Domain/ wants to transition into data science"
   ]
  },
  {
   "cell_type": "code",
   "execution_count": null,
   "id": "c6899c0b",
   "metadata": {},
   "outputs": [],
   "source": [
    "- you should not remove your previous work - hard skill\n",
    "- soft skills - leadership, communication, presentation, team work, attitude\n",
    "- strong proof of work "
   ]
  },
  {
   "cell_type": "markdown",
   "id": "39229008",
   "metadata": {},
   "source": [
    "# check points for ML Engineer"
   ]
  },
  {
   "cell_type": "code",
   "execution_count": null,
   "id": "4681e7cb",
   "metadata": {},
   "outputs": [],
   "source": [
    "- building ml algorithms from scratch\n",
    "- one of the frameworks - tensorflow\n",
    "- projects\n",
    "- ML Systems\n",
    "- MLOps"
   ]
  },
  {
   "cell_type": "markdown",
   "id": "ad7abe6d",
   "metadata": {},
   "source": [
    "# Newsletter\n",
    "\n",
    "https://www.linkedin.com/newsletters/notes-on-data-product-and-ai-7014799989251956736/"
   ]
  },
  {
   "cell_type": "markdown",
   "id": "8a153d8c",
   "metadata": {},
   "source": [
    "the epoch - an AI newsletter\n",
    "https://the-epoch-by-himanshu-ramchandani.beehiiv.com/"
   ]
  },
  {
   "cell_type": "code",
   "execution_count": null,
   "id": "8afc6bdd",
   "metadata": {},
   "outputs": [],
   "source": []
  }
 ],
 "metadata": {
  "kernelspec": {
   "display_name": "Python 3 (ipykernel)",
   "language": "python",
   "name": "python3"
  },
  "language_info": {
   "codemirror_mode": {
    "name": "ipython",
    "version": 3
   },
   "file_extension": ".py",
   "mimetype": "text/x-python",
   "name": "python",
   "nbconvert_exporter": "python",
   "pygments_lexer": "ipython3",
   "version": "3.9.12"
  }
 },
 "nbformat": 4,
 "nbformat_minor": 5
}
