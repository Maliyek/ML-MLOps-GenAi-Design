{
 "cells": [
  {
   "cell_type": "markdown",
   "id": "ad5428e5",
   "metadata": {},
   "source": [
    "# Activation Functions/ Transfer Functions"
   ]
  },
  {
   "cell_type": "code",
   "execution_count": null,
   "id": "fd39323e",
   "metadata": {},
   "outputs": [],
   "source": [
    "it is used to get the output of a node(neuron)"
   ]
  },
  {
   "cell_type": "code",
   "execution_count": null,
   "id": "90cf15cc",
   "metadata": {},
   "outputs": [],
   "source": [
    "why we use activation functions in neural network\n",
    "\n",
    "- it is used to determine the output of neural network in a certain range or category\n",
    "0 to 1, -1 to 1, yes or no,\n",
    "\n",
    "2 Types of AF\n",
    "\n",
    "- Linear AF\n",
    "- Non-Linear AF"
   ]
  },
  {
   "cell_type": "markdown",
   "id": "74177856",
   "metadata": {},
   "source": [
    "# 1 - Linear/Identity Activation\n",
    "\n",
    "\n",
    "<img src='a1.png' />"
   ]
  },
  {
   "cell_type": "code",
   "execution_count": null,
   "id": "2aa7621d",
   "metadata": {},
   "outputs": [],
   "source": [
    "f(y) = y  # output\n",
    "\n",
    "y = wx + b + e\n",
    "\n",
    "f(wx + b + e) = y"
   ]
  },
  {
   "cell_type": "markdown",
   "id": "fe28e84d",
   "metadata": {},
   "source": [
    "# 2 - Non Linear Activation\n",
    "\n",
    "<img src='a2.png' />"
   ]
  },
  {
   "cell_type": "code",
   "execution_count": null,
   "id": "24f0ce25",
   "metadata": {},
   "outputs": [],
   "source": [
    "derivative/differential - change in y wrt change in x(slope)\n",
    "\n",
    "monotonic function - which is either entirely non-increasing or non-decreasing"
   ]
  },
  {
   "cell_type": "code",
   "execution_count": null,
   "id": "cb671c6b",
   "metadata": {},
   "outputs": [],
   "source": [
    "non-linear AF are divided on the basis of \n",
    "- range\n",
    "- curves"
   ]
  },
  {
   "cell_type": "markdown",
   "id": "b689061b",
   "metadata": {},
   "source": [
    "### Sigmoid/Logistic Activation Function\n",
    "\n",
    "<img src='a3.png' />"
   ]
  },
  {
   "cell_type": "code",
   "execution_count": null,
   "id": "a0e0424f",
   "metadata": {},
   "outputs": [],
   "source": [
    "range -> (0,1)\n",
    "\n",
    "- predict the probability as an output\n",
    "- binary classification"
   ]
  },
  {
   "cell_type": "code",
   "execution_count": 1,
   "id": "4af543de",
   "metadata": {},
   "outputs": [],
   "source": [
    "import math\n",
    "\n",
    "def sigmoid(x):\n",
    "    return 1/(1 + math.exp(-x))"
   ]
  },
  {
   "cell_type": "code",
   "execution_count": 2,
   "id": "b4406b34",
   "metadata": {},
   "outputs": [
    {
     "data": {
      "text/plain": [
       "1.0"
      ]
     },
     "execution_count": 2,
     "metadata": {},
     "output_type": "execute_result"
    }
   ],
   "source": [
    "sigmoid(100)"
   ]
  },
  {
   "cell_type": "code",
   "execution_count": 3,
   "id": "fdd3131c",
   "metadata": {},
   "outputs": [
    {
     "data": {
      "text/plain": [
       "0.7310585786300049"
      ]
     },
     "execution_count": 3,
     "metadata": {},
     "output_type": "execute_result"
    }
   ],
   "source": [
    "sigmoid(1)"
   ]
  },
  {
   "cell_type": "code",
   "execution_count": 4,
   "id": "82bfa92a",
   "metadata": {},
   "outputs": [
    {
     "data": {
      "text/plain": [
       "1.299581425007503e-24"
      ]
     },
     "execution_count": 4,
     "metadata": {},
     "output_type": "execute_result"
    }
   ],
   "source": [
    "sigmoid(-55)"
   ]
  },
  {
   "cell_type": "code",
   "execution_count": 5,
   "id": "c332dd74",
   "metadata": {},
   "outputs": [
    {
     "data": {
      "text/plain": [
       "0.6456563062257954"
      ]
     },
     "execution_count": 5,
     "metadata": {},
     "output_type": "execute_result"
    }
   ],
   "source": [
    "sigmoid(0.6)"
   ]
  },
  {
   "cell_type": "markdown",
   "id": "3d64f03b",
   "metadata": {},
   "source": [
    "### Tanh/Hyperbolic Tangent Function\n",
    "\n",
    "<img src='s4.png' />"
   ]
  },
  {
   "cell_type": "code",
   "execution_count": null,
   "id": "1bef91fb",
   "metadata": {},
   "outputs": [],
   "source": [
    "range -> -1 to 1\n",
    "\n",
    "advantage -> all the negative values will be mapped as negative\n",
    "          -> all the positive values will be mapped as positive"
   ]
  },
  {
   "cell_type": "code",
   "execution_count": null,
   "id": "b02d570d",
   "metadata": {},
   "outputs": [],
   "source": [
    "tanh function is used in \n",
    "\n",
    "- classification(2 classes)\n",
    "- feed-forward networks\n",
    "- RNN"
   ]
  },
  {
   "cell_type": "code",
   "execution_count": 6,
   "id": "71aa160b",
   "metadata": {},
   "outputs": [],
   "source": [
    "def tanh(x):\n",
    "    return (math.exp(x) - math.exp(-x))/(math.exp(x) + math.exp(-x))"
   ]
  },
  {
   "cell_type": "code",
   "execution_count": 7,
   "id": "ab339433",
   "metadata": {},
   "outputs": [
    {
     "data": {
      "text/plain": [
       "-1.0"
      ]
     },
     "execution_count": 7,
     "metadata": {},
     "output_type": "execute_result"
    }
   ],
   "source": [
    "tanh(-50)"
   ]
  },
  {
   "cell_type": "code",
   "execution_count": 8,
   "id": "aa0a06cb",
   "metadata": {},
   "outputs": [
    {
     "data": {
      "text/plain": [
       "0.9999999958776926"
      ]
     },
     "execution_count": 8,
     "metadata": {},
     "output_type": "execute_result"
    }
   ],
   "source": [
    "tanh(10)"
   ]
  },
  {
   "cell_type": "code",
   "execution_count": 9,
   "id": "ded7d146",
   "metadata": {},
   "outputs": [
    {
     "data": {
      "text/plain": [
       "0.7615941559557649"
      ]
     },
     "execution_count": 9,
     "metadata": {},
     "output_type": "execute_result"
    }
   ],
   "source": [
    "tanh(1)"
   ]
  },
  {
   "cell_type": "code",
   "execution_count": 10,
   "id": "e35e8c01",
   "metadata": {},
   "outputs": [
    {
     "data": {
      "text/plain": [
       "0.0"
      ]
     },
     "execution_count": 10,
     "metadata": {},
     "output_type": "execute_result"
    }
   ],
   "source": [
    "tanh(0)"
   ]
  },
  {
   "cell_type": "markdown",
   "id": "dd9f5bf4",
   "metadata": {},
   "source": [
    "### ReLU(Rectified Linear Unit) Activation Function\n",
    "\n",
    "\n",
    "<img src='a5.png' />"
   ]
  },
  {
   "cell_type": "code",
   "execution_count": null,
   "id": "6041d676",
   "metadata": {},
   "outputs": [],
   "source": [
    "f(x) = max(0, x)   \n",
    "\n",
    "input = -2 => max(0,-2) => 0\n",
    "input =  7 => max(0, 7) => 7"
   ]
  },
  {
   "cell_type": "code",
   "execution_count": null,
   "id": "06dc6ca8",
   "metadata": {},
   "outputs": [],
   "source": [
    "advantages\n",
    "- simple and computationaly efficient\n",
    "- it will help solving vanishing gradient problem\n",
    "- faster to give the output in training"
   ]
  },
  {
   "cell_type": "code",
   "execution_count": null,
   "id": "a1464199",
   "metadata": {},
   "outputs": [],
   "source": [
    "disadvantage\n",
    "\n",
    "- the ability to train a model to fit from data properly"
   ]
  },
  {
   "cell_type": "code",
   "execution_count": 11,
   "id": "7dfafcbd",
   "metadata": {},
   "outputs": [],
   "source": [
    "def relu(x):\n",
    "    return max(0,x)"
   ]
  },
  {
   "cell_type": "code",
   "execution_count": 15,
   "id": "3d8c4db2",
   "metadata": {},
   "outputs": [
    {
     "data": {
      "text/plain": [
       "0"
      ]
     },
     "execution_count": 15,
     "metadata": {},
     "output_type": "execute_result"
    }
   ],
   "source": [
    "relu(-17)"
   ]
  },
  {
   "cell_type": "code",
   "execution_count": 16,
   "id": "d9074066",
   "metadata": {},
   "outputs": [
    {
     "data": {
      "text/plain": [
       "100"
      ]
     },
     "execution_count": 16,
     "metadata": {},
     "output_type": "execute_result"
    }
   ],
   "source": [
    "relu(100)"
   ]
  },
  {
   "cell_type": "code",
   "execution_count": 17,
   "id": "825c5cb1",
   "metadata": {},
   "outputs": [
    {
     "data": {
      "text/plain": [
       "8"
      ]
     },
     "execution_count": 17,
     "metadata": {},
     "output_type": "execute_result"
    }
   ],
   "source": [
    "relu(8)"
   ]
  },
  {
   "cell_type": "code",
   "execution_count": 18,
   "id": "ee014b26",
   "metadata": {},
   "outputs": [
    {
     "data": {
      "text/plain": [
       "0"
      ]
     },
     "execution_count": 18,
     "metadata": {},
     "output_type": "execute_result"
    }
   ],
   "source": [
    "relu(0)"
   ]
  },
  {
   "cell_type": "markdown",
   "id": "179fab92",
   "metadata": {},
   "source": [
    "### Leaky ReLU\n",
    "\n",
    "\n",
    "<img src='a6.png' />"
   ]
  },
  {
   "cell_type": "code",
   "execution_count": null,
   "id": "81f54d52",
   "metadata": {},
   "outputs": [],
   "source": [
    "Leaky ReLU -> it will help to increase the range of the function\n",
    "\n",
    "f(x) = max(a*x, x)\n",
    "\n",
    "a = 0.1"
   ]
  },
  {
   "cell_type": "code",
   "execution_count": 19,
   "id": "e34a7c3f",
   "metadata": {},
   "outputs": [],
   "source": [
    "def leaky_relu(x, alpha=0.1):\n",
    "    return max(x, x*alpha)"
   ]
  },
  {
   "cell_type": "code",
   "execution_count": 20,
   "id": "dc5e5020",
   "metadata": {},
   "outputs": [
    {
     "data": {
      "text/plain": [
       "100"
      ]
     },
     "execution_count": 20,
     "metadata": {},
     "output_type": "execute_result"
    }
   ],
   "source": [
    "leaky_relu(100)"
   ]
  },
  {
   "cell_type": "code",
   "execution_count": 21,
   "id": "10edca51",
   "metadata": {},
   "outputs": [
    {
     "data": {
      "text/plain": [
       "-100.0"
      ]
     },
     "execution_count": 21,
     "metadata": {},
     "output_type": "execute_result"
    }
   ],
   "source": [
    "leaky_relu(-1000)"
   ]
  },
  {
   "cell_type": "code",
   "execution_count": 22,
   "id": "fa68b7fa",
   "metadata": {},
   "outputs": [
    {
     "data": {
      "text/plain": [
       "-1.7000000000000002"
      ]
     },
     "execution_count": 22,
     "metadata": {},
     "output_type": "execute_result"
    }
   ],
   "source": [
    "leaky_relu(-17)"
   ]
  },
  {
   "cell_type": "markdown",
   "id": "ddae3d05",
   "metadata": {},
   "source": [
    "### Softmax Function\n",
    "\n",
    "\n",
    "<img src='a7.jpg' />"
   ]
  },
  {
   "cell_type": "code",
   "execution_count": null,
   "id": "13658425",
   "metadata": {},
   "outputs": [],
   "source": [
    "input -> vector\n",
    "output -> probability distribution(sum up to 1)"
   ]
  },
  {
   "cell_type": "code",
   "execution_count": null,
   "id": "8e5fad7e",
   "metadata": {},
   "outputs": [],
   "source": [
    "- multiclass classification\n",
    "- "
   ]
  },
  {
   "cell_type": "code",
   "execution_count": 23,
   "id": "d3976558",
   "metadata": {},
   "outputs": [],
   "source": [
    "import numpy as np"
   ]
  },
  {
   "cell_type": "code",
   "execution_count": 24,
   "id": "4322e2be",
   "metadata": {},
   "outputs": [],
   "source": [
    "def softmax(x):\n",
    "    expo = np.exp(x)\n",
    "    return expo/np.sum(expo, axis=0)"
   ]
  },
  {
   "cell_type": "code",
   "execution_count": 26,
   "id": "dfdc14b9",
   "metadata": {},
   "outputs": [
    {
     "name": "stdout",
     "output_type": "stream",
     "text": [
      "[0.09003057 0.24472847 0.66524096]\n"
     ]
    }
   ],
   "source": [
    "x = np.array([1,2,3])\n",
    "\n",
    "print(softmax(x))"
   ]
  },
  {
   "cell_type": "code",
   "execution_count": 27,
   "id": "77dace94",
   "metadata": {},
   "outputs": [
    {
     "data": {
      "text/plain": [
       "1.0"
      ]
     },
     "execution_count": 27,
     "metadata": {},
     "output_type": "execute_result"
    }
   ],
   "source": [
    "sum(softmax(x))"
   ]
  },
  {
   "cell_type": "markdown",
   "id": "8938d7fa",
   "metadata": {},
   "source": [
    "# Resources\n",
    "\n",
    "Cheat Sheet for Activation Functions\n",
    "\n",
    "https://stanford.edu/~shervine/teaching/cs-229/cheatsheet-deep-learning\n",
    "\n",
    "\n",
    "https://ml-cheatsheet.readthedocs.io/en/latest/activation_functions.html"
   ]
  },
  {
   "cell_type": "markdown",
   "id": "e63430ee",
   "metadata": {},
   "source": [
    "12 different activation functions\n",
    "\n",
    "https://www.v7labs.com/blog/neural-networks-activation-functions"
   ]
  },
  {
   "cell_type": "code",
   "execution_count": null,
   "id": "b9714615",
   "metadata": {},
   "outputs": [],
   "source": []
  }
 ],
 "metadata": {
  "kernelspec": {
   "display_name": "Python 3 (ipykernel)",
   "language": "python",
   "name": "python3"
  },
  "language_info": {
   "codemirror_mode": {
    "name": "ipython",
    "version": 3
   },
   "file_extension": ".py",
   "mimetype": "text/x-python",
   "name": "python",
   "nbconvert_exporter": "python",
   "pygments_lexer": "ipython3",
   "version": "3.9.12"
  }
 },
 "nbformat": 4,
 "nbformat_minor": 5
}
