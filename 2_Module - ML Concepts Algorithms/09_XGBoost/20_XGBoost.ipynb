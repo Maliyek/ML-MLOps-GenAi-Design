{
 "cells": [
  {
   "cell_type": "markdown",
   "id": "df55594e",
   "metadata": {},
   "source": [
    "# Extreme Gradient Boosting (XGBoost)"
   ]
  },
  {
   "cell_type": "code",
   "execution_count": 3,
   "id": "3066c442",
   "metadata": {},
   "outputs": [],
   "source": [
    "# !pip install xgboost"
   ]
  },
  {
   "cell_type": "code",
   "execution_count": null,
   "id": "9b638e88",
   "metadata": {},
   "outputs": [],
   "source": [
    "XGBoost - it is a decision tree based ensemble ml algorithm\n",
    "\n",
    "- unstructured data - images, text\n",
    "- small to medium size dataset"
   ]
  },
  {
   "cell_type": "markdown",
   "id": "9ac7e496",
   "metadata": {},
   "source": [
    "# XGBoost analogy"
   ]
  },
  {
   "cell_type": "code",
   "execution_count": null,
   "id": "e90b83d9",
   "metadata": {},
   "outputs": [],
   "source": [
    "random sample with replacement - a datapoint can occure more than once"
   ]
  },
  {
   "cell_type": "markdown",
   "id": "6ac2d254",
   "metadata": {},
   "source": [
    "<img src='g3.png' />"
   ]
  },
  {
   "cell_type": "code",
   "execution_count": null,
   "id": "fab27010",
   "metadata": {},
   "outputs": [],
   "source": [
    "1. Decision Tree\n",
    "2. Bagging\n",
    "3. Random forest\n",
    "4. Boosting\n",
    "5. Gradient Boosting\n",
    "6. XGBoost(special power)"
   ]
  },
  {
   "cell_type": "markdown",
   "id": "b67befc5",
   "metadata": {},
   "source": [
    "<img src='g1.png' />"
   ]
  },
  {
   "cell_type": "code",
   "execution_count": null,
   "id": "626e4b87",
   "metadata": {},
   "outputs": [],
   "source": [
    "1. Parallelization\n",
    "2. Tree Pruning\n",
    "3. Hardware Optimization"
   ]
  },
  {
   "cell_type": "code",
   "execution_count": null,
   "id": "b6fa3fce",
   "metadata": {},
   "outputs": [],
   "source": []
  },
  {
   "cell_type": "code",
   "execution_count": null,
   "id": "92cd86c3",
   "metadata": {},
   "outputs": [],
   "source": []
  },
  {
   "cell_type": "code",
   "execution_count": null,
   "id": "f9719fa6",
   "metadata": {},
   "outputs": [],
   "source": []
  },
  {
   "cell_type": "markdown",
   "id": "2063dc3d",
   "metadata": {},
   "source": [
    "<img src='g2.png' />"
   ]
  },
  {
   "cell_type": "code",
   "execution_count": null,
   "id": "e490f168",
   "metadata": {},
   "outputs": [],
   "source": [
    "Step\n",
    "\n",
    "- weak learners (decision trees)\n",
    "- initial prediction\n",
    "- error by this initial weak learner\n",
    "- build a new decision tree(weak learner) and capture the error of previous weak learner\n",
    "- weight will be assigned based on the errors, (weights will be similar at first)\n",
    "- regularization - prevent it from overfitting\n",
    "- gradient descent optimization - optimize the model by minimizing the error\n",
    "- stopping criteria - threshold on the improvement in the loss function\n",
    "\n",
    "- final prediction - by combining the predictions of all the weak learners with their weights"
   ]
  },
  {
   "cell_type": "code",
   "execution_count": 4,
   "id": "6ff19e2a",
   "metadata": {},
   "outputs": [],
   "source": [
    "from xgboost import XGBClassifier\n",
    "import numpy as np\n",
    "import pandas as pd"
   ]
  },
  {
   "cell_type": "code",
   "execution_count": 6,
   "id": "866f652a",
   "metadata": {
    "scrolled": true
   },
   "outputs": [],
   "source": [
    "# help(XGBClassifier)"
   ]
  },
  {
   "cell_type": "markdown",
   "id": "cf52cda6",
   "metadata": {},
   "source": [
    "## Example for XGBoost in Python\n",
    "\n",
    "https://www.datacamp.com/tutorial/xgboost-in-python"
   ]
  },
  {
   "cell_type": "code",
   "execution_count": null,
   "id": "0b07d1e9",
   "metadata": {},
   "outputs": [],
   "source": []
  }
 ],
 "metadata": {
  "kernelspec": {
   "display_name": "Python 3 (ipykernel)",
   "language": "python",
   "name": "python3"
  },
  "language_info": {
   "codemirror_mode": {
    "name": "ipython",
    "version": 3
   },
   "file_extension": ".py",
   "mimetype": "text/x-python",
   "name": "python",
   "nbconvert_exporter": "python",
   "pygments_lexer": "ipython3",
   "version": "3.9.12"
  }
 },
 "nbformat": 4,
 "nbformat_minor": 5
}
