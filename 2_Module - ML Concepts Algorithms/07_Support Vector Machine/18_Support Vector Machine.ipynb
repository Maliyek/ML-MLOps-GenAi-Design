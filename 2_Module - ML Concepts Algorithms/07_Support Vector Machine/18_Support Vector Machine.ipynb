{
 "cells": [
  {
   "cell_type": "markdown",
   "id": "ac2b7a93",
   "metadata": {},
   "source": [
    "# Support Vector Machine\n",
    "\n",
    "<img src='s1.png' />"
   ]
  },
  {
   "cell_type": "code",
   "execution_count": null,
   "id": "92e5ef55",
   "metadata": {},
   "outputs": [],
   "source": [
    "Real worlds examples\n",
    "\n",
    "- image classification -> face recognition or objection\n",
    "- OCR(Optical Charater Recognition)\n",
    "- bioinformatics - gene classification, protien structure prediction\n",
    "- speech recognition"
   ]
  },
  {
   "cell_type": "markdown",
   "id": "e9d44608",
   "metadata": {},
   "source": [
    "For Images and OCR - \n",
    "https://pyimagesearch.com/"
   ]
  },
  {
   "cell_type": "markdown",
   "id": "8404ff32",
   "metadata": {},
   "source": [
    "## When to use SVM"
   ]
  },
  {
   "cell_type": "code",
   "execution_count": null,
   "id": "ebc9672b",
   "metadata": {},
   "outputs": [],
   "source": [
    "- Binary classification\n",
    "- small or medium size dataset\n",
    "- high dimensional data\n",
    "- linear and non-linear "
   ]
  },
  {
   "cell_type": "markdown",
   "id": "afb39721",
   "metadata": {},
   "source": [
    "## Hyperplane, Margin, Support Vector\n",
    "\n",
    "<img src='s2.png' />\n"
   ]
  },
  {
   "cell_type": "code",
   "execution_count": null,
   "id": "0d745943",
   "metadata": {},
   "outputs": [],
   "source": []
  },
  {
   "cell_type": "markdown",
   "id": "dda5fd6c",
   "metadata": {},
   "source": [
    "## Margin and Hyperplane to choose\n",
    "\n",
    "<img src='s3.png' />"
   ]
  },
  {
   "cell_type": "code",
   "execution_count": null,
   "id": "7c413cbb",
   "metadata": {},
   "outputs": [],
   "source": [
    "2 steps to search for the maximum margin hyperplane\n",
    "\n",
    "- generate hyperplane which segregate the classes in a best possible way.\n",
    "  the best hyperplane should represents the largest separation or margin b/w the two classes.\n",
    "    \n",
    "- maximum margin hyperplane -> maximum margin classifier"
   ]
  },
  {
   "cell_type": "markdown",
   "id": "a40c1095",
   "metadata": {},
   "source": [
    "## Kernel Trick\n",
    "\n",
    "\n",
    "<img src='s4.png' />"
   ]
  },
  {
   "cell_type": "code",
   "execution_count": null,
   "id": "dcf15864",
   "metadata": {},
   "outputs": [],
   "source": [
    "kernel tricks (function that maps the data to a higher dimension)\n",
    "\n",
    "- Linear Kernel - when you have linear seperable dataset\n",
    "- polynomial kernel - when the decision boundary is a polynomial(curved plane or line)\n",
    "go for polynomial kernel in NLP problems\n",
    "\n",
    "- Radial Basis Function(rbf) / gaussian kernel - use when you have no prior knowledge of data\n",
    "  non-linear data with complex decision boundaries\n",
    "  more flexible than the polynomial\n",
    "\n",
    "- sigmoid kernel - the data has sigmoidal decision boundary"
   ]
  },
  {
   "cell_type": "markdown",
   "id": "df9cf809",
   "metadata": {},
   "source": [
    "# Dataset Pulsar\n",
    "\n",
    "#### predicting a pulsar star"
   ]
  },
  {
   "cell_type": "code",
   "execution_count": 1,
   "id": "60761824",
   "metadata": {},
   "outputs": [],
   "source": [
    "import numpy as np\n",
    "import pandas as pd"
   ]
  },
  {
   "cell_type": "code",
   "execution_count": 2,
   "id": "e5dfa5d3",
   "metadata": {},
   "outputs": [
    {
     "data": {
      "text/html": [
       "<div>\n",
       "<style scoped>\n",
       "    .dataframe tbody tr th:only-of-type {\n",
       "        vertical-align: middle;\n",
       "    }\n",
       "\n",
       "    .dataframe tbody tr th {\n",
       "        vertical-align: top;\n",
       "    }\n",
       "\n",
       "    .dataframe thead th {\n",
       "        text-align: right;\n",
       "    }\n",
       "</style>\n",
       "<table border=\"1\" class=\"dataframe\">\n",
       "  <thead>\n",
       "    <tr style=\"text-align: right;\">\n",
       "      <th></th>\n",
       "      <th>Mean of the integrated profile</th>\n",
       "      <th>Standard deviation of the integrated profile</th>\n",
       "      <th>Excess kurtosis of the integrated profile</th>\n",
       "      <th>Skewness of the integrated profile</th>\n",
       "      <th>Mean of the DM-SNR curve</th>\n",
       "      <th>Standard deviation of the DM-SNR curve</th>\n",
       "      <th>Excess kurtosis of the DM-SNR curve</th>\n",
       "      <th>Skewness of the DM-SNR curve</th>\n",
       "      <th>target_class</th>\n",
       "    </tr>\n",
       "  </thead>\n",
       "  <tbody>\n",
       "    <tr>\n",
       "      <th>0</th>\n",
       "      <td>121.156250</td>\n",
       "      <td>48.372971</td>\n",
       "      <td>0.375485</td>\n",
       "      <td>-0.013165</td>\n",
       "      <td>3.168896</td>\n",
       "      <td>18.399367</td>\n",
       "      <td>7.449874</td>\n",
       "      <td>65.159298</td>\n",
       "      <td>0.0</td>\n",
       "    </tr>\n",
       "    <tr>\n",
       "      <th>1</th>\n",
       "      <td>76.968750</td>\n",
       "      <td>36.175557</td>\n",
       "      <td>0.712898</td>\n",
       "      <td>3.388719</td>\n",
       "      <td>2.399666</td>\n",
       "      <td>17.570997</td>\n",
       "      <td>9.414652</td>\n",
       "      <td>102.722975</td>\n",
       "      <td>0.0</td>\n",
       "    </tr>\n",
       "    <tr>\n",
       "      <th>2</th>\n",
       "      <td>130.585938</td>\n",
       "      <td>53.229534</td>\n",
       "      <td>0.133408</td>\n",
       "      <td>-0.297242</td>\n",
       "      <td>2.743311</td>\n",
       "      <td>22.362553</td>\n",
       "      <td>8.508364</td>\n",
       "      <td>74.031324</td>\n",
       "      <td>0.0</td>\n",
       "    </tr>\n",
       "    <tr>\n",
       "      <th>3</th>\n",
       "      <td>156.398438</td>\n",
       "      <td>48.865942</td>\n",
       "      <td>-0.215989</td>\n",
       "      <td>-0.171294</td>\n",
       "      <td>17.471572</td>\n",
       "      <td>NaN</td>\n",
       "      <td>2.958066</td>\n",
       "      <td>7.197842</td>\n",
       "      <td>0.0</td>\n",
       "    </tr>\n",
       "    <tr>\n",
       "      <th>4</th>\n",
       "      <td>84.804688</td>\n",
       "      <td>36.117659</td>\n",
       "      <td>0.825013</td>\n",
       "      <td>3.274125</td>\n",
       "      <td>2.790134</td>\n",
       "      <td>20.618009</td>\n",
       "      <td>8.405008</td>\n",
       "      <td>76.291128</td>\n",
       "      <td>0.0</td>\n",
       "    </tr>\n",
       "  </tbody>\n",
       "</table>\n",
       "</div>"
      ],
      "text/plain": [
       "    Mean of the integrated profile  \\\n",
       "0                       121.156250   \n",
       "1                        76.968750   \n",
       "2                       130.585938   \n",
       "3                       156.398438   \n",
       "4                        84.804688   \n",
       "\n",
       "    Standard deviation of the integrated profile  \\\n",
       "0                                      48.372971   \n",
       "1                                      36.175557   \n",
       "2                                      53.229534   \n",
       "3                                      48.865942   \n",
       "4                                      36.117659   \n",
       "\n",
       "    Excess kurtosis of the integrated profile  \\\n",
       "0                                    0.375485   \n",
       "1                                    0.712898   \n",
       "2                                    0.133408   \n",
       "3                                   -0.215989   \n",
       "4                                    0.825013   \n",
       "\n",
       "    Skewness of the integrated profile   Mean of the DM-SNR curve  \\\n",
       "0                            -0.013165                   3.168896   \n",
       "1                             3.388719                   2.399666   \n",
       "2                            -0.297242                   2.743311   \n",
       "3                            -0.171294                  17.471572   \n",
       "4                             3.274125                   2.790134   \n",
       "\n",
       "    Standard deviation of the DM-SNR curve  \\\n",
       "0                                18.399367   \n",
       "1                                17.570997   \n",
       "2                                22.362553   \n",
       "3                                      NaN   \n",
       "4                                20.618009   \n",
       "\n",
       "    Excess kurtosis of the DM-SNR curve   Skewness of the DM-SNR curve  \\\n",
       "0                              7.449874                      65.159298   \n",
       "1                              9.414652                     102.722975   \n",
       "2                              8.508364                      74.031324   \n",
       "3                              2.958066                       7.197842   \n",
       "4                              8.405008                      76.291128   \n",
       "\n",
       "   target_class  \n",
       "0           0.0  \n",
       "1           0.0  \n",
       "2           0.0  \n",
       "3           0.0  \n",
       "4           0.0  "
      ]
     },
     "execution_count": 2,
     "metadata": {},
     "output_type": "execute_result"
    }
   ],
   "source": [
    "df = pd.read_csv('pulsar_data_train.csv')\n",
    "df.head()"
   ]
  },
  {
   "cell_type": "code",
   "execution_count": 3,
   "id": "aab6a36c",
   "metadata": {},
   "outputs": [
    {
     "data": {
      "text/plain": [
       "(12528, 9)"
      ]
     },
     "execution_count": 3,
     "metadata": {},
     "output_type": "execute_result"
    }
   ],
   "source": [
    "df.shape"
   ]
  },
  {
   "cell_type": "code",
   "execution_count": 4,
   "id": "249e3e04",
   "metadata": {},
   "outputs": [
    {
     "data": {
      "text/plain": [
       "Index([' Mean of the integrated profile',\n",
       "       ' Standard deviation of the integrated profile',\n",
       "       ' Excess kurtosis of the integrated profile',\n",
       "       ' Skewness of the integrated profile', ' Mean of the DM-SNR curve',\n",
       "       ' Standard deviation of the DM-SNR curve',\n",
       "       ' Excess kurtosis of the DM-SNR curve', ' Skewness of the DM-SNR curve',\n",
       "       'target_class'],\n",
       "      dtype='object')"
      ]
     },
     "execution_count": 4,
     "metadata": {},
     "output_type": "execute_result"
    }
   ],
   "source": [
    "col_names = df.columns\n",
    "\n",
    "col_names"
   ]
  },
  {
   "cell_type": "code",
   "execution_count": 6,
   "id": "9f9e8b0b",
   "metadata": {},
   "outputs": [
    {
     "data": {
      "text/plain": [
       "Index(['Mean of the integrated profile',\n",
       "       'Standard deviation of the integrated profile',\n",
       "       'Excess kurtosis of the integrated profile',\n",
       "       'Skewness of the integrated profile', 'Mean of the DM-SNR curve',\n",
       "       'Standard deviation of the DM-SNR curve',\n",
       "       'Excess kurtosis of the DM-SNR curve', 'Skewness of the DM-SNR curve',\n",
       "       'target_class'],\n",
       "      dtype='object')"
      ]
     },
     "execution_count": 6,
     "metadata": {},
     "output_type": "execute_result"
    }
   ],
   "source": [
    "df.columns = df.columns.str.strip()\n",
    "\n",
    "df.columns"
   ]
  },
  {
   "cell_type": "code",
   "execution_count": 7,
   "id": "4e189049",
   "metadata": {},
   "outputs": [
    {
     "data": {
      "text/plain": [
       "Index(['IP Mean', 'IP Sd', 'IP Kurtosis', 'IP Skewness', 'DM-SNR Mean',\n",
       "       'DM-SNR Sd', 'DM-SNR Kurtosis', 'DM-SNR Skewness', 'target_class'],\n",
       "      dtype='object')"
      ]
     },
     "execution_count": 7,
     "metadata": {},
     "output_type": "execute_result"
    }
   ],
   "source": [
    "df.columns = ['IP Mean', 'IP Sd', 'IP Kurtosis', 'IP Skewness', 'DM-SNR Mean', 'DM-SNR Sd',\n",
    "             'DM-SNR Kurtosis', 'DM-SNR Skewness', 'target_class' ]\n",
    "\n",
    "df.columns"
   ]
  },
  {
   "cell_type": "code",
   "execution_count": 8,
   "id": "7e0042de",
   "metadata": {},
   "outputs": [
    {
     "data": {
      "text/plain": [
       "0.0    11375\n",
       "1.0     1153\n",
       "Name: target_class, dtype: int64"
      ]
     },
     "execution_count": 8,
     "metadata": {},
     "output_type": "execute_result"
    }
   ],
   "source": [
    "df.target_class.value_counts()  # class imbalance"
   ]
  },
  {
   "cell_type": "code",
   "execution_count": 9,
   "id": "156ab1b7",
   "metadata": {},
   "outputs": [
    {
     "name": "stdout",
     "output_type": "stream",
     "text": [
      "<class 'pandas.core.frame.DataFrame'>\n",
      "RangeIndex: 12528 entries, 0 to 12527\n",
      "Data columns (total 9 columns):\n",
      " #   Column           Non-Null Count  Dtype  \n",
      "---  ------           --------------  -----  \n",
      " 0   IP Mean          12528 non-null  float64\n",
      " 1   IP Sd            12528 non-null  float64\n",
      " 2   IP Kurtosis      10793 non-null  float64\n",
      " 3   IP Skewness      12528 non-null  float64\n",
      " 4   DM-SNR Mean      12528 non-null  float64\n",
      " 5   DM-SNR Sd        11350 non-null  float64\n",
      " 6   DM-SNR Kurtosis  12528 non-null  float64\n",
      " 7   DM-SNR Skewness  11903 non-null  float64\n",
      " 8   target_class     12528 non-null  float64\n",
      "dtypes: float64(9)\n",
      "memory usage: 881.0 KB\n"
     ]
    }
   ],
   "source": [
    "df.info()"
   ]
  },
  {
   "cell_type": "code",
   "execution_count": 10,
   "id": "fcfdbdff",
   "metadata": {},
   "outputs": [],
   "source": [
    "df.dropna(inplace=True)"
   ]
  },
  {
   "cell_type": "code",
   "execution_count": 11,
   "id": "a2c8baa7",
   "metadata": {},
   "outputs": [
    {
     "name": "stdout",
     "output_type": "stream",
     "text": [
      "<class 'pandas.core.frame.DataFrame'>\n",
      "Int64Index: 9273 entries, 0 to 12527\n",
      "Data columns (total 9 columns):\n",
      " #   Column           Non-Null Count  Dtype  \n",
      "---  ------           --------------  -----  \n",
      " 0   IP Mean          9273 non-null   float64\n",
      " 1   IP Sd            9273 non-null   float64\n",
      " 2   IP Kurtosis      9273 non-null   float64\n",
      " 3   IP Skewness      9273 non-null   float64\n",
      " 4   DM-SNR Mean      9273 non-null   float64\n",
      " 5   DM-SNR Sd        9273 non-null   float64\n",
      " 6   DM-SNR Kurtosis  9273 non-null   float64\n",
      " 7   DM-SNR Skewness  9273 non-null   float64\n",
      " 8   target_class     9273 non-null   float64\n",
      "dtypes: float64(9)\n",
      "memory usage: 724.5 KB\n"
     ]
    }
   ],
   "source": [
    "df.info()"
   ]
  },
  {
   "cell_type": "code",
   "execution_count": 12,
   "id": "4fe37898",
   "metadata": {},
   "outputs": [
    {
     "data": {
      "text/plain": [
       "0.0    8423\n",
       "1.0     850\n",
       "Name: target_class, dtype: int64"
      ]
     },
     "execution_count": 12,
     "metadata": {},
     "output_type": "execute_result"
    }
   ],
   "source": [
    "df.target_class.value_counts()  # class imbalance"
   ]
  },
  {
   "cell_type": "code",
   "execution_count": 13,
   "id": "32cf1547",
   "metadata": {},
   "outputs": [
    {
     "data": {
      "text/plain": [
       "IP Mean            0\n",
       "IP Sd              0\n",
       "IP Kurtosis        0\n",
       "IP Skewness        0\n",
       "DM-SNR Mean        0\n",
       "DM-SNR Sd          0\n",
       "DM-SNR Kurtosis    0\n",
       "DM-SNR Skewness    0\n",
       "target_class       0\n",
       "dtype: int64"
      ]
     },
     "execution_count": 13,
     "metadata": {},
     "output_type": "execute_result"
    }
   ],
   "source": [
    "df.isnull().sum()"
   ]
  },
  {
   "cell_type": "code",
   "execution_count": 14,
   "id": "90194a5e",
   "metadata": {},
   "outputs": [
    {
     "data": {
      "text/html": [
       "<div>\n",
       "<style scoped>\n",
       "    .dataframe tbody tr th:only-of-type {\n",
       "        vertical-align: middle;\n",
       "    }\n",
       "\n",
       "    .dataframe tbody tr th {\n",
       "        vertical-align: top;\n",
       "    }\n",
       "\n",
       "    .dataframe thead th {\n",
       "        text-align: right;\n",
       "    }\n",
       "</style>\n",
       "<table border=\"1\" class=\"dataframe\">\n",
       "  <thead>\n",
       "    <tr style=\"text-align: right;\">\n",
       "      <th></th>\n",
       "      <th>IP Mean</th>\n",
       "      <th>IP Sd</th>\n",
       "      <th>IP Kurtosis</th>\n",
       "      <th>IP Skewness</th>\n",
       "      <th>DM-SNR Mean</th>\n",
       "      <th>DM-SNR Sd</th>\n",
       "      <th>DM-SNR Kurtosis</th>\n",
       "      <th>DM-SNR Skewness</th>\n",
       "      <th>target_class</th>\n",
       "    </tr>\n",
       "  </thead>\n",
       "  <tbody>\n",
       "    <tr>\n",
       "      <th>count</th>\n",
       "      <td>9273.000000</td>\n",
       "      <td>9273.000000</td>\n",
       "      <td>9273.000000</td>\n",
       "      <td>9273.000000</td>\n",
       "      <td>9273.000000</td>\n",
       "      <td>9273.000000</td>\n",
       "      <td>9273.000000</td>\n",
       "      <td>9273.000000</td>\n",
       "      <td>9273.000000</td>\n",
       "    </tr>\n",
       "    <tr>\n",
       "      <th>mean</th>\n",
       "      <td>111.133750</td>\n",
       "      <td>46.514053</td>\n",
       "      <td>0.479546</td>\n",
       "      <td>1.790673</td>\n",
       "      <td>12.735359</td>\n",
       "      <td>26.327860</td>\n",
       "      <td>8.327933</td>\n",
       "      <td>105.783345</td>\n",
       "      <td>0.091664</td>\n",
       "    </tr>\n",
       "    <tr>\n",
       "      <th>std</th>\n",
       "      <td>25.686405</td>\n",
       "      <td>6.781320</td>\n",
       "      <td>1.071155</td>\n",
       "      <td>6.286567</td>\n",
       "      <td>29.766782</td>\n",
       "      <td>19.542634</td>\n",
       "      <td>4.549914</td>\n",
       "      <td>108.166669</td>\n",
       "      <td>0.288567</td>\n",
       "    </tr>\n",
       "    <tr>\n",
       "      <th>min</th>\n",
       "      <td>6.187500</td>\n",
       "      <td>24.772042</td>\n",
       "      <td>-1.738021</td>\n",
       "      <td>-1.791886</td>\n",
       "      <td>0.213211</td>\n",
       "      <td>7.370432</td>\n",
       "      <td>-2.636857</td>\n",
       "      <td>-1.976976</td>\n",
       "      <td>0.000000</td>\n",
       "    </tr>\n",
       "    <tr>\n",
       "      <th>25%</th>\n",
       "      <td>100.984375</td>\n",
       "      <td>42.398382</td>\n",
       "      <td>0.024497</td>\n",
       "      <td>-0.188021</td>\n",
       "      <td>1.910535</td>\n",
       "      <td>14.376641</td>\n",
       "      <td>5.788817</td>\n",
       "      <td>34.917943</td>\n",
       "      <td>0.000000</td>\n",
       "    </tr>\n",
       "    <tr>\n",
       "      <th>50%</th>\n",
       "      <td>115.234375</td>\n",
       "      <td>46.895026</td>\n",
       "      <td>0.223858</td>\n",
       "      <td>0.202884</td>\n",
       "      <td>2.797659</td>\n",
       "      <td>18.435186</td>\n",
       "      <td>8.427475</td>\n",
       "      <td>83.151969</td>\n",
       "      <td>0.000000</td>\n",
       "    </tr>\n",
       "    <tr>\n",
       "      <th>75%</th>\n",
       "      <td>127.328125</td>\n",
       "      <td>51.001785</td>\n",
       "      <td>0.472066</td>\n",
       "      <td>0.930710</td>\n",
       "      <td>5.459866</td>\n",
       "      <td>28.387019</td>\n",
       "      <td>10.721934</td>\n",
       "      <td>139.770330</td>\n",
       "      <td>0.000000</td>\n",
       "    </tr>\n",
       "    <tr>\n",
       "      <th>max</th>\n",
       "      <td>189.734375</td>\n",
       "      <td>91.808628</td>\n",
       "      <td>8.069522</td>\n",
       "      <td>68.101622</td>\n",
       "      <td>211.948997</td>\n",
       "      <td>110.642211</td>\n",
       "      <td>34.539844</td>\n",
       "      <td>1191.000837</td>\n",
       "      <td>1.000000</td>\n",
       "    </tr>\n",
       "  </tbody>\n",
       "</table>\n",
       "</div>"
      ],
      "text/plain": [
       "           IP Mean        IP Sd  IP Kurtosis  IP Skewness  DM-SNR Mean  \\\n",
       "count  9273.000000  9273.000000  9273.000000  9273.000000  9273.000000   \n",
       "mean    111.133750    46.514053     0.479546     1.790673    12.735359   \n",
       "std      25.686405     6.781320     1.071155     6.286567    29.766782   \n",
       "min       6.187500    24.772042    -1.738021    -1.791886     0.213211   \n",
       "25%     100.984375    42.398382     0.024497    -0.188021     1.910535   \n",
       "50%     115.234375    46.895026     0.223858     0.202884     2.797659   \n",
       "75%     127.328125    51.001785     0.472066     0.930710     5.459866   \n",
       "max     189.734375    91.808628     8.069522    68.101622   211.948997   \n",
       "\n",
       "         DM-SNR Sd  DM-SNR Kurtosis  DM-SNR Skewness  target_class  \n",
       "count  9273.000000      9273.000000      9273.000000   9273.000000  \n",
       "mean     26.327860         8.327933       105.783345      0.091664  \n",
       "std      19.542634         4.549914       108.166669      0.288567  \n",
       "min       7.370432        -2.636857        -1.976976      0.000000  \n",
       "25%      14.376641         5.788817        34.917943      0.000000  \n",
       "50%      18.435186         8.427475        83.151969      0.000000  \n",
       "75%      28.387019        10.721934       139.770330      0.000000  \n",
       "max     110.642211        34.539844      1191.000837      1.000000  "
      ]
     },
     "execution_count": 14,
     "metadata": {},
     "output_type": "execute_result"
    }
   ],
   "source": [
    "df.describe()"
   ]
  },
  {
   "cell_type": "code",
   "execution_count": 15,
   "id": "ac1f33bb",
   "metadata": {},
   "outputs": [],
   "source": [
    "import matplotlib.pyplot as plt"
   ]
  },
  {
   "cell_type": "code",
   "execution_count": 18,
   "id": "dd4cd86d",
   "metadata": {},
   "outputs": [
    {
     "data": {
      "text/plain": [
       "Text(0, 0.5, 'DM-SNR Skewness')"
      ]
     },
     "execution_count": 18,
     "metadata": {},
     "output_type": "execute_result"
    },
    {
     "data": {
      "image/png": "[encoded data removed]",
      "text/plain": [
       "<Figure size 1728x1440 with 8 Axes>"
      ]
     },
     "metadata": {
      "needs_background": "light"
     },
     "output_type": "display_data"
    }
   ],
   "source": [
    "plt.figure(figsize=(24,20))\n",
    "\n",
    "plt.subplot(4,2,1)\n",
    "fig = df.boxplot(column='IP Mean')\n",
    "fig.set_title('')\n",
    "fig.set_ylabel('IP Mean')\n",
    "\n",
    "plt.subplot(4,2,2)\n",
    "fig = df.boxplot(column='IP Sd')\n",
    "fig.set_title('')\n",
    "fig.set_ylabel('IP Sd')\n",
    "\n",
    "plt.subplot(4,2,3)\n",
    "fig = df.boxplot(column='IP Kurtosis')\n",
    "fig.set_title('')\n",
    "fig.set_ylabel('IP Kurtosis')\n",
    "\n",
    "plt.subplot(4,2,4)\n",
    "fig = df.boxplot(column='IP Skewness')\n",
    "fig.set_title('')\n",
    "fig.set_ylabel('IP Skewness')\n",
    "\n",
    "plt.subplot(4,2,5)\n",
    "fig = df.boxplot(column='DM-SNR Mean')\n",
    "fig.set_title('')\n",
    "fig.set_ylabel('IP DM-SNR Mean')\n",
    "\n",
    "plt.subplot(4,2,6)\n",
    "fig = df.boxplot(column='DM-SNR Sd')\n",
    "fig.set_title('')\n",
    "fig.set_ylabel('IP DM-SNR Sd')\n",
    "\n",
    "plt.subplot(4,2,7)\n",
    "fig = df.boxplot(column='DM-SNR Kurtosis')\n",
    "fig.set_title('')\n",
    "fig.set_ylabel('DM-SNR Kurtosis')\n",
    "\n",
    "plt.subplot(4,2,8)\n",
    "fig = df.boxplot(column='DM-SNR Skewness')\n",
    "fig.set_title('')\n",
    "fig.set_ylabel('DM-SNR Skewness')\n",
    "\n"
   ]
  },
  {
   "cell_type": "code",
   "execution_count": null,
   "id": "16d6f5e1",
   "metadata": {},
   "outputs": [],
   "source": [
    "# how to handle outliers wiht SVM\n",
    "\n",
    "\n",
    "- 2 variants\n",
    "\n",
    "1 - hard-margin - does not deal with outliers\n",
    "\n",
    "\n",
    "2 - soft-margin - good with outliers\n",
    "  - for every data point that is classified with less margin\n",
    "  - add a penalty in the form of C parameter\n",
    "\n",
    "low C  - allowing more outliers\n",
    "high C - allowing less outliers"
   ]
  },
  {
   "cell_type": "code",
   "execution_count": 19,
   "id": "dd2e99b0",
   "metadata": {},
   "outputs": [],
   "source": [
    "# features\n",
    "\n",
    "x = df.drop(['target_class'], axis=1)\n",
    "\n",
    "y = df['target_class']"
   ]
  },
  {
   "cell_type": "code",
   "execution_count": 20,
   "id": "d94e184c",
   "metadata": {},
   "outputs": [],
   "source": [
    "from sklearn.model_selection import train_test_split\n",
    "\n",
    "xtrain, xtest, ytrain, ytest = train_test_split(x, y, test_size=0.2, random_state=0)"
   ]
  },
  {
   "cell_type": "code",
   "execution_count": 21,
   "id": "a0383098",
   "metadata": {},
   "outputs": [],
   "source": [
    "cols = xtrain.columns"
   ]
  },
  {
   "cell_type": "code",
   "execution_count": 23,
   "id": "3aff83f9",
   "metadata": {},
   "outputs": [],
   "source": [
    "# Feature Scaling\n",
    "\n",
    "from sklearn.preprocessing import StandardScaler\n",
    "\n",
    "scaler = StandardScaler()\n",
    "\n",
    "xtrain = scaler.fit_transform(xtrain)\n",
    "\n",
    "xtest = scaler.transform(xtest)"
   ]
  },
  {
   "cell_type": "code",
   "execution_count": 24,
   "id": "8ba72ce2",
   "metadata": {},
   "outputs": [],
   "source": [
    "xtrain = pd.DataFrame(xtrain, columns=[cols])\n",
    "xtest = pd.DataFrame(xtest, columns=[cols])"
   ]
  },
  {
   "cell_type": "code",
   "execution_count": 25,
   "id": "ed9ebbb2",
   "metadata": {},
   "outputs": [
    {
     "data": {
      "text/html": [
       "<div>\n",
       "<style scoped>\n",
       "    .dataframe tbody tr th:only-of-type {\n",
       "        vertical-align: middle;\n",
       "    }\n",
       "\n",
       "    .dataframe tbody tr th {\n",
       "        vertical-align: top;\n",
       "    }\n",
       "\n",
       "    .dataframe thead tr th {\n",
       "        text-align: left;\n",
       "    }\n",
       "</style>\n",
       "<table border=\"1\" class=\"dataframe\">\n",
       "  <thead>\n",
       "    <tr>\n",
       "      <th></th>\n",
       "      <th>IP Mean</th>\n",
       "      <th>IP Sd</th>\n",
       "      <th>IP Kurtosis</th>\n",
       "      <th>IP Skewness</th>\n",
       "      <th>DM-SNR Mean</th>\n",
       "      <th>DM-SNR Sd</th>\n",
       "      <th>DM-SNR Kurtosis</th>\n",
       "      <th>DM-SNR Skewness</th>\n",
       "    </tr>\n",
       "  </thead>\n",
       "  <tbody>\n",
       "    <tr>\n",
       "      <th>count</th>\n",
       "      <td>7.418000e+03</td>\n",
       "      <td>7.418000e+03</td>\n",
       "      <td>7.418000e+03</td>\n",
       "      <td>7.418000e+03</td>\n",
       "      <td>7.418000e+03</td>\n",
       "      <td>7.418000e+03</td>\n",
       "      <td>7.418000e+03</td>\n",
       "      <td>7.418000e+03</td>\n",
       "    </tr>\n",
       "    <tr>\n",
       "      <th>mean</th>\n",
       "      <td>1.518811e-16</td>\n",
       "      <td>2.761077e-16</td>\n",
       "      <td>1.154674e-17</td>\n",
       "      <td>-5.567578e-18</td>\n",
       "      <td>-7.623242e-17</td>\n",
       "      <td>-6.794840e-18</td>\n",
       "      <td>8.588121e-17</td>\n",
       "      <td>-2.425339e-17</td>\n",
       "    </tr>\n",
       "    <tr>\n",
       "      <th>std</th>\n",
       "      <td>1.000067e+00</td>\n",
       "      <td>1.000067e+00</td>\n",
       "      <td>1.000067e+00</td>\n",
       "      <td>1.000067e+00</td>\n",
       "      <td>1.000067e+00</td>\n",
       "      <td>1.000067e+00</td>\n",
       "      <td>1.000067e+00</td>\n",
       "      <td>1.000067e+00</td>\n",
       "    </tr>\n",
       "    <tr>\n",
       "      <th>min</th>\n",
       "      <td>-4.062595e+00</td>\n",
       "      <td>-3.195114e+00</td>\n",
       "      <td>-2.039801e+00</td>\n",
       "      <td>-5.630418e-01</td>\n",
       "      <td>-4.201420e-01</td>\n",
       "      <td>-9.704665e-01</td>\n",
       "      <td>-2.413736e+00</td>\n",
       "      <td>-9.966851e-01</td>\n",
       "    </tr>\n",
       "    <tr>\n",
       "      <th>25%</th>\n",
       "      <td>-3.886562e-01</td>\n",
       "      <td>-6.095197e-01</td>\n",
       "      <td>-4.225747e-01</td>\n",
       "      <td>-3.146418e-01</td>\n",
       "      <td>-3.626540e-01</td>\n",
       "      <td>-6.104157e-01</td>\n",
       "      <td>-5.597244e-01</td>\n",
       "      <td>-6.548497e-01</td>\n",
       "    </tr>\n",
       "    <tr>\n",
       "      <th>50%</th>\n",
       "      <td>1.634366e-01</td>\n",
       "      <td>6.559767e-02</td>\n",
       "      <td>-2.410595e-01</td>\n",
       "      <td>-2.543538e-01</td>\n",
       "      <td>-3.327143e-01</td>\n",
       "      <td>-4.046059e-01</td>\n",
       "      <td>2.075082e-02</td>\n",
       "      <td>-2.092757e-01</td>\n",
       "    </tr>\n",
       "    <tr>\n",
       "      <th>75%</th>\n",
       "      <td>6.275847e-01</td>\n",
       "      <td>6.658203e-01</td>\n",
       "      <td>-1.245402e-02</td>\n",
       "      <td>-1.410595e-01</td>\n",
       "      <td>-2.422847e-01</td>\n",
       "      <td>1.101465e-01</td>\n",
       "      <td>5.199843e-01</td>\n",
       "      <td>3.063228e-01</td>\n",
       "    </tr>\n",
       "    <tr>\n",
       "      <th>max</th>\n",
       "      <td>2.870438e+00</td>\n",
       "      <td>5.964328e+00</td>\n",
       "      <td>6.785511e+00</td>\n",
       "      <td>9.540137e+00</td>\n",
       "      <td>6.768125e+00</td>\n",
       "      <td>4.336626e+00</td>\n",
       "      <td>5.744530e+00</td>\n",
       "      <td>9.966367e+00</td>\n",
       "    </tr>\n",
       "  </tbody>\n",
       "</table>\n",
       "</div>"
      ],
      "text/plain": [
       "            IP Mean         IP Sd   IP Kurtosis   IP Skewness   DM-SNR Mean  \\\n",
       "count  7.418000e+03  7.418000e+03  7.418000e+03  7.418000e+03  7.418000e+03   \n",
       "mean   1.518811e-16  2.761077e-16  1.154674e-17 -5.567578e-18 -7.623242e-17   \n",
       "std    1.000067e+00  1.000067e+00  1.000067e+00  1.000067e+00  1.000067e+00   \n",
       "min   -4.062595e+00 -3.195114e+00 -2.039801e+00 -5.630418e-01 -4.201420e-01   \n",
       "25%   -3.886562e-01 -6.095197e-01 -4.225747e-01 -3.146418e-01 -3.626540e-01   \n",
       "50%    1.634366e-01  6.559767e-02 -2.410595e-01 -2.543538e-01 -3.327143e-01   \n",
       "75%    6.275847e-01  6.658203e-01 -1.245402e-02 -1.410595e-01 -2.422847e-01   \n",
       "max    2.870438e+00  5.964328e+00  6.785511e+00  9.540137e+00  6.768125e+00   \n",
       "\n",
       "          DM-SNR Sd DM-SNR Kurtosis DM-SNR Skewness  \n",
       "count  7.418000e+03    7.418000e+03    7.418000e+03  \n",
       "mean  -6.794840e-18    8.588121e-17   -2.425339e-17  \n",
       "std    1.000067e+00    1.000067e+00    1.000067e+00  \n",
       "min   -9.704665e-01   -2.413736e+00   -9.966851e-01  \n",
       "25%   -6.104157e-01   -5.597244e-01   -6.548497e-01  \n",
       "50%   -4.046059e-01    2.075082e-02   -2.092757e-01  \n",
       "75%    1.101465e-01    5.199843e-01    3.063228e-01  \n",
       "max    4.336626e+00    5.744530e+00    9.966367e+00  "
      ]
     },
     "execution_count": 25,
     "metadata": {},
     "output_type": "execute_result"
    }
   ],
   "source": [
    "xtrain.describe()"
   ]
  },
  {
   "cell_type": "markdown",
   "id": "c62d5a10",
   "metadata": {},
   "source": [
    "# SVC classifier"
   ]
  },
  {
   "cell_type": "code",
   "execution_count": 26,
   "id": "6a0f1640",
   "metadata": {},
   "outputs": [],
   "source": [
    "from sklearn.svm import SVC\n",
    "from sklearn.metrics import accuracy_score"
   ]
  },
  {
   "cell_type": "code",
   "execution_count": 27,
   "id": "d8d25b33",
   "metadata": {},
   "outputs": [
    {
     "name": "stderr",
     "output_type": "stream",
     "text": [
      "C:\\Users\\himan\\anaconda3\\lib\\site-packages\\sklearn\\utils\\validation.py:1688: FutureWarning: Feature names only support names that are all strings. Got feature names with dtypes: ['tuple']. An error will be raised in 1.2.\n",
      "  warnings.warn(\n",
      "C:\\Users\\himan\\anaconda3\\lib\\site-packages\\sklearn\\utils\\validation.py:1688: FutureWarning: Feature names only support names that are all strings. Got feature names with dtypes: ['tuple']. An error will be raised in 1.2.\n",
      "  warnings.warn(\n"
     ]
    }
   ],
   "source": [
    "svc = SVC()\n",
    "\n",
    "svc.fit(xtrain, ytrain)\n",
    "\n",
    "ypred = svc.predict(xtest)"
   ]
  },
  {
   "cell_type": "code",
   "execution_count": 28,
   "id": "24391036",
   "metadata": {},
   "outputs": [
    {
     "data": {
      "text/plain": [
       "0.9730458221024259"
      ]
     },
     "execution_count": 28,
     "metadata": {},
     "output_type": "execute_result"
    }
   ],
   "source": [
    "accuracy_score(ytest, ypred)"
   ]
  },
  {
   "cell_type": "code",
   "execution_count": 29,
   "id": "03521775",
   "metadata": {},
   "outputs": [
    {
     "name": "stderr",
     "output_type": "stream",
     "text": [
      "C:\\Users\\himan\\anaconda3\\lib\\site-packages\\sklearn\\utils\\validation.py:1688: FutureWarning: Feature names only support names that are all strings. Got feature names with dtypes: ['tuple']. An error will be raised in 1.2.\n",
      "  warnings.warn(\n"
     ]
    },
    {
     "name": "stdout",
     "output_type": "stream",
     "text": [
      "0.9762803234501348\n"
     ]
    },
    {
     "name": "stderr",
     "output_type": "stream",
     "text": [
      "C:\\Users\\himan\\anaconda3\\lib\\site-packages\\sklearn\\utils\\validation.py:1688: FutureWarning: Feature names only support names that are all strings. Got feature names with dtypes: ['tuple']. An error will be raised in 1.2.\n",
      "  warnings.warn(\n"
     ]
    }
   ],
   "source": [
    "# c = 100 and kernel = rbf\n",
    "\n",
    "svc = SVC(C=100.0)\n",
    "\n",
    "svc.fit(xtrain, ytrain)\n",
    "\n",
    "ypred = svc.predict(xtest)\n",
    "\n",
    "print(accuracy_score(ytest, ypred))"
   ]
  },
  {
   "cell_type": "code",
   "execution_count": 30,
   "id": "77bd75f9",
   "metadata": {},
   "outputs": [
    {
     "name": "stderr",
     "output_type": "stream",
     "text": [
      "C:\\Users\\himan\\anaconda3\\lib\\site-packages\\sklearn\\utils\\validation.py:1688: FutureWarning: Feature names only support names that are all strings. Got feature names with dtypes: ['tuple']. An error will be raised in 1.2.\n",
      "  warnings.warn(\n"
     ]
    },
    {
     "name": "stdout",
     "output_type": "stream",
     "text": [
      "0.9752021563342318\n"
     ]
    },
    {
     "name": "stderr",
     "output_type": "stream",
     "text": [
      "C:\\Users\\himan\\anaconda3\\lib\\site-packages\\sklearn\\utils\\validation.py:1688: FutureWarning: Feature names only support names that are all strings. Got feature names with dtypes: ['tuple']. An error will be raised in 1.2.\n",
      "  warnings.warn(\n"
     ]
    }
   ],
   "source": [
    "# c = 1000 and kernel = rbf\n",
    "\n",
    "svc = SVC(C=1000.0)\n",
    "\n",
    "svc.fit(xtrain, ytrain)\n",
    "\n",
    "ypred = svc.predict(xtest)\n",
    "\n",
    "print(accuracy_score(ytest, ypred))"
   ]
  },
  {
   "cell_type": "code",
   "execution_count": 31,
   "id": "2bc72e55",
   "metadata": {},
   "outputs": [
    {
     "name": "stderr",
     "output_type": "stream",
     "text": [
      "C:\\Users\\himan\\anaconda3\\lib\\site-packages\\sklearn\\utils\\validation.py:1688: FutureWarning: Feature names only support names that are all strings. Got feature names with dtypes: ['tuple']. An error will be raised in 1.2.\n",
      "  warnings.warn(\n",
      "C:\\Users\\himan\\anaconda3\\lib\\site-packages\\sklearn\\utils\\validation.py:1688: FutureWarning: Feature names only support names that are all strings. Got feature names with dtypes: ['tuple']. An error will be raised in 1.2.\n",
      "  warnings.warn(\n"
     ]
    },
    {
     "name": "stdout",
     "output_type": "stream",
     "text": [
      "0.9746630727762803\n"
     ]
    }
   ],
   "source": [
    "# c = 1 and kernel = linear\n",
    "\n",
    "linear_svc = SVC(kernel='linear' ,C=1.0)\n",
    "\n",
    "linear_svc.fit(xtrain, ytrain)\n",
    "\n",
    "ypred = linear_svc.predict(xtest)\n",
    "\n",
    "print(accuracy_score(ytest, ypred))"
   ]
  },
  {
   "cell_type": "code",
   "execution_count": 32,
   "id": "0754b536",
   "metadata": {},
   "outputs": [
    {
     "name": "stderr",
     "output_type": "stream",
     "text": [
      "C:\\Users\\himan\\anaconda3\\lib\\site-packages\\sklearn\\utils\\validation.py:1688: FutureWarning: Feature names only support names that are all strings. Got feature names with dtypes: ['tuple']. An error will be raised in 1.2.\n",
      "  warnings.warn(\n"
     ]
    },
    {
     "name": "stdout",
     "output_type": "stream",
     "text": [
      "0.9746630727762803\n"
     ]
    },
    {
     "name": "stderr",
     "output_type": "stream",
     "text": [
      "C:\\Users\\himan\\anaconda3\\lib\\site-packages\\sklearn\\utils\\validation.py:1688: FutureWarning: Feature names only support names that are all strings. Got feature names with dtypes: ['tuple']. An error will be raised in 1.2.\n",
      "  warnings.warn(\n"
     ]
    }
   ],
   "source": [
    "# c = 100 and kernel = linear\n",
    "\n",
    "linear_svc = SVC(kernel='linear' ,C=100.0)\n",
    "\n",
    "linear_svc.fit(xtrain, ytrain)\n",
    "\n",
    "ypred = linear_svc.predict(xtest)\n",
    "\n",
    "print(accuracy_score(ytest, ypred))"
   ]
  },
  {
   "cell_type": "code",
   "execution_count": 33,
   "id": "74032abb",
   "metadata": {},
   "outputs": [
    {
     "name": "stderr",
     "output_type": "stream",
     "text": [
      "C:\\Users\\himan\\anaconda3\\lib\\site-packages\\sklearn\\utils\\validation.py:1688: FutureWarning: Feature names only support names that are all strings. Got feature names with dtypes: ['tuple']. An error will be raised in 1.2.\n",
      "  warnings.warn(\n"
     ]
    },
    {
     "name": "stdout",
     "output_type": "stream",
     "text": [
      "0.9746630727762803\n"
     ]
    },
    {
     "name": "stderr",
     "output_type": "stream",
     "text": [
      "C:\\Users\\himan\\anaconda3\\lib\\site-packages\\sklearn\\utils\\validation.py:1688: FutureWarning: Feature names only support names that are all strings. Got feature names with dtypes: ['tuple']. An error will be raised in 1.2.\n",
      "  warnings.warn(\n"
     ]
    }
   ],
   "source": [
    "# c = 1000 and kernel = linear\n",
    "\n",
    "linear_svc = SVC(kernel='linear' ,C=1000.0)\n",
    "\n",
    "linear_svc.fit(xtrain, ytrain)\n",
    "\n",
    "ypred = linear_svc.predict(xtest)\n",
    "\n",
    "print(accuracy_score(ytest, ypred))"
   ]
  },
  {
   "cell_type": "markdown",
   "id": "a5320f4a",
   "metadata": {},
   "source": [
    "# Assignment\n",
    "\n",
    "- polynomial kernel\n",
    "- sigmoid kernel\n",
    "\n",
    "compare the train and test results"
   ]
  },
  {
   "cell_type": "code",
   "execution_count": 34,
   "id": "8769a2b2",
   "metadata": {},
   "outputs": [
    {
     "data": {
      "text/plain": [
       "array([[1671,   13],\n",
       "       [  34,  137]], dtype=int64)"
      ]
     },
     "execution_count": 34,
     "metadata": {},
     "output_type": "execute_result"
    }
   ],
   "source": [
    "from sklearn.metrics import confusion_matrix\n",
    "\n",
    "confusion_matrix(ytest, ypred)"
   ]
  },
  {
   "cell_type": "code",
   "execution_count": 35,
   "id": "9dcbc5ec",
   "metadata": {},
   "outputs": [
    {
     "name": "stdout",
     "output_type": "stream",
     "text": [
      "              precision    recall  f1-score   support\n",
      "\n",
      "         0.0       0.98      0.99      0.99      1684\n",
      "         1.0       0.91      0.80      0.85       171\n",
      "\n",
      "    accuracy                           0.97      1855\n",
      "   macro avg       0.95      0.90      0.92      1855\n",
      "weighted avg       0.97      0.97      0.97      1855\n",
      "\n"
     ]
    }
   ],
   "source": [
    "from sklearn.metrics import classification_report\n",
    "\n",
    "print(classification_report(ytest, ypred))"
   ]
  },
  {
   "cell_type": "code",
   "execution_count": 37,
   "id": "c5675ebe",
   "metadata": {},
   "outputs": [
    {
     "name": "stdout",
     "output_type": "stream",
     "text": [
      "0.025336927223719677\n"
     ]
    }
   ],
   "source": [
    "# classification error\n",
    "\n",
    "cm = confusion_matrix(ytest, ypred)\n",
    "\n",
    "TP = cm[0,0]\n",
    "TN = cm[1,1]\n",
    "FP = cm[0,1]\n",
    "FN = cm[1,0]\n",
    "\n",
    "classification_error = (FP + FN)/ (TP + TN + FP + FN)\n",
    "\n",
    "print(classification_error)"
   ]
  },
  {
   "cell_type": "code",
   "execution_count": null,
   "id": "191253b9",
   "metadata": {},
   "outputs": [],
   "source": []
  }
 ],
 "metadata": {
  "kernelspec": {
   "display_name": "Python 3 (ipykernel)",
   "language": "python",
   "name": "python3"
  },
  "language_info": {
   "codemirror_mode": {
    "name": "ipython",
    "version": 3
   },
   "file_extension": ".py",
   "mimetype": "text/x-python",
   "name": "python",
   "nbconvert_exporter": "python",
   "pygments_lexer": "ipython3",
   "version": "3.9.12"
  }
 },
 "nbformat": 4,
 "nbformat_minor": 5
}
