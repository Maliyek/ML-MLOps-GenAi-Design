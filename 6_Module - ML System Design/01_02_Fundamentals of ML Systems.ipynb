{
 "cells": [
  {
   "cell_type": "markdown",
   "id": "2b2fcf91",
   "metadata": {},
   "source": [
    "## ML Systems that is production ready"
   ]
  },
  {
   "cell_type": "code",
   "execution_count": null,
   "id": "6b509536",
   "metadata": {},
   "outputs": [],
   "source": [
    "\n",
    "Data Collection              Data Verification              Configuration\n",
    "\n",
    "\n",
    "\n",
    "Feature Extraction           ML Algorithms                  Analysis Tools\n",
    "                                                                                    Service \n",
    "                                                                                    Infrastructure\n",
    "\n",
    "\n",
    "Monitoring                   Process Management Tools       Machine Resource\n",
    "                                                            Management\n",
    "\n",
    "\n",
    "                             Evaluation Pipeline"
   ]
  },
  {
   "cell_type": "markdown",
   "id": "8c6db7e9",
   "metadata": {},
   "source": [
    "## the design steps (framework)"
   ]
  },
  {
   "cell_type": "code",
   "execution_count": null,
   "id": "36e37c86",
   "metadata": {},
   "outputs": [],
   "source": [
    "1 - Requirements(Business Objective)\n",
    "2 - Frame your ML Task\n",
    "3 - Data Preparation\n",
    "4 - Model Development\n",
    "5 - Evaluation\n",
    "6 - Deployment\n",
    "7 - Monitoring"
   ]
  },
  {
   "cell_type": "markdown",
   "id": "07abd5d1",
   "metadata": {},
   "source": [
    "# 1 - Requirements"
   ]
  },
  {
   "cell_type": "code",
   "execution_count": null,
   "id": "71ef0369",
   "metadata": {},
   "outputs": [],
   "source": [
    "- business objective -> increase the revenue or increase the number of registrations\n",
    "- features the system needs to support -> intreaction data\n",
    "- data -> what are the sources, how large is the datasets, is the data labeled?\n",
    "- constraints -> computing power, are you using a cloud based system, Is the model expected to improve automatically over time?\n",
    "- scale of the system -> how many useres do we have? \n",
    "- performance -> How fast prediction can be? whats the priority accuracy or latency?"
   ]
  },
  {
   "cell_type": "markdown",
   "id": "a4e64313",
   "metadata": {},
   "source": [
    "# 2 - Frame your ML Task"
   ]
  },
  {
   "cell_type": "code",
   "execution_count": null,
   "id": "32786167",
   "metadata": {},
   "outputs": [],
   "source": [
    "- define your ML Objective\n",
    "- specifying the systems input and output\n",
    "- selecting the right ML category"
   ]
  },
  {
   "cell_type": "code",
   "execution_count": null,
   "id": "589a15a0",
   "metadata": {},
   "outputs": [],
   "source": [
    "- define your ML Objective\n",
    "\n",
    "\n",
    "business objective                                        ML objective\n",
    "- (Youtube)increase user engagement                       maximize the time a user spends on watching videos\n",
    "- (instagram)imporve the platform safety                  accurately predict if a content is harmful\n",
    "- (bookmyshow)increase ticket sales                       maximize the number of event registrations"
   ]
  },
  {
   "cell_type": "code",
   "execution_count": null,
   "id": "4ae0ef29",
   "metadata": {},
   "outputs": [],
   "source": [
    "- specifying the systems input and output\n",
    "\n",
    "input          algorithm               output\n",
    "post           harmful content         probability\n",
    "               detection system"
   ]
  },
  {
   "cell_type": "code",
   "execution_count": null,
   "id": "57d434f6",
   "metadata": {},
   "outputs": [],
   "source": [
    "input                      output\n",
    "user           model       probability\n",
    "events"
   ]
  },
  {
   "cell_type": "code",
   "execution_count": null,
   "id": "8fac6af0",
   "metadata": {},
   "outputs": [],
   "source": [
    "- selecting the right ML category\n",
    "\n",
    "                                    ML Categories\n",
    "Supervised                          Unsupervised                            Reinforcement\n",
    "Regression                          clustering\n",
    "Classification                      dimensionality reduction\n",
    "    - binary\n",
    "    - multiclass"
   ]
  },
  {
   "cell_type": "markdown",
   "id": "add10f87",
   "metadata": {},
   "source": [
    "# 3 - Data Preparation"
   ]
  },
  {
   "cell_type": "code",
   "execution_count": null,
   "id": "5ac19b46",
   "metadata": {},
   "outputs": [],
   "source": [
    "data sources -----> data engineering -> feature engineering -----> prepared features\n",
    "                           data preparation process"
   ]
  },
  {
   "cell_type": "code",
   "execution_count": null,
   "id": "31d32911",
   "metadata": {},
   "outputs": [],
   "source": [
    "data engineering -> designing and building pipelines for collection, storing, retrieving and processing data.\n",
    "\n",
    "data sources -> \n",
    "- who collected the data\n",
    "- how clean the data is\n",
    "- can the source be trusted\n",
    "- is the data user generated or system generated\n",
    "\n",
    "data storage -> \n",
    "- the high-level understanding of how diff databases work"
   ]
  },
  {
   "cell_type": "code",
   "execution_count": null,
   "id": "75ac7f4c",
   "metadata": {},
   "outputs": [],
   "source": [
    "SQL\n",
    "\n",
    "Relational Database\n",
    "\n",
    "- MySQL\n",
    "- PostgreSQL"
   ]
  },
  {
   "cell_type": "code",
   "execution_count": null,
   "id": "58710eab",
   "metadata": {},
   "outputs": [],
   "source": [
    "NoSQL\n",
    "\n",
    "Key/value      -> Redis, DynamoDB\n",
    "Column-based   -> Cassandra, HBase\n",
    "Graph          -> Neo4J\n",
    "Document       -> MongoDB, CouchDB"
   ]
  },
  {
   "cell_type": "code",
   "execution_count": null,
   "id": "df0d618d",
   "metadata": {},
   "outputs": [],
   "source": [
    "ETL -> Extract Transform and Load\n",
    "\n",
    "\n",
    "the ETL process -> \n",
    "\n",
    "\n",
    "Extract                           Transform                          Load\n",
    "Data Sources                                                     to target destination\n",
    "\n",
    "\n",
    "Databases                                                          Database\n",
    "\n",
    "Logs                                                               files\n",
    "\n",
    "Files                                                              data warehouse\n"
   ]
  },
  {
   "cell_type": "markdown",
   "id": "77e74a75",
   "metadata": {},
   "source": [
    "# Day 2"
   ]
  },
  {
   "cell_type": "code",
   "execution_count": null,
   "id": "6191cdbc",
   "metadata": {},
   "outputs": [],
   "source": [
    "Data Types in ML\n",
    "\n",
    "- structured - numerical(Discrete and continuous), categorical(ordinal, nominal)\n",
    "             - predefined schema\n",
    "             - easy to search\n",
    "             - relational database, data warehouse\n",
    "\n",
    "\n",
    "- unstructured - audio, video, image, text\n",
    "               - no schema\n",
    "               - difficult to search\n",
    "               - NoSQL databases, data lakes"
   ]
  },
  {
   "cell_type": "markdown",
   "id": "d85735cd",
   "metadata": {},
   "source": [
    "# 4 - Model Development"
   ]
  },
  {
   "cell_type": "code",
   "execution_count": null,
   "id": "14efd2d2",
   "metadata": {},
   "outputs": [],
   "source": [
    "- model selection\n",
    "- simple baseline model - \n",
    "- experiment with simple models\n",
    "- move to complex models(deep learning models)\n",
    "- ensemble of models - 3 ways to do ensembling -> bagging, boosting and stacking"
   ]
  },
  {
   "cell_type": "code",
   "execution_count": null,
   "id": "94edbd26",
   "metadata": {},
   "outputs": [],
   "source": [
    "keep these points in mind ->\n",
    "\n",
    "- the amount of data for training\n",
    "- training speed\n",
    "- hyperparameters to choose and hyperparameter tuning techniques\n",
    "- is there any possibility of continual learning\n",
    "- compute requirements\n"
   ]
  },
  {
   "cell_type": "code",
   "execution_count": null,
   "id": "5ed2a37f",
   "metadata": {},
   "outputs": [],
   "source": [
    "model training\n",
    "- constructing the dataset\n",
    "            - collect the raw data\n",
    "            - feature engineering\n",
    "            - sampling strategy\n",
    "            - address class imbalance\n",
    "\n",
    "- choose a loss function\n",
    "- training from scratch vs fine-tuning\n",
    "\n",
    "\n",
    "Data Labels\n",
    "- How should we obtain the labels?\n",
    "- is the data annotated and how good the annotations are?\n",
    "- Natural Labels -> \n",
    "\n",
    "Model training\n",
    "- what loss function should we use? \n",
    "- what regularization should we use?\n",
    "- backpropagation\n",
    "- what activation function\n",
    "- how to handle an imbalanced dataset?\n",
    "- cause of overfitting or underfitting"
   ]
  },
  {
   "cell_type": "markdown",
   "id": "ec89b71c",
   "metadata": {},
   "source": [
    "# 5 - Evaluation"
   ]
  },
  {
   "cell_type": "code",
   "execution_count": null,
   "id": "92c9cc67",
   "metadata": {},
   "outputs": [],
   "source": [
    "offline evaluation - the model is in dvelopment phase\n",
    "- classification - precision, recall, f1-score, accuracy, ROC-AUC, confusion matrix\n",
    "- regression - MSE, MAE, RMSE\n",
    "- image generation - inception score, FID\n",
    "- NLP - BLEU, METEOR, ROUGE\n",
    "\n",
    "\n",
    "online evaluation\n",
    "ad click prediction - click through rate, revenue lift\n",
    "harmful content detection - valid posts\n",
    "video recommendation - total watch time, number of completed videos"
   ]
  },
  {
   "cell_type": "markdown",
   "id": "d601a628",
   "metadata": {},
   "source": [
    "# 6 - Deployment"
   ]
  },
  {
   "cell_type": "code",
   "execution_count": null,
   "id": "6db4a51a",
   "metadata": {},
   "outputs": [],
   "source": [
    "        cloud                                        on-deivce deployment\n",
    "- simple to deploy                                   - not simple\n",
    "- cloud cost will be high                            - no cloud cost\n",
    "- network latency is present                         - no network latency\n",
    "- few hardware constrains                            - memory, battery\n",
    "- less privacy                                       - more privacy\n",
    "- internet connection                                - no internet needed\n",
    "\n",
    "\n",
    "- model compression\n",
    "making a model smaller. methods to compress the model\n",
    " - knowledge distillation - train a small model and it will mimic the larger model\n",
    " - pruning - set least useful parameters to zero\n",
    " - quantization - 32 bits floating\n",
    "4 bytes = 32 bits\n",
    "\n",
    "10 -> 1010\n",
    "\n",
    "- testing in production\n",
    "- shadow deployment\n",
    "- A/B testing - traffic routed to each model should be random, run on sufficient data points\n",
    "- canary release \n",
    "- interleaving experiments\n",
    "- bandits\n",
    "\n",
    "\n",
    "- prediction pipeline\n",
    "- Batch prediction - pre-computed predictions\n",
    "- Online Prediction\n",
    "\n",
    "\n",
    "Question\n",
    "- where should the computation take place - on cloud of on device?\n",
    "- is model compression needed?\n",
    "- is real time access to features possible?\n",
    "- how should we test tje deployed model in production?"
   ]
  },
  {
   "cell_type": "markdown",
   "id": "dd1482aa",
   "metadata": {},
   "source": [
    "# 7 - Monitoring"
   ]
  },
  {
   "cell_type": "code",
   "execution_count": null,
   "id": "dea18ab4",
   "metadata": {},
   "outputs": [],
   "source": [
    "why the models fail in production\n",
    "\n",
    "- why a system fails in production\n",
    "data distribution shift\n",
    "- train on large dataset\n",
    "- regularly retain the model using labeled data\n",
    "\n",
    "\n",
    "- what to monitor - detect failures and identify shifts in ML systems\n",
    "- operation-related metrics\n",
    "        - ensure that the system is up and running\n",
    "        - average serving time\n",
    "        - number of prediction requests\n",
    "        - GPU utilization\n",
    "- ML-specific metrics\n",
    "        - input and output of the model\n",
    "        - drifts\n",
    "        - model accuracy\n",
    "        - model version"
   ]
  },
  {
   "cell_type": "code",
   "execution_count": null,
   "id": "399a72a2",
   "metadata": {},
   "outputs": [],
   "source": [
    "infrastructure - training, deploying, monitoring"
   ]
  },
  {
   "cell_type": "markdown",
   "id": "2b07399a",
   "metadata": {},
   "source": [
    "# Visual Search System of Pinterest\n",
    "\n",
    "Pinterest feature: https://in.pinterest.com/pin/495466396524160580/visual-search/?x=85&y=596&w=177&h=74&cropSource=6&imageSignature=bac31a3502b70a08d53a9eae4179145f"
   ]
  },
  {
   "cell_type": "markdown",
   "id": "00aea9a9",
   "metadata": {},
   "source": [
    "### frame the problem as an ML Task"
   ]
  },
  {
   "cell_type": "code",
   "execution_count": null,
   "id": "4fadac36",
   "metadata": {},
   "outputs": [],
   "source": [
    "# defining ML Objective\n",
    "\n",
    "accurately retrieve images that are visually similar to the image the user is searching for"
   ]
  },
  {
   "cell_type": "code",
   "execution_count": null,
   "id": "a8c3798a",
   "metadata": {},
   "outputs": [],
   "source": [
    "# input and output\n",
    "\n",
    "\n",
    "query image      ------>      Visual Search System         ----> results\n",
    "\n",
    "input by user                                                    output images(ranked by similarity)"
   ]
  },
  {
   "cell_type": "code",
   "execution_count": null,
   "id": "813bead7",
   "metadata": {},
   "outputs": [],
   "source": [
    "# choose the right ML category\n",
    "\n",
    "the goal is to rank a collection of images based on the relevance to a query,\n",
    "more relevant items appear higher in the search results\n",
    "\n",
    "ranking problem statements\n",
    "- recommendation systems\n",
    "- document retrieval\n",
    "- search engines"
   ]
  },
  {
   "cell_type": "code",
   "execution_count": null,
   "id": "c94c40b7",
   "metadata": {},
   "outputs": [],
   "source": [
    "ranking problems -> representation learning"
   ]
  },
  {
   "cell_type": "code",
   "execution_count": null,
   "id": "d7aeb7a8",
   "metadata": {},
   "outputs": [],
   "source": []
  }
 ],
 "metadata": {
  "kernelspec": {
   "display_name": "Python 3 (ipykernel)",
   "language": "python",
   "name": "python3"
  },
  "language_info": {
   "codemirror_mode": {
    "name": "ipython",
    "version": 3
   },
   "file_extension": ".py",
   "mimetype": "text/x-python",
   "name": "python",
   "nbconvert_exporter": "python",
   "pygments_lexer": "ipython3",
   "version": "3.9.12"
  }
 },
 "nbformat": 4,
 "nbformat_minor": 5
}
