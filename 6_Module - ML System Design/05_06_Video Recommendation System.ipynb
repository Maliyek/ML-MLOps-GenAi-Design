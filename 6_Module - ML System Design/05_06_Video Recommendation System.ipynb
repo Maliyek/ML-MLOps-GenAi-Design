{
 "cells": [
  {
   "cell_type": "markdown",
   "id": "6cd95da0",
   "metadata": {},
   "source": [
    "# Video Recommendation System\n",
    "\n",
    "## Part 1"
   ]
  },
  {
   "cell_type": "code",
   "execution_count": null,
   "id": "31dde9e7",
   "metadata": {},
   "outputs": [],
   "source": [
    "1 - Requirements(Business Objective)\n",
    "2 - Frame your ML Task\n",
    "3 - Data Preparation\n",
    "4 - Model Development\n",
    "5 - Evaluation\n",
    "6 - Deployment\n",
    "7 - Monitoring"
   ]
  },
  {
   "cell_type": "markdown",
   "id": "c1e8152c",
   "metadata": {},
   "source": [
    "# 1 - Requirements(Business Objective)\n"
   ]
  },
  {
   "cell_type": "code",
   "execution_count": null,
   "id": "000248cb",
   "metadata": {},
   "outputs": [],
   "source": [
    "Business objective - increase the user engagement"
   ]
  },
  {
   "cell_type": "markdown",
   "id": "1a7e8a41",
   "metadata": {},
   "source": [
    "# 2 - Frame your ML Task\n"
   ]
  },
  {
   "cell_type": "code",
   "execution_count": null,
   "id": "f20bebea",
   "metadata": {},
   "outputs": [],
   "source": [
    "- maximize the number of user clicks\n",
    "- maximize the number of completed videos\n",
    "- maximize the total watch time\n",
    "\n",
    "\n",
    "----->>> maximize the number of relevant videos\n",
    "\n",
    "\n",
    "user ---> video recommendation system -------->     Video 1, video 2, video 3 .........\n",
    "                     |                     \n",
    "                  videos                                 recommended videos"
   ]
  },
  {
   "cell_type": "code",
   "execution_count": null,
   "id": "db245130",
   "metadata": {},
   "outputs": [],
   "source": [
    "Types of recommendation system\n",
    "\n",
    "1 - Content-Based filtering\n",
    "2 - Collaborative Filtering\n",
    "3 - Hybrid Flitering"
   ]
  },
  {
   "cell_type": "markdown",
   "id": "2be06871",
   "metadata": {},
   "source": [
    "## 1 - Content Based filtering\n",
    "\n",
    "<img src='vr2.png' />"
   ]
  },
  {
   "cell_type": "code",
   "execution_count": null,
   "id": "b65da79d",
   "metadata": {},
   "outputs": [],
   "source": [
    "pros\n",
    "- ability to recommend new videos\n",
    "- ability to capture the unique interests of users"
   ]
  },
  {
   "cell_type": "code",
   "execution_count": null,
   "id": "082cb648",
   "metadata": {},
   "outputs": [],
   "source": [
    "cons\n",
    "- discover any new users interests\n",
    "- you need domain knowledge"
   ]
  },
  {
   "cell_type": "markdown",
   "id": "eae8f722",
   "metadata": {},
   "source": [
    "## 2 - Collaborative Filtering\n",
    "\n",
    "<img src='vr3.png' />"
   ]
  },
  {
   "cell_type": "code",
   "execution_count": null,
   "id": "0580a956",
   "metadata": {},
   "outputs": [],
   "source": [
    "->> collaborative filtering do not use video features\n",
    "\n",
    "pros\n",
    "- no domain knowledge\n",
    "- easy to discover users new area of interests\n",
    "- efficient"
   ]
  },
  {
   "cell_type": "code",
   "execution_count": null,
   "id": "b87ab21d",
   "metadata": {},
   "outputs": [],
   "source": [
    "cons\n",
    "- cannot handle niche interests"
   ]
  },
  {
   "cell_type": "markdown",
   "id": "313d5669",
   "metadata": {},
   "source": [
    "## 3 - Hybrid Filtering\n",
    "\n",
    "<img src='vr4.png' />"
   ]
  },
  {
   "cell_type": "markdown",
   "id": "fbe5751a",
   "metadata": {},
   "source": [
    "# 3 - Data Preparation\n",
    "\n",
    "\n",
    "### Data Engineering"
   ]
  },
  {
   "cell_type": "code",
   "execution_count": null,
   "id": "eceae9d4",
   "metadata": {},
   "outputs": [],
   "source": [
    "- video\n",
    "- users\n",
    "- user-video interactions"
   ]
  },
  {
   "cell_type": "code",
   "execution_count": null,
   "id": "7a2fd223",
   "metadata": {},
   "outputs": [],
   "source": [
    "- video\n",
    "\n",
    "metadata ->\n",
    "\n",
    "videoID  Length     ManualTags       ManualTitle                  Likes   Views     Language\n",
    "1          30      Dog, Family       my first day with my dog      151     5000     english"
   ]
  },
  {
   "cell_type": "code",
   "execution_count": null,
   "id": "9d03d603",
   "metadata": {},
   "outputs": [],
   "source": [
    "- users\n",
    "\n",
    "ID Username  Age  Gender  City   Country  Language  Timezone"
   ]
  },
  {
   "cell_type": "code",
   "execution_count": null,
   "id": "5c5c1efe",
   "metadata": {},
   "outputs": [],
   "source": [
    "- user-video interactions\n",
    "\n",
    "userID  VideoID   InteractionType    InterationValue    location    timestamp\n",
    "                   imperession          10 seconds   "
   ]
  },
  {
   "cell_type": "markdown",
   "id": "292d6b7d",
   "metadata": {},
   "source": [
    "### Feature Engineering"
   ]
  },
  {
   "cell_type": "code",
   "execution_count": null,
   "id": "dbe1d90c",
   "metadata": {},
   "outputs": [],
   "source": [
    "video features\n",
    "- video ID\n",
    "- duration\n",
    "- language\n",
    "- titles and tags"
   ]
  },
  {
   "cell_type": "code",
   "execution_count": null,
   "id": "0f7a6c83",
   "metadata": {},
   "outputs": [],
   "source": [
    "video feature preperation\n",
    "\n",
    "- video ID - embedding -> [0.1,-0.5,0.2,0.7]\n",
    "- duration - 130       ->\n",
    "- language - english   -> embedding\n",
    "- titles   - pre-trained model like BERT -> [0.1,0.2]\n",
    "- tags     - Continuous Bag Of Words(CBOW) - lightweight model"
   ]
  },
  {
   "cell_type": "code",
   "execution_count": null,
   "id": "318b4d33",
   "metadata": {},
   "outputs": [],
   "source": [
    "User feature preperation\n",
    "\n",
    "- UserID -> embeddings\n",
    "- age    -> bucketize and one-hot encoding -> 20-24 (0), 25-30(1), 31-37(2)\n",
    "- gender -> one-hot\n",
    "- lagunage\n",
    "- city\n",
    "- country"
   ]
  },
  {
   "cell_type": "code",
   "execution_count": null,
   "id": "bb99755a",
   "metadata": {},
   "outputs": [],
   "source": [
    "contextual information\n",
    "- time of the day\n",
    "- device\n",
    "- day of the week"
   ]
  },
  {
   "cell_type": "code",
   "execution_count": null,
   "id": "1a5a8c3d",
   "metadata": {},
   "outputs": [],
   "source": [
    "user historical interaction\n",
    "- search history\n",
    "- liked\n",
    "- watched video and imperessions"
   ]
  },
  {
   "cell_type": "markdown",
   "id": "70f42d71",
   "metadata": {},
   "source": [
    "# 4 - Model Development\n",
    "\n",
    "## Part 2"
   ]
  },
  {
   "cell_type": "code",
   "execution_count": null,
   "id": "4ced4dba",
   "metadata": {},
   "outputs": [],
   "source": [
    "2 embedding-based models\n",
    "\n",
    "- matrix factorization\n",
    "- two-tower neural network"
   ]
  },
  {
   "cell_type": "markdown",
   "id": "c96d895f",
   "metadata": {},
   "source": [
    "### matrix factorization\n"
   ]
  },
  {
   "cell_type": "code",
   "execution_count": null,
   "id": "361521d1",
   "metadata": {},
   "outputs": [],
   "source": [
    "feedback matrix\n",
    "- explicit feedback - users opinion about the video, likes and shares\n",
    "- implicit feedback - clicks and watch time\n",
    "- combination of both"
   ]
  },
  {
   "cell_type": "markdown",
   "id": "b2aa6ea8",
   "metadata": {},
   "source": [
    "<img src='vr5.jpg' />"
   ]
  },
  {
   "cell_type": "code",
   "execution_count": null,
   "id": "553b0adf",
   "metadata": {},
   "outputs": [],
   "source": []
  },
  {
   "cell_type": "code",
   "execution_count": null,
   "id": "0205f676",
   "metadata": {},
   "outputs": [],
   "source": [
    "# matrix factorization optimization\n",
    "\n",
    "- Stochastic Gradient Descent\n",
    "- Weighted Alternating Least Square\n",
    "\n",
    "user  2  [-0.7, 0.1]     dot product => 0.32 (relevance score)\n",
    "video 5  [-0.5, -0.3]"
   ]
  },
  {
   "cell_type": "code",
   "execution_count": null,
   "id": "cdd816d4",
   "metadata": {},
   "outputs": [],
   "source": [
    "pros\n",
    "- it is efficient as we only have 2 embedding matrices\n",
    "- serving speed\n",
    "\n",
    "cons\n",
    "- it is only focusing on user-video interaction, not using features like age, language\n",
    "- handling new user is difficult"
   ]
  },
  {
   "cell_type": "code",
   "execution_count": null,
   "id": "5941a5a5",
   "metadata": {},
   "outputs": [],
   "source": [
    "two tower neural network\n",
    "- user encoder\n",
    "- video encoder"
   ]
  },
  {
   "cell_type": "markdown",
   "id": "8b24bcf2",
   "metadata": {},
   "source": [
    "<img src='vr6.png' />"
   ]
  },
  {
   "cell_type": "code",
   "execution_count": null,
   "id": "273b6ae0",
   "metadata": {},
   "outputs": [],
   "source": [
    "query input = user features\n",
    "item input = video features"
   ]
  },
  {
   "cell_type": "code",
   "execution_count": null,
   "id": "0bbcb810",
   "metadata": {},
   "outputs": [],
   "source": [
    "loss function\n",
    "\n",
    "- cross entropy loss"
   ]
  },
  {
   "cell_type": "code",
   "execution_count": null,
   "id": "aa4d534f",
   "metadata": {},
   "outputs": [],
   "source": [
    "pros\n",
    "- using user features like age, gender \n",
    "- handle new users (solves - cold start problem)\n",
    "\n",
    "cons\n",
    "- slow serving\n",
    "- training is expensive"
   ]
  },
  {
   "cell_type": "markdown",
   "id": "212f5e5e",
   "metadata": {},
   "source": [
    "# 5 - Evaluation"
   ]
  },
  {
   "cell_type": "code",
   "execution_count": null,
   "id": "cb8417e8",
   "metadata": {},
   "outputs": [],
   "source": [
    "# offline metrics\n",
    "\n",
    "- precision\n",
    "- recall\n",
    "\n",
    "\n",
    "# online metrics\n",
    "\n",
    "- CTR(click through rate)\n",
    "- number of completed video\n",
    "- total watch time\n",
    "- explicit feedback"
   ]
  },
  {
   "cell_type": "markdown",
   "id": "141fca9e",
   "metadata": {},
   "source": [
    "# 6 - Serving"
   ]
  },
  {
   "cell_type": "code",
   "execution_count": null,
   "id": "d7ab4185",
   "metadata": {},
   "outputs": [],
   "source": [
    "the prediction pipeline componenets\n",
    "\n",
    "- candidate generation\n",
    "- scoring\n",
    "- re-ranking"
   ]
  },
  {
   "cell_type": "code",
   "execution_count": null,
   "id": "2fd6b195",
   "metadata": {},
   "outputs": [],
   "source": [
    "# challenges of the video recommendation system\n",
    "\n",
    "- serving speed\n",
    "- precision\n",
    "- diversity\n",
    "- cold-start problem\n"
   ]
  },
  {
   "cell_type": "markdown",
   "id": "b04d6a96",
   "metadata": {},
   "source": [
    "# resources \n",
    "\n",
    "https://blog.youtube/inside-youtube/on-youtubes-recommendation-system/\n",
    "    \n",
    "https://medium.com/coders-camp/4-recommendation-system-projects-with-python-5934de32ba7d\n",
    "    \n",
    "https://www.youtube.com/watch?v=1YoD0fg3_EM"
   ]
  },
  {
   "cell_type": "code",
   "execution_count": null,
   "id": "0f41eff3",
   "metadata": {},
   "outputs": [],
   "source": []
  }
 ],
 "metadata": {
  "kernelspec": {
   "display_name": "Python 3 (ipykernel)",
   "language": "python",
   "name": "python3"
  },
  "language_info": {
   "codemirror_mode": {
    "name": "ipython",
    "version": 3
   },
   "file_extension": ".py",
   "mimetype": "text/x-python",
   "name": "python",
   "nbconvert_exporter": "python",
   "pygments_lexer": "ipython3",
   "version": "3.9.12"
  }
 },
 "nbformat": 4,
 "nbformat_minor": 5
}
