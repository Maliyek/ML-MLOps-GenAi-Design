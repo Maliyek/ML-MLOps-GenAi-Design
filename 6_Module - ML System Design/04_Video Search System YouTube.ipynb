{
 "cells": [
  {
   "cell_type": "markdown",
   "id": "1b113646",
   "metadata": {},
   "source": [
    "# Designing Video Search System"
   ]
  },
  {
   "cell_type": "code",
   "execution_count": null,
   "id": "b9657049",
   "metadata": {},
   "outputs": [],
   "source": [
    "YouTube"
   ]
  },
  {
   "cell_type": "code",
   "execution_count": null,
   "id": "1e915245",
   "metadata": {},
   "outputs": [],
   "source": []
  },
  {
   "cell_type": "markdown",
   "id": "503d2278",
   "metadata": {},
   "source": [
    "# 1 - Requirements"
   ]
  },
  {
   "cell_type": "code",
   "execution_count": null,
   "id": "5a6e6472",
   "metadata": {},
   "outputs": [],
   "source": [
    "We have to design a search system for videos.\n",
    "\n",
    "- input is text query\n",
    "- output is a list of videos that are relevant to the text query"
   ]
  },
  {
   "cell_type": "code",
   "execution_count": null,
   "id": "560fee54",
   "metadata": {},
   "outputs": [],
   "source": [
    "to solve this problem we can divide this into 2 parts\n",
    "\n",
    "- visual content\n",
    "- textual content"
   ]
  },
  {
   "cell_type": "markdown",
   "id": "2f29455e",
   "metadata": {},
   "source": [
    "# 2 - ML Problem\n",
    "\n",
    "<img src='v41.png' />"
   ]
  },
  {
   "cell_type": "code",
   "execution_count": null,
   "id": "62d9f739",
   "metadata": {},
   "outputs": [],
   "source": [
    "ML Objective -> rank videos based on their relevance to the text query"
   ]
  },
  {
   "cell_type": "code",
   "execution_count": null,
   "id": "9aa1641a",
   "metadata": {},
   "outputs": [],
   "source": [
    "\"learn python as a beginner\"\n",
    "        Text Query              - text search\n",
    "                                - visual search"
   ]
  },
  {
   "cell_type": "code",
   "execution_count": null,
   "id": "783ec9e9",
   "metadata": {},
   "outputs": [],
   "source": [
    "- text search -> text encoder -> text embedding [0.2,0.6,-0.9,-0.3]  # NLP\n",
    "- visual search -> video encoder -> video embedding [0.1,0.8,-1,-0.7]\n",
    "\n",
    "dot product -> text and each video in the embedding space\n",
    "get the rank of the videos based on their similarity score\n"
   ]
  },
  {
   "cell_type": "markdown",
   "id": "4d57e97e",
   "metadata": {},
   "source": [
    "# 3 - Data Preperation"
   ]
  },
  {
   "cell_type": "code",
   "execution_count": null,
   "id": "ac69ab69",
   "metadata": {},
   "outputs": [],
   "source": [
    "# Data Engineering\n",
    "\n",
    "DE is not needed in this case\n",
    "- dataset is already annotated\n",
    "\n",
    "video file   query                               split\n",
    "1234.mp4    celebration of worldcup winning      trainig"
   ]
  },
  {
   "cell_type": "markdown",
   "id": "24f18300",
   "metadata": {},
   "source": [
    "# Feature Engineering\n",
    "\n",
    "#### preparation of text data"
   ]
  },
  {
   "cell_type": "code",
   "execution_count": null,
   "id": "c6c67d1a",
   "metadata": {},
   "outputs": [],
   "source": [
    "- Text Normalization\n",
    "Lowercasing, punctuation removal(?,!), trim whitespaces, strip accents, lemmatization and stemming\n",
    "\n",
    "- Tokenization\n",
    "word tokenization, subword tokenization (n-gram characters), character tokenization(set of characters)\n",
    "\n",
    "- Tokens to IDs\n",
    "words to numerical values\n",
    "\n",
    "Lookup table->   animal - 18, car - 128, \n",
    "Hashing(feature hashing) - animal - 4, car - 1"
   ]
  },
  {
   "cell_type": "code",
   "execution_count": null,
   "id": "8eb88f63",
   "metadata": {},
   "outputs": [],
   "source": [
    "l = [10,20]\n",
    "\n",
    "l[0]"
   ]
  },
  {
   "cell_type": "code",
   "execution_count": null,
   "id": "9a7a38ff",
   "metadata": {},
   "outputs": [],
   "source": [
    "{'indore': 10}"
   ]
  },
  {
   "cell_type": "markdown",
   "id": "405a5de0",
   "metadata": {},
   "source": [
    "### Text Normalization\n",
    "\n",
    "<img src='v42.png' />"
   ]
  },
  {
   "cell_type": "markdown",
   "id": "640d4d24",
   "metadata": {},
   "source": [
    "### Tokenization\n",
    "\n",
    "<img src='v43.jpg' />"
   ]
  },
  {
   "cell_type": "markdown",
   "id": "14d2f424",
   "metadata": {},
   "source": [
    "### Video Data"
   ]
  },
  {
   "cell_type": "code",
   "execution_count": null,
   "id": "787d9f66",
   "metadata": {},
   "outputs": [],
   "source": [
    "video -> frames -> resize -> scale, normalize, color changes -> frames as numerical values"
   ]
  },
  {
   "cell_type": "markdown",
   "id": "0ff9f515",
   "metadata": {},
   "source": [
    "# 4 - Model Development "
   ]
  },
  {
   "cell_type": "code",
   "execution_count": null,
   "id": "05c3690e",
   "metadata": {},
   "outputs": [],
   "source": []
  },
  {
   "cell_type": "markdown",
   "id": "b9a6cbf6",
   "metadata": {},
   "source": [
    "### text encoder"
   ]
  },
  {
   "cell_type": "code",
   "execution_count": null,
   "id": "86828d5f",
   "metadata": {},
   "outputs": [],
   "source": [
    "2 categories -\n",
    "\n",
    "1 statstical methods\n",
    "- Bag Of Words(BOW)\n",
    "convert a sentence into fixed length vector\n",
    "\n",
    "issue with BOW -> no semantic and contextual meaning\n",
    "\n",
    "\n",
    "- TF-IDF\n",
    "\n",
    "issue with TF IDF -> the order of words in the sentence. will not capture the semantic meaning\n",
    "\n",
    "\n",
    "\n",
    "2 ML-based models\n",
    "\n",
    "- Embedding (lookup) layer\n",
    "- Word2Vec -> Continuous Bag of Words(CBOW) and Skip-gram\n",
    "- tranformer based architectures"
   ]
  },
  {
   "cell_type": "code",
   "execution_count": null,
   "id": "121d746e",
   "metadata": {},
   "outputs": [],
   "source": []
  },
  {
   "cell_type": "markdown",
   "id": "9beb6eae",
   "metadata": {},
   "source": [
    "### Words in 2d embedding space\n",
    "\n",
    "<img src='v44.png' />"
   ]
  },
  {
   "cell_type": "markdown",
   "id": "e81564a9",
   "metadata": {},
   "source": [
    "### Word2Vec\n",
    "\n",
    "<img src='v45.png' />"
   ]
  },
  {
   "cell_type": "code",
   "execution_count": null,
   "id": "0ecf3d2a",
   "metadata": {},
   "outputs": [],
   "source": [
    "How to pizza at  -> make"
   ]
  },
  {
   "cell_type": "markdown",
   "id": "21bf0f7d",
   "metadata": {},
   "source": [
    "### Transformer Based Models Embeddings\n",
    "\n",
    "<img src='v46.png' />"
   ]
  },
  {
   "cell_type": "code",
   "execution_count": null,
   "id": "46c40a36",
   "metadata": {},
   "outputs": [],
   "source": [
    "BERT\n",
    "GPT3\n",
    "BLOOM"
   ]
  },
  {
   "cell_type": "markdown",
   "id": "0f6db55e",
   "metadata": {},
   "source": [
    "### video encoder"
   ]
  },
  {
   "cell_type": "code",
   "execution_count": null,
   "id": "f73b27c3",
   "metadata": {},
   "outputs": [],
   "source": [
    "video level encoder -> process the whole video and convert it into embeddings\n",
    "- 3d convolutions/transformer (model architecture)\n",
    "\n",
    "\n",
    "frame level encoder -> (faster and less expensive - computationally)\n",
    "- preprocess the sample frames\n",
    "- run the model on the sampled frames to create embeddings\n",
    "- aggregating(average) frame embeddings to generate the video embedding"
   ]
  },
  {
   "cell_type": "markdown",
   "id": "11f7f522",
   "metadata": {},
   "source": [
    "## Model Training"
   ]
  },
  {
   "cell_type": "code",
   "execution_count": null,
   "id": "27e1a8db",
   "metadata": {},
   "outputs": [],
   "source": []
  },
  {
   "cell_type": "markdown",
   "id": "96c2f3cc",
   "metadata": {},
   "source": [
    "# 5 - Evaluation"
   ]
  },
  {
   "cell_type": "code",
   "execution_count": null,
   "id": "84a24bd5",
   "metadata": {},
   "outputs": [],
   "source": [
    "Offline metrics\n",
    "\n",
    "- precision\n",
    "- recall\n",
    "\n",
    "\n",
    "Online Metric\n",
    "- CTR(click through rate)\n",
    "- Video completion rate\n",
    "- total watch time of search results"
   ]
  },
  {
   "cell_type": "code",
   "execution_count": null,
   "id": "2874f3ea",
   "metadata": {},
   "outputs": [],
   "source": []
  },
  {
   "cell_type": "code",
   "execution_count": null,
   "id": "efe4f25f",
   "metadata": {},
   "outputs": [],
   "source": []
  },
  {
   "cell_type": "markdown",
   "id": "12213d74",
   "metadata": {},
   "source": [
    "# 6 - Serving Pipeline"
   ]
  },
  {
   "cell_type": "code",
   "execution_count": null,
   "id": "c95ad717",
   "metadata": {},
   "outputs": [],
   "source": [
    "4 components\n",
    "\n",
    "- visual search - encode the text query. and check the most relevant video embedding to text embedding\n",
    "- text search - video title and tags and description\n",
    "- fusion layer \n",
    "        takes 2 different lists of relevant videos from the previous step and \n",
    "        combine them into a new list of videos\n",
    "- re-ranking service"
   ]
  },
  {
   "cell_type": "markdown",
   "id": "abad5047",
   "metadata": {},
   "source": [
    "# Questions and Discussion\n"
   ]
  },
  {
   "cell_type": "code",
   "execution_count": null,
   "id": "bc3b1985",
   "metadata": {},
   "outputs": [],
   "source": [
    "- add features like video length, video popularity\n",
    "- use interaction data(clicks, likes)\n",
    "- understand the smentic part of the query like spelling, category.\n",
    "\n",
    "How to build a query understanding component?\n",
    "\n"
   ]
  },
  {
   "cell_type": "markdown",
   "id": "065775fc",
   "metadata": {},
   "source": [
    "# Task\n",
    "\n",
    "You have to create a flow diagram for the above steps.\n",
    "\n",
    "How my design will look like in a workflow?"
   ]
  },
  {
   "cell_type": "code",
   "execution_count": null,
   "id": "47bf4080",
   "metadata": {},
   "outputs": [],
   "source": [
    "Reading assignment\n",
    "\n",
    "https://mlbhanuyerra.github.io/2019-12-09-Video-Search-Engine-Salsa/"
   ]
  }
 ],
 "metadata": {
  "kernelspec": {
   "display_name": "Python 3 (ipykernel)",
   "language": "python",
   "name": "python3"
  },
  "language_info": {
   "codemirror_mode": {
    "name": "ipython",
    "version": 3
   },
   "file_extension": ".py",
   "mimetype": "text/x-python",
   "name": "python",
   "nbconvert_exporter": "python",
   "pygments_lexer": "ipython3",
   "version": "3.9.12"
  }
 },
 "nbformat": 4,
 "nbformat_minor": 5
}
