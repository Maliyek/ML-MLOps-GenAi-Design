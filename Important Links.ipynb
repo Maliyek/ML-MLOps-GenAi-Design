{
 "cells": [
  {
   "cell_type": "markdown",
   "id": "6f1cc840",
   "metadata": {},
   "source": [
    "# Here is the sheet for topic schedule.\n",
    "\n",
    "It will be updated every Sunday for the weeks schedule.\n",
    "\n",
    "\n",
    "Day Wise Topics and Dates to be covered\n",
    "\n",
    "\n",
    "https://docs.google.com/spreadsheets/d/1d9_VMJ50DctDaQ9hrjm4e6eTWXl9pt7w1vZ0ThG6m6Y/edit?usp=sharing\n",
    "\n",
    "\n",
    "Let me know if you want to add something to it."
   ]
  },
  {
   "cell_type": "code",
   "execution_count": null,
   "id": "ee16f448",
   "metadata": {},
   "outputs": [],
   "source": []
  },
  {
   "cell_type": "markdown",
   "id": "144d0a75",
   "metadata": {},
   "source": [
    "# When to use Which Machine Learning Algorithm\n",
    "\n",
    "https://docs.google.com/spreadsheets/d/1QsPoUosmabD_JDQGZ0G8wO31Jiw1qDgj7S9lJ76hruU/edit?usp=sharing\n",
    "\n",
    "\n",
    "PS: Only for regression analysis currently."
   ]
  },
  {
   "cell_type": "code",
   "execution_count": null,
   "id": "3c48d4e8",
   "metadata": {},
   "outputs": [],
   "source": []
  },
  {
   "cell_type": "markdown",
   "id": "95d9517e",
   "metadata": {},
   "source": [
    "# Day 1\n",
    "\n",
    "AI Newsletter\n",
    "https://www.neatprompts.com/\n",
    "\n",
    "https://the-epoch-by-himanshu-ramchandani.beehiiv.com/\n",
    "\n",
    "https://www.joinsuperhuman.ai/\n",
    "\n",
    "\n",
    "AI Jobs\n",
    "https://ai-jobs.net/"
   ]
  },
  {
   "cell_type": "code",
   "execution_count": null,
   "id": "3bb47e27",
   "metadata": {},
   "outputs": [],
   "source": []
  },
  {
   "cell_type": "markdown",
   "id": "c11ed039",
   "metadata": {},
   "source": [
    "# Day 2\n",
    "\n",
    "\n",
    "Pandas SQL : https://pypi.org/project/pandasql/"
   ]
  },
  {
   "cell_type": "code",
   "execution_count": null,
   "id": "4762815e",
   "metadata": {},
   "outputs": [],
   "source": []
  },
  {
   "cell_type": "markdown",
   "id": "3c189950",
   "metadata": {},
   "source": [
    "# Day 3\n",
    "\n",
    "seaborn color map: https://seaborn.pydata.org/generated/seaborn.heatmap.html\n",
    "\n",
    "Credit risk dataset kaggle: https://www.kaggle.com/datasets/praveengovi/credit-risk-classification-dataset"
   ]
  },
  {
   "cell_type": "code",
   "execution_count": null,
   "id": "65670e6c",
   "metadata": {},
   "outputs": [],
   "source": []
  },
  {
   "cell_type": "markdown",
   "id": "18c02671",
   "metadata": {},
   "source": [
    "# Day 5\n",
    "\n",
    "word semantic: https://experiments.withgoogle.com/semantris\n",
    "\n",
    "AI generated ad by coca-cola: https://www.youtube.com/watch?v=nSmNy9iLhZ4\n",
    "\n"
   ]
  },
  {
   "cell_type": "code",
   "execution_count": null,
   "id": "3b92f299",
   "metadata": {},
   "outputs": [],
   "source": []
  },
  {
   "cell_type": "markdown",
   "id": "999171bd",
   "metadata": {},
   "source": [
    "# Day 6 \n",
    "\n",
    "eigenvalues and eigenvectors: https://www.mathsisfun.com/algebra/eigenvalue.html\n",
    "\n",
    "datasets: https://archive.ics.uci.edu/\n",
    "\n"
   ]
  },
  {
   "cell_type": "code",
   "execution_count": null,
   "id": "029303b2",
   "metadata": {},
   "outputs": [],
   "source": []
  },
  {
   "cell_type": "markdown",
   "id": "4dba95d7",
   "metadata": {},
   "source": [
    "# Day 7\n",
    "\n",
    "\n",
    "Tesors: https://www.youtube.com/watch?v=f5liqUk0ZTw\n",
    "\n",
    "Jacobian Matrix: https://www.khanacademy.org/math/multivariable-calculus/multivariable-derivatives/jacobian/v/the-jacobian-matrix"
   ]
  },
  {
   "cell_type": "code",
   "execution_count": null,
   "id": "a3391b9f",
   "metadata": {},
   "outputs": [],
   "source": []
  },
  {
   "cell_type": "markdown",
   "id": "ee591bc9",
   "metadata": {},
   "source": [
    "# Day 8\n",
    "\n",
    "Descriptive Statistics: https://stattrek.com/descriptive-statistics/mean-median?tutorial=AP\n",
    "\n",
    "pip install statistics: https://pypi.org/project/statistics/"
   ]
  },
  {
   "cell_type": "code",
   "execution_count": null,
   "id": "44d8cfbf",
   "metadata": {},
   "outputs": [],
   "source": []
  },
  {
   "cell_type": "code",
   "execution_count": null,
   "id": "ce2f74da",
   "metadata": {},
   "outputs": [],
   "source": []
  },
  {
   "cell_type": "code",
   "execution_count": null,
   "id": "96f3c711",
   "metadata": {},
   "outputs": [],
   "source": []
  },
  {
   "cell_type": "code",
   "execution_count": null,
   "id": "26d54533",
   "metadata": {},
   "outputs": [],
   "source": []
  },
  {
   "cell_type": "markdown",
   "id": "9b6bf48b",
   "metadata": {},
   "source": [
    "# Day 11\n",
    "\n",
    "add constant: https://www.statsmodels.org/dev/examples/notebooks/generated/ols.html"
   ]
  },
  {
   "cell_type": "code",
   "execution_count": null,
   "id": "6fa0fe50",
   "metadata": {},
   "outputs": [],
   "source": []
  },
  {
   "cell_type": "markdown",
   "id": "b1039e6d",
   "metadata": {},
   "source": [
    "# Day 12\n",
    "\n",
    "\n",
    "Logistic Regresion: https://www.kaggle.com/datasets/dileep070/heart-disease-prediction-using-logistic-regression/data"
   ]
  },
  {
   "cell_type": "code",
   "execution_count": null,
   "id": "0304e902",
   "metadata": {},
   "outputs": [],
   "source": [
    "- data class imbalance\n",
    "\n",
    "- data augumentation ->"
   ]
  },
  {
   "cell_type": "markdown",
   "id": "c3b9933a",
   "metadata": {},
   "source": [
    "# Day 13\n",
    "\n",
    "Chi Square Math: https://www.youtube.com/watch?v=f53nXHoMXx4"
   ]
  },
  {
   "cell_type": "code",
   "execution_count": null,
   "id": "3ad380a3",
   "metadata": {},
   "outputs": [],
   "source": []
  },
  {
   "cell_type": "markdown",
   "id": "d9c40349",
   "metadata": {},
   "source": [
    "# Day 1 and 2 - ML Systems\n",
    "\n",
    "Visual Search System: https://medium.com/analytics-vidhya/how-to-build-a-visual-search-engine-64046e58ad2f"
   ]
  },
  {
   "cell_type": "code",
   "execution_count": null,
   "id": "f388890c",
   "metadata": {},
   "outputs": [],
   "source": []
  },
  {
   "cell_type": "code",
   "execution_count": null,
   "id": "18c7bb8e",
   "metadata": {},
   "outputs": [],
   "source": []
  },
  {
   "cell_type": "code",
   "execution_count": null,
   "id": "890b0c7f",
   "metadata": {},
   "outputs": [],
   "source": []
  },
  {
   "cell_type": "code",
   "execution_count": null,
   "id": "4bf3e39a",
   "metadata": {},
   "outputs": [],
   "source": []
  },
  {
   "cell_type": "code",
   "execution_count": null,
   "id": "b8a28fe3",
   "metadata": {},
   "outputs": [],
   "source": []
  },
  {
   "cell_type": "markdown",
   "id": "9a301ab8",
   "metadata": {},
   "source": [
    "# Day 1 - GenerativeAI\n",
    "\n",
    "Prompt engineering: https://www.neatprompts.com/\n",
    "\n",
    "\n",
    "Search the web with GPT - https://www.phind.com/search?cache=j0w2k3z4skkwc0md9e1nt9vj\n",
    "\n",
    "\n",
    "Tesla see: https://www.youtube.com/watch?v=fKXztwtXaGo\n",
    "\n",
    "\n",
    "Build Open source models: -https://huggingface.co/gpt2"
   ]
  },
  {
   "cell_type": "code",
   "execution_count": null,
   "id": "9c69b697",
   "metadata": {},
   "outputs": [],
   "source": []
  },
  {
   "cell_type": "code",
   "execution_count": null,
   "id": "8b71a6d5",
   "metadata": {},
   "outputs": [],
   "source": []
  }
 ],
 "metadata": {
  "kernelspec": {
   "display_name": "Python 3 (ipykernel)",
   "language": "python",
   "name": "python3"
  },
  "language_info": {
   "codemirror_mode": {
    "name": "ipython",
    "version": 3
   },
   "file_extension": ".py",
   "mimetype": "text/x-python",
   "name": "python",
   "nbconvert_exporter": "python",
   "pygments_lexer": "ipython3",
   "version": "3.9.12"
  }
 },
 "nbformat": 4,
 "nbformat_minor": 5
}
