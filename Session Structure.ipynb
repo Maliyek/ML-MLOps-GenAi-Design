{
 "cells": [
  {
   "cell_type": "markdown",
   "id": "6dd302a6",
   "metadata": {},
   "source": [
    "# For Leaders"
   ]
  },
  {
   "cell_type": "code",
   "execution_count": null,
   "id": "2397bc6c",
   "metadata": {},
   "outputs": [],
   "source": []
  },
  {
   "cell_type": "markdown",
   "id": "0189191c",
   "metadata": {},
   "source": [
    "## What it is?"
   ]
  },
  {
   "cell_type": "code",
   "execution_count": null,
   "id": "2b32bb3a",
   "metadata": {},
   "outputs": [],
   "source": []
  },
  {
   "cell_type": "markdown",
   "id": "028aff7f",
   "metadata": {},
   "source": [
    "## What are the real world examples?"
   ]
  },
  {
   "cell_type": "code",
   "execution_count": null,
   "id": "032f95cb",
   "metadata": {},
   "outputs": [],
   "source": []
  },
  {
   "cell_type": "markdown",
   "id": "da993828",
   "metadata": {},
   "source": [
    "## What are the ML algorithms using that concept?"
   ]
  },
  {
   "cell_type": "code",
   "execution_count": null,
   "id": "570454e7",
   "metadata": {},
   "outputs": [],
   "source": []
  },
  {
   "cell_type": "markdown",
   "id": "08834a2e",
   "metadata": {},
   "source": [
    "## When to use those algorithms?"
   ]
  },
  {
   "cell_type": "code",
   "execution_count": null,
   "id": "1a56ec6d",
   "metadata": {},
   "outputs": [],
   "source": []
  },
  {
   "cell_type": "markdown",
   "id": "0bbe4a12",
   "metadata": {},
   "source": [
    "# For Engineers"
   ]
  },
  {
   "cell_type": "code",
   "execution_count": null,
   "id": "ded20a44",
   "metadata": {},
   "outputs": [],
   "source": []
  },
  {
   "cell_type": "markdown",
   "id": "e9eadb8a",
   "metadata": {},
   "source": [
    "## Mathematical concept, where it came from"
   ]
  },
  {
   "cell_type": "code",
   "execution_count": null,
   "id": "90bfa5d4",
   "metadata": {},
   "outputs": [],
   "source": []
  },
  {
   "cell_type": "markdown",
   "id": "947ce54b",
   "metadata": {},
   "source": [
    "## Implementation"
   ]
  },
  {
   "cell_type": "code",
   "execution_count": null,
   "id": "b1a8de8b",
   "metadata": {},
   "outputs": [],
   "source": []
  },
  {
   "cell_type": "markdown",
   "id": "0e40d3ae",
   "metadata": {},
   "source": [
    "## Project Example with data \n",
    "#### (if possible as per the topic)"
   ]
  },
  {
   "cell_type": "code",
   "execution_count": null,
   "id": "b9c0b988",
   "metadata": {},
   "outputs": [],
   "source": []
  },
  {
   "cell_type": "code",
   "execution_count": null,
   "id": "d8542298",
   "metadata": {},
   "outputs": [],
   "source": []
  },
  {
   "cell_type": "code",
   "execution_count": null,
   "id": "0814c6f7",
   "metadata": {},
   "outputs": [],
   "source": []
  }
 ],
 "metadata": {
  "kernelspec": {
   "display_name": "Python 3 (ipykernel)",
   "language": "python",
   "name": "python3"
  },
  "language_info": {
   "codemirror_mode": {
    "name": "ipython",
    "version": 3
   },
   "file_extension": ".py",
   "mimetype": "text/x-python",
   "name": "python",
   "nbconvert_exporter": "python",
   "pygments_lexer": "ipython3",
   "version": "3.9.12"
  }
 },
 "nbformat": 4,
 "nbformat_minor": 5
}
