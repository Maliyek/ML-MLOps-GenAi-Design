{
 "cells": [
  {
   "cell_type": "markdown",
   "id": "5c5b649b",
   "metadata": {},
   "source": [
    "# Probability\n"
   ]
  },
  {
   "cell_type": "code",
   "execution_count": null,
   "id": "027ab195",
   "metadata": {},
   "outputs": [],
   "source": [
    "- Probability Distribution - likelihood of various outcomes\n",
    "knowing the chances of different event occurings.\n",
    "\n",
    "  Head       Tail\n",
    "0 - 0.5    0.5 - 1\n",
    "\n",
    "modeling uncertainty - \n",
    "parameter estimation - maximum likelihood estimation\n",
    "generative models - Gaussian Mixture Models, Variational Autoencoders \n",
    "                  - use probability distributions to generate data samples\n",
    "anomaly detection - \n",
    "\n",
    "fraud detection -> \n",
    "Sentiment analysis -> NLP - text data\n"
   ]
  },
  {
   "cell_type": "code",
   "execution_count": null,
   "id": "26c0d4a1",
   "metadata": {},
   "outputs": [],
   "source": [
    "Conditional Probability\n",
    "\n",
    "- measure of the likelihood of an event occuring, given that another event has already occured.\n",
    "\n",
    "P(A|B)       =    P(A intersection B)  /  P(B)\n",
    "conditional          joint probability    probability of event B occuring\n",
    "probability\n",
    "\n",
    "\n",
    "deck of cards -> 52\n",
    "\n",
    "P(A) = 26/52 (card is red including hearts and dimonds)\n",
    "\n",
    "P(B) = 12/52 (face cards including king, queen and jack)\n",
    "\n",
    "P(A intersection B) = 6/52\n",
    "\n",
    "conditional probability of getting a red card, given that it is a face card\n",
    "P(A|B) = 6/52 / 12/52 = 6/12 = 1/2\n",
    "\n",
    "\n",
    "- bayesian inference (statistical framework)\n",
    "        - conditional probabilities are used to update the model parameters or hypothesis\n",
    "\n",
    "- classification and decision tree (ensemble methods) - use condi.prob. to split data into subsets\n",
    "- email spam - filter spam emails based on condi. prob.\n",
    "- credit scoring - \n",
    "- autonomous vehicles - collision avoidance - likelihood of a collision given the current sensor data.\n",
    "\n"
   ]
  },
  {
   "cell_type": "code",
   "execution_count": null,
   "id": "29640d7d",
   "metadata": {},
   "outputs": [],
   "source": [
    "Bayes Theorem\n",
    "- how to update the probability for a hypothesis based on new data.\n",
    "\n",
    "P(A|B) = P(B|A).P(A)/P(B)\n",
    "\n",
    "P(A) - prior probability\n",
    "P(B) - probability of data B"
   ]
  },
  {
   "cell_type": "code",
   "execution_count": null,
   "id": "b1ffd485",
   "metadata": {},
   "outputs": [],
   "source": [
    "find the probability of a patient having a disease(A)\n",
    "given that a certain symptom(B)\n",
    "\n",
    "P(A) = 0.01\n",
    "P(B|A) = 0.9\n",
    "P(B|-A) = 0.2\n",
    "\n",
    "P(A|B)  = P(B|A).P(A)/P(B|A).P(A) + P(B|-A).P(-A)\n",
    "\n",
    "P(A|B) = 0.0435 => 4.35%"
   ]
  },
  {
   "cell_type": "markdown",
   "id": "190287c0",
   "metadata": {},
   "source": [
    "# Naive Bayes"
   ]
  },
  {
   "cell_type": "code",
   "execution_count": null,
   "id": "7d087b3c",
   "metadata": {},
   "outputs": [],
   "source": [
    "P(A|B,C,D,E)\n",
    "\n",
    "P(A|'free', 'discount', 'money')\n",
    "\n",
    "- text classification - spam email detection, sentiment analysis, document categorization\n",
    "- multiclass classification\n",
    "- user review analysis"
   ]
  },
  {
   "cell_type": "code",
   "execution_count": null,
   "id": "95c52770",
   "metadata": {},
   "outputs": [],
   "source": [
    "Gaussian NB - continuous data, features are normally distributed\n",
    "Multinomial NB - discrete data, counts or frequencies\n",
    "Bernoulli NB - binary or discrete data, assumes Bernolli distribution"
   ]
  },
  {
   "cell_type": "code",
   "execution_count": 1,
   "id": "e10fef47",
   "metadata": {},
   "outputs": [],
   "source": [
    "import numpy as np\n",
    "import pandas as pd\n",
    "from sklearn.datasets import load_iris"
   ]
  },
  {
   "cell_type": "code",
   "execution_count": 3,
   "id": "c5a10700",
   "metadata": {},
   "outputs": [],
   "source": [
    "iris = load_iris()\n",
    "# iris"
   ]
  },
  {
   "cell_type": "code",
   "execution_count": 4,
   "id": "962fc4c5",
   "metadata": {},
   "outputs": [
    {
     "data": {
      "text/html": [
       "<div>\n",
       "<style scoped>\n",
       "    .dataframe tbody tr th:only-of-type {\n",
       "        vertical-align: middle;\n",
       "    }\n",
       "\n",
       "    .dataframe tbody tr th {\n",
       "        vertical-align: top;\n",
       "    }\n",
       "\n",
       "    .dataframe thead th {\n",
       "        text-align: right;\n",
       "    }\n",
       "</style>\n",
       "<table border=\"1\" class=\"dataframe\">\n",
       "  <thead>\n",
       "    <tr style=\"text-align: right;\">\n",
       "      <th></th>\n",
       "      <th>sepal length (cm)</th>\n",
       "      <th>sepal width (cm)</th>\n",
       "      <th>petal length (cm)</th>\n",
       "      <th>petal width (cm)</th>\n",
       "    </tr>\n",
       "  </thead>\n",
       "  <tbody>\n",
       "    <tr>\n",
       "      <th>0</th>\n",
       "      <td>5.1</td>\n",
       "      <td>3.5</td>\n",
       "      <td>1.4</td>\n",
       "      <td>0.2</td>\n",
       "    </tr>\n",
       "    <tr>\n",
       "      <th>1</th>\n",
       "      <td>4.9</td>\n",
       "      <td>3.0</td>\n",
       "      <td>1.4</td>\n",
       "      <td>0.2</td>\n",
       "    </tr>\n",
       "    <tr>\n",
       "      <th>2</th>\n",
       "      <td>4.7</td>\n",
       "      <td>3.2</td>\n",
       "      <td>1.3</td>\n",
       "      <td>0.2</td>\n",
       "    </tr>\n",
       "    <tr>\n",
       "      <th>3</th>\n",
       "      <td>4.6</td>\n",
       "      <td>3.1</td>\n",
       "      <td>1.5</td>\n",
       "      <td>0.2</td>\n",
       "    </tr>\n",
       "    <tr>\n",
       "      <th>4</th>\n",
       "      <td>5.0</td>\n",
       "      <td>3.6</td>\n",
       "      <td>1.4</td>\n",
       "      <td>0.2</td>\n",
       "    </tr>\n",
       "  </tbody>\n",
       "</table>\n",
       "</div>"
      ],
      "text/plain": [
       "   sepal length (cm)  sepal width (cm)  petal length (cm)  petal width (cm)\n",
       "0                5.1               3.5                1.4               0.2\n",
       "1                4.9               3.0                1.4               0.2\n",
       "2                4.7               3.2                1.3               0.2\n",
       "3                4.6               3.1                1.5               0.2\n",
       "4                5.0               3.6                1.4               0.2"
      ]
     },
     "execution_count": 4,
     "metadata": {},
     "output_type": "execute_result"
    }
   ],
   "source": [
    "df = pd.DataFrame(iris.data, columns=iris.feature_names)\n",
    "\n",
    "df.head()"
   ]
  },
  {
   "cell_type": "code",
   "execution_count": 5,
   "id": "2e31d5c5",
   "metadata": {},
   "outputs": [
    {
     "data": {
      "text/plain": [
       "GaussianNB()"
      ]
     },
     "execution_count": 5,
     "metadata": {},
     "output_type": "execute_result"
    }
   ],
   "source": [
    "from sklearn.naive_bayes import GaussianNB\n",
    "\n",
    "gb = GaussianNB()\n",
    "\n",
    "gb.fit(df, iris.target)"
   ]
  },
  {
   "cell_type": "code",
   "execution_count": 6,
   "id": "2d63866c",
   "metadata": {},
   "outputs": [
    {
     "data": {
      "text/plain": [
       "0.96"
      ]
     },
     "execution_count": 6,
     "metadata": {},
     "output_type": "execute_result"
    }
   ],
   "source": [
    "gb.score(df, iris.target)\n"
   ]
  },
  {
   "cell_type": "code",
   "execution_count": 7,
   "id": "7bdb381c",
   "metadata": {},
   "outputs": [
    {
     "name": "stderr",
     "output_type": "stream",
     "text": [
      "C:\\Users\\himan\\anaconda3\\lib\\site-packages\\sklearn\\base.py:450: UserWarning: X does not have valid feature names, but GaussianNB was fitted with feature names\n",
      "  warnings.warn(\n"
     ]
    },
    {
     "data": {
      "text/plain": [
       "array([0])"
      ]
     },
     "execution_count": 7,
     "metadata": {},
     "output_type": "execute_result"
    }
   ],
   "source": [
    "gb.predict([[5.1,3.5,1.4,0.2]])"
   ]
  },
  {
   "cell_type": "code",
   "execution_count": 8,
   "id": "9294a9f5",
   "metadata": {},
   "outputs": [
    {
     "data": {
      "text/html": [
       "<div>\n",
       "<style scoped>\n",
       "    .dataframe tbody tr th:only-of-type {\n",
       "        vertical-align: middle;\n",
       "    }\n",
       "\n",
       "    .dataframe tbody tr th {\n",
       "        vertical-align: top;\n",
       "    }\n",
       "\n",
       "    .dataframe thead th {\n",
       "        text-align: right;\n",
       "    }\n",
       "</style>\n",
       "<table border=\"1\" class=\"dataframe\">\n",
       "  <thead>\n",
       "    <tr style=\"text-align: right;\">\n",
       "      <th></th>\n",
       "      <th>Class</th>\n",
       "      <th>SMS</th>\n",
       "    </tr>\n",
       "  </thead>\n",
       "  <tbody>\n",
       "    <tr>\n",
       "      <th>0</th>\n",
       "      <td>ham</td>\n",
       "      <td>Go until jurong point, crazy.. Available only ...</td>\n",
       "    </tr>\n",
       "    <tr>\n",
       "      <th>1</th>\n",
       "      <td>ham</td>\n",
       "      <td>Ok lar... Joking wif u oni...</td>\n",
       "    </tr>\n",
       "    <tr>\n",
       "      <th>2</th>\n",
       "      <td>spam</td>\n",
       "      <td>Free entry in 2 a wkly comp to win FA Cup fina...</td>\n",
       "    </tr>\n",
       "    <tr>\n",
       "      <th>3</th>\n",
       "      <td>ham</td>\n",
       "      <td>U dun say so early hor... U c already then say...</td>\n",
       "    </tr>\n",
       "    <tr>\n",
       "      <th>4</th>\n",
       "      <td>ham</td>\n",
       "      <td>Nah I don't think he goes to usf, he lives aro...</td>\n",
       "    </tr>\n",
       "  </tbody>\n",
       "</table>\n",
       "</div>"
      ],
      "text/plain": [
       "  Class                                                SMS\n",
       "0   ham  Go until jurong point, crazy.. Available only ...\n",
       "1   ham                      Ok lar... Joking wif u oni...\n",
       "2  spam  Free entry in 2 a wkly comp to win FA Cup fina...\n",
       "3   ham  U dun say so early hor... U c already then say...\n",
       "4   ham  Nah I don't think he goes to usf, he lives aro..."
      ]
     },
     "execution_count": 8,
     "metadata": {},
     "output_type": "execute_result"
    }
   ],
   "source": [
    "docs = pd.read_table('SMSSpamCollection+(1)', header=None, names=['Class', 'SMS'])\n",
    "\n",
    "docs.head()"
   ]
  },
  {
   "cell_type": "code",
   "execution_count": 9,
   "id": "35e0e206",
   "metadata": {},
   "outputs": [
    {
     "data": {
      "text/plain": [
       "ham     4825\n",
       "spam     747\n",
       "Name: Class, dtype: int64"
      ]
     },
     "execution_count": 9,
     "metadata": {},
     "output_type": "execute_result"
    }
   ],
   "source": [
    "ham_spam = docs.Class.value_counts()\n",
    "\n",
    "ham_spam"
   ]
  },
  {
   "cell_type": "code",
   "execution_count": 10,
   "id": "57c104d9",
   "metadata": {},
   "outputs": [
    {
     "data": {
      "text/html": [
       "<div>\n",
       "<style scoped>\n",
       "    .dataframe tbody tr th:only-of-type {\n",
       "        vertical-align: middle;\n",
       "    }\n",
       "\n",
       "    .dataframe tbody tr th {\n",
       "        vertical-align: top;\n",
       "    }\n",
       "\n",
       "    .dataframe thead th {\n",
       "        text-align: right;\n",
       "    }\n",
       "</style>\n",
       "<table border=\"1\" class=\"dataframe\">\n",
       "  <thead>\n",
       "    <tr style=\"text-align: right;\">\n",
       "      <th></th>\n",
       "      <th>Class</th>\n",
       "      <th>SMS</th>\n",
       "      <th>label</th>\n",
       "    </tr>\n",
       "  </thead>\n",
       "  <tbody>\n",
       "    <tr>\n",
       "      <th>0</th>\n",
       "      <td>ham</td>\n",
       "      <td>Go until jurong point, crazy.. Available only ...</td>\n",
       "      <td>0</td>\n",
       "    </tr>\n",
       "    <tr>\n",
       "      <th>1</th>\n",
       "      <td>ham</td>\n",
       "      <td>Ok lar... Joking wif u oni...</td>\n",
       "      <td>0</td>\n",
       "    </tr>\n",
       "    <tr>\n",
       "      <th>2</th>\n",
       "      <td>spam</td>\n",
       "      <td>Free entry in 2 a wkly comp to win FA Cup fina...</td>\n",
       "      <td>1</td>\n",
       "    </tr>\n",
       "    <tr>\n",
       "      <th>3</th>\n",
       "      <td>ham</td>\n",
       "      <td>U dun say so early hor... U c already then say...</td>\n",
       "      <td>0</td>\n",
       "    </tr>\n",
       "    <tr>\n",
       "      <th>4</th>\n",
       "      <td>ham</td>\n",
       "      <td>Nah I don't think he goes to usf, he lives aro...</td>\n",
       "      <td>0</td>\n",
       "    </tr>\n",
       "  </tbody>\n",
       "</table>\n",
       "</div>"
      ],
      "text/plain": [
       "  Class                                                SMS  label\n",
       "0   ham  Go until jurong point, crazy.. Available only ...      0\n",
       "1   ham                      Ok lar... Joking wif u oni...      0\n",
       "2  spam  Free entry in 2 a wkly comp to win FA Cup fina...      1\n",
       "3   ham  U dun say so early hor... U c already then say...      0\n",
       "4   ham  Nah I don't think he goes to usf, he lives aro...      0"
      ]
     },
     "execution_count": 10,
     "metadata": {},
     "output_type": "execute_result"
    }
   ],
   "source": [
    "docs['label'] = docs.Class.map({ 'ham':0, 'spam':1 })\n",
    "\n",
    "docs.head()"
   ]
  },
  {
   "cell_type": "code",
   "execution_count": 11,
   "id": "48ebd65c",
   "metadata": {},
   "outputs": [
    {
     "name": "stdout",
     "output_type": "stream",
     "text": [
      "(5572,)\n",
      "(5572,)\n"
     ]
    }
   ],
   "source": [
    "x = docs.SMS\n",
    "y = docs.label\n",
    "\n",
    "print(x.shape)\n",
    "print(y.shape)"
   ]
  },
  {
   "cell_type": "code",
   "execution_count": 12,
   "id": "70f9da0f",
   "metadata": {},
   "outputs": [],
   "source": [
    "from sklearn.model_selection import train_test_split\n",
    "\n",
    "xtrain, xtest, ytrain, ytest = train_test_split(x,y, random_state=101)"
   ]
  },
  {
   "cell_type": "code",
   "execution_count": 13,
   "id": "2e22cf4a",
   "metadata": {},
   "outputs": [
    {
     "data": {
      "text/plain": [
       "1851    Then cant get da laptop? My matric card wif ü ...\n",
       "3280    Solve d Case : A Man Was Found Murdered On  &l...\n",
       "3426                      True. Its easier with her here.\n",
       "111              What is the plural of the noun research?\n",
       "3788                          WHORE YOU ARE UNBELIEVABLE.\n",
       "Name: SMS, dtype: object"
      ]
     },
     "execution_count": 13,
     "metadata": {},
     "output_type": "execute_result"
    }
   ],
   "source": [
    "xtrain.head()"
   ]
  },
  {
   "cell_type": "code",
   "execution_count": 14,
   "id": "c0fcf5eb",
   "metadata": {},
   "outputs": [
    {
     "data": {
      "text/plain": [
       "CountVectorizer(stop_words='english')"
      ]
     },
     "execution_count": 14,
     "metadata": {},
     "output_type": "execute_result"
    }
   ],
   "source": [
    "from sklearn.feature_extraction.text import CountVectorizer\n",
    "\n",
    "vect = CountVectorizer(stop_words='english')\n",
    "\n",
    "vect.fit(xtrain)"
   ]
  },
  {
   "cell_type": "code",
   "execution_count": 16,
   "id": "1a65e159",
   "metadata": {},
   "outputs": [],
   "source": [
    "# vect.vocabulary_"
   ]
  },
  {
   "cell_type": "code",
   "execution_count": 17,
   "id": "d6dd8aad",
   "metadata": {},
   "outputs": [],
   "source": [
    "xtrain_transformed = vect.transform(xtrain)\n",
    "xtest_transformed = vect.transform(xtest)"
   ]
  },
  {
   "cell_type": "code",
   "execution_count": 18,
   "id": "a972ab3a",
   "metadata": {},
   "outputs": [],
   "source": [
    "from sklearn.naive_bayes import MultinomialNB\n",
    "\n",
    "mnb = MultinomialNB()\n",
    "\n",
    "mnb.fit(xtrain_transformed, ytrain)\n",
    "\n",
    "ypred_class = mnb.predict(xtest_transformed)\n",
    "\n",
    "ypred_proba = mnb.predict_proba(xtest_transformed)"
   ]
  },
  {
   "cell_type": "code",
   "execution_count": 19,
   "id": "b70041cb",
   "metadata": {},
   "outputs": [
    {
     "data": {
      "text/plain": [
       "0.9849246231155779"
      ]
     },
     "execution_count": 19,
     "metadata": {},
     "output_type": "execute_result"
    }
   ],
   "source": [
    "from sklearn.metrics import accuracy_score\n",
    "\n",
    "accuracy_score(ytest, ypred_class)"
   ]
  },
  {
   "cell_type": "code",
   "execution_count": 20,
   "id": "1b2cc0d9",
   "metadata": {},
   "outputs": [
    {
     "data": {
      "text/plain": [
       "array([0, 1, 1, ..., 0, 0, 0], dtype=int64)"
      ]
     },
     "execution_count": 20,
     "metadata": {},
     "output_type": "execute_result"
    }
   ],
   "source": [
    "ypred_class"
   ]
  },
  {
   "cell_type": "code",
   "execution_count": 21,
   "id": "7924f286",
   "metadata": {},
   "outputs": [
    {
     "data": {
      "text/plain": [
       "array([[1219,    8],\n",
       "       [  13,  153]], dtype=int64)"
      ]
     },
     "execution_count": 21,
     "metadata": {},
     "output_type": "execute_result"
    }
   ],
   "source": [
    "from sklearn.metrics import confusion_matrix\n",
    "\n",
    "confusion_matrix(ytest, ypred_class)"
   ]
  },
  {
   "cell_type": "code",
   "execution_count": null,
   "id": "f868a8b9",
   "metadata": {},
   "outputs": [],
   "source": []
  }
 ],
 "metadata": {
  "kernelspec": {
   "display_name": "Python 3 (ipykernel)",
   "language": "python",
   "name": "python3"
  },
  "language_info": {
   "codemirror_mode": {
    "name": "ipython",
    "version": 3
   },
   "file_extension": ".py",
   "mimetype": "text/x-python",
   "name": "python",
   "nbconvert_exporter": "python",
   "pygments_lexer": "ipython3",
   "version": "3.9.12"
  }
 },
 "nbformat": 4,
 "nbformat_minor": 5
}
