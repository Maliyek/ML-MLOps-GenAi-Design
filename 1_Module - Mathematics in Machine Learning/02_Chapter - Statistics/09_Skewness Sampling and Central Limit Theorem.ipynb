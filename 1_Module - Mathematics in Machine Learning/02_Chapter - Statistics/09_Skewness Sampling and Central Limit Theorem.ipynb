{
 "cells": [
  {
   "cell_type": "markdown",
   "id": "6dd302a6",
   "metadata": {},
   "source": [
    "# For Leaders"
   ]
  },
  {
   "cell_type": "code",
   "execution_count": null,
   "id": "f6a870f1",
   "metadata": {},
   "outputs": [],
   "source": []
  },
  {
   "cell_type": "markdown",
   "id": "0189191c",
   "metadata": {},
   "source": [
    "## What it is?"
   ]
  },
  {
   "cell_type": "code",
   "execution_count": null,
   "id": "2b32bb3a",
   "metadata": {},
   "outputs": [],
   "source": [
    "# skewness\n",
    "\n",
    "- measure of asymmetry\n",
    "- linear regression -> assumption - the errors of the model are normally distributed (mean = 0, STD = 1)\n",
    "\n",
    "- positive skew - most of the data points are left skewed\n",
    "- negative skew - most of the data points are right skewed\n",
    "\n",
    "\n",
    "# sampling distribution\n",
    "\n",
    "- taking random samples from the population of data.\n",
    "- model evaluation - train_test_split(x,y, random_state = 100)\n",
    "- neural network - learning rate(hyperparameter tuning)\n",
    "\n",
    "\n",
    "# central limit theorem\n",
    "\n",
    "- model preformance - \n",
    "- hypothesis testing - \n",
    "- regression models "
   ]
  },
  {
   "cell_type": "markdown",
   "id": "028aff7f",
   "metadata": {},
   "source": [
    "## What are the real world examples?"
   ]
  },
  {
   "cell_type": "code",
   "execution_count": null,
   "id": "032f95cb",
   "metadata": {},
   "outputs": [],
   "source": [
    "- freature transformation - make that skewed data closer to normal distribution\n",
    "- outlier detection - (anomaly detection in credit card)\n",
    "- model evaluation - \n"
   ]
  },
  {
   "cell_type": "markdown",
   "id": "da993828",
   "metadata": {},
   "source": [
    "## What are the ML algorithms using that concept?"
   ]
  },
  {
   "cell_type": "code",
   "execution_count": null,
   "id": "570454e7",
   "metadata": {},
   "outputs": [],
   "source": []
  },
  {
   "cell_type": "markdown",
   "id": "08834a2e",
   "metadata": {},
   "source": [
    "## When to use those algorithms?"
   ]
  },
  {
   "cell_type": "code",
   "execution_count": null,
   "id": "1a56ec6d",
   "metadata": {},
   "outputs": [],
   "source": []
  },
  {
   "cell_type": "markdown",
   "id": "0bbe4a12",
   "metadata": {},
   "source": [
    "# For Engineers"
   ]
  },
  {
   "cell_type": "code",
   "execution_count": null,
   "id": "ded20a44",
   "metadata": {},
   "outputs": [],
   "source": []
  },
  {
   "cell_type": "markdown",
   "id": "0e40d3ae",
   "metadata": {},
   "source": [
    "## Project Example with data \n",
    "#### (if possible as per the topic)"
   ]
  },
  {
   "cell_type": "code",
   "execution_count": 2,
   "id": "b9c0b988",
   "metadata": {},
   "outputs": [],
   "source": [
    "import numpy as np\n",
    "import seaborn as sns\n",
    "import statistics as st"
   ]
  },
  {
   "cell_type": "code",
   "execution_count": 3,
   "id": "d8542298",
   "metadata": {},
   "outputs": [],
   "source": [
    "# generating population data\n",
    "\n",
    "x = np.random.normal(size=10000)"
   ]
  },
  {
   "cell_type": "code",
   "execution_count": 4,
   "id": "0814c6f7",
   "metadata": {},
   "outputs": [
    {
     "name": "stderr",
     "output_type": "stream",
     "text": [
      "C:\\Users\\himan\\anaconda3\\lib\\site-packages\\seaborn\\distributions.py:2619: FutureWarning: `distplot` is a deprecated function and will be removed in a future version. Please adapt your code to use either `displot` (a figure-level function with similar flexibility) or `histplot` (an axes-level function for histograms).\n",
      "  warnings.warn(msg, FutureWarning)\n"
     ]
    },
    {
     "data": {
      "text/plain": [
       "<AxesSubplot:ylabel='Density'>"
      ]
     },
     "execution_count": 4,
     "metadata": {},
     "output_type": "execute_result"
    },
    {
     "data": {
      "image/png": "[encoded data removed]",
      "text/plain": [
       "<Figure size 432x288 with 1 Axes>"
      ]
     },
     "metadata": {
      "needs_background": "light"
     },
     "output_type": "display_data"
    }
   ],
   "source": [
    "sns.distplot(x)"
   ]
  },
  {
   "cell_type": "code",
   "execution_count": 5,
   "id": "1dd25ddb",
   "metadata": {},
   "outputs": [
    {
     "name": "stderr",
     "output_type": "stream",
     "text": [
      "C:\\Users\\himan\\anaconda3\\lib\\site-packages\\seaborn\\distributions.py:2619: FutureWarning: `distplot` is a deprecated function and will be removed in a future version. Please adapt your code to use either `displot` (a figure-level function with similar flexibility) or `histplot` (an axes-level function for histograms).\n",
      "  warnings.warn(msg, FutureWarning)\n"
     ]
    },
    {
     "data": {
      "text/plain": [
       "<AxesSubplot:>"
      ]
     },
     "execution_count": 5,
     "metadata": {},
     "output_type": "execute_result"
    },
    {
     "data": {
      "image/png": "[encoded data removed]",
      "text/plain": [
       "<Figure size 432x288 with 1 Axes>"
      ]
     },
     "metadata": {
      "needs_background": "light"
     },
     "output_type": "display_data"
    }
   ],
   "source": [
    "sns.distplot(x, kde=False)  # kernel density estimate"
   ]
  },
  {
   "cell_type": "code",
   "execution_count": 6,
   "id": "c78b8628",
   "metadata": {},
   "outputs": [
    {
     "data": {
      "text/plain": [
       "array([-0.15455529, -0.58642283,  0.05715524,  0.91969189,  0.13774066,\n",
       "        2.14254658,  0.22644905, -0.49257808,  2.04283037,  2.25967567])"
      ]
     },
     "execution_count": 6,
     "metadata": {},
     "output_type": "execute_result"
    }
   ],
   "source": [
    "# sampling the normal distributed population\n",
    "\n",
    "xsample = np.random.choice(x, size=10, replace=False)\n",
    "\n",
    "xsample"
   ]
  },
  {
   "cell_type": "code",
   "execution_count": 7,
   "id": "c892664a",
   "metadata": {},
   "outputs": [
    {
     "data": {
      "text/plain": [
       "0.6552533251114787"
      ]
     },
     "execution_count": 7,
     "metadata": {},
     "output_type": "execute_result"
    }
   ],
   "source": [
    "st.mean(xsample)"
   ]
  },
  {
   "cell_type": "code",
   "execution_count": 8,
   "id": "cd1a7ad7",
   "metadata": {},
   "outputs": [],
   "source": [
    "def sample_mean_calculator(population_array, sample_size, n_samples):\n",
    "    sample_means = []\n",
    "    \n",
    "    for i in range(n_samples):\n",
    "        sample = np.random.choice(population_array, size = sample_size, replace=False)\n",
    "        sample_mean = st.mean(sample)\n",
    "        \n",
    "        sample_means.append(sample_mean)\n",
    "    return sample_means"
   ]
  },
  {
   "cell_type": "code",
   "execution_count": 9,
   "id": "a8579104",
   "metadata": {},
   "outputs": [
    {
     "name": "stderr",
     "output_type": "stream",
     "text": [
      "C:\\Users\\himan\\anaconda3\\lib\\site-packages\\seaborn\\distributions.py:2619: FutureWarning: `distplot` is a deprecated function and will be removed in a future version. Please adapt your code to use either `displot` (a figure-level function with similar flexibility) or `histplot` (an axes-level function for histograms).\n",
      "  warnings.warn(msg, FutureWarning)\n"
     ]
    },
    {
     "data": {
      "text/plain": [
       "<AxesSubplot:ylabel='Density'>"
      ]
     },
     "execution_count": 9,
     "metadata": {},
     "output_type": "execute_result"
    },
    {
     "data": {
      "image/png": "[encoded data removed]",
      "text/plain": [
       "<Figure size 432x288 with 1 Axes>"
      ]
     },
     "metadata": {
      "needs_background": "light"
     },
     "output_type": "display_data"
    }
   ],
   "source": [
    "sns.distplot(sample_mean_calculator(x, 10, 10))"
   ]
  },
  {
   "cell_type": "code",
   "execution_count": 10,
   "id": "0a4ff76d",
   "metadata": {},
   "outputs": [
    {
     "name": "stderr",
     "output_type": "stream",
     "text": [
      "C:\\Users\\himan\\anaconda3\\lib\\site-packages\\seaborn\\distributions.py:2619: FutureWarning: `distplot` is a deprecated function and will be removed in a future version. Please adapt your code to use either `displot` (a figure-level function with similar flexibility) or `histplot` (an axes-level function for histograms).\n",
      "  warnings.warn(msg, FutureWarning)\n"
     ]
    },
    {
     "data": {
      "text/plain": [
       "<AxesSubplot:ylabel='Density'>"
      ]
     },
     "execution_count": 10,
     "metadata": {},
     "output_type": "execute_result"
    },
    {
     "data": {
      "image/png": "[encoded data removed]",
      "text/plain": [
       "<Figure size 432x288 with 1 Axes>"
      ]
     },
     "metadata": {
      "needs_background": "light"
     },
     "output_type": "display_data"
    }
   ],
   "source": [
    "sns.distplot(sample_mean_calculator(x, 10, 1000))"
   ]
  },
  {
   "cell_type": "code",
   "execution_count": 11,
   "id": "0b570f14",
   "metadata": {},
   "outputs": [
    {
     "name": "stderr",
     "output_type": "stream",
     "text": [
      "C:\\Users\\himan\\anaconda3\\lib\\site-packages\\seaborn\\distributions.py:2619: FutureWarning: `distplot` is a deprecated function and will be removed in a future version. Please adapt your code to use either `displot` (a figure-level function with similar flexibility) or `histplot` (an axes-level function for histograms).\n",
      "  warnings.warn(msg, FutureWarning)\n"
     ]
    },
    {
     "data": {
      "text/plain": [
       "<AxesSubplot:ylabel='Density'>"
      ]
     },
     "execution_count": 11,
     "metadata": {},
     "output_type": "execute_result"
    },
    {
     "data": {
      "image/png": "[encoded data removed]",
      "text/plain": [
       "<Figure size 432x288 with 1 Axes>"
      ]
     },
     "metadata": {
      "needs_background": "light"
     },
     "output_type": "display_data"
    }
   ],
   "source": [
    "sns.distplot(sample_mean_calculator(x, 1000, 1000))"
   ]
  },
  {
   "cell_type": "code",
   "execution_count": 12,
   "id": "03f83259",
   "metadata": {},
   "outputs": [],
   "source": [
    "np.random.choice?"
   ]
  },
  {
   "cell_type": "code",
   "execution_count": null,
   "id": "34447c3e",
   "metadata": {},
   "outputs": [],
   "source": []
  }
 ],
 "metadata": {
  "kernelspec": {
   "display_name": "Python 3 (ipykernel)",
   "language": "python",
   "name": "python3"
  },
  "language_info": {
   "codemirror_mode": {
    "name": "ipython",
    "version": 3
   },
   "file_extension": ".py",
   "mimetype": "text/x-python",
   "name": "python",
   "nbconvert_exporter": "python",
   "pygments_lexer": "ipython3",
   "version": "3.9.12"
  }
 },
 "nbformat": 4,
 "nbformat_minor": 5
}
