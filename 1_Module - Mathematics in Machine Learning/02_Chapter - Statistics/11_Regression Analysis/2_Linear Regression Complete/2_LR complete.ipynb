{
 "cells": [
  {
   "cell_type": "markdown",
   "id": "d770bc1e",
   "metadata": {},
   "source": [
    "# Regression Model\n",
    "\n",
    "<img src='q.png' />\n",
    "\n",
    "\n",
    "n observation\n",
    "\n",
    "\n",
    "<img src='w.png' />\n",
    "\n",
    "\n",
    "calculate error\n",
    "\n",
    "<img src='e.png' />"
   ]
  },
  {
   "cell_type": "code",
   "execution_count": 1,
   "id": "4e7adbcd",
   "metadata": {},
   "outputs": [],
   "source": [
    "import pandas as pd\n",
    "import numpy as np"
   ]
  },
  {
   "cell_type": "code",
   "execution_count": 2,
   "id": "2b9b05bd",
   "metadata": {},
   "outputs": [
    {
     "data": {
      "text/html": [
       "<div>\n",
       "<style scoped>\n",
       "    .dataframe tbody tr th:only-of-type {\n",
       "        vertical-align: middle;\n",
       "    }\n",
       "\n",
       "    .dataframe tbody tr th {\n",
       "        vertical-align: top;\n",
       "    }\n",
       "\n",
       "    .dataframe thead th {\n",
       "        text-align: right;\n",
       "    }\n",
       "</style>\n",
       "<table border=\"1\" class=\"dataframe\">\n",
       "  <thead>\n",
       "    <tr style=\"text-align: right;\">\n",
       "      <th></th>\n",
       "      <th>age</th>\n",
       "      <th>sex</th>\n",
       "      <th>gmat_tot</th>\n",
       "      <th>gmat_qpc</th>\n",
       "      <th>gmat_vpc</th>\n",
       "      <th>gmat_tpc</th>\n",
       "      <th>s_avg</th>\n",
       "      <th>f_avg</th>\n",
       "      <th>quarter</th>\n",
       "      <th>work_yrs</th>\n",
       "      <th>frstlang</th>\n",
       "      <th>salary</th>\n",
       "      <th>satis</th>\n",
       "    </tr>\n",
       "  </thead>\n",
       "  <tbody>\n",
       "    <tr>\n",
       "      <th>0</th>\n",
       "      <td>23</td>\n",
       "      <td>2</td>\n",
       "      <td>620</td>\n",
       "      <td>77</td>\n",
       "      <td>87</td>\n",
       "      <td>87</td>\n",
       "      <td>3.4</td>\n",
       "      <td>3.00</td>\n",
       "      <td>1</td>\n",
       "      <td>2</td>\n",
       "      <td>1</td>\n",
       "      <td>0</td>\n",
       "      <td>7</td>\n",
       "    </tr>\n",
       "    <tr>\n",
       "      <th>1</th>\n",
       "      <td>24</td>\n",
       "      <td>1</td>\n",
       "      <td>610</td>\n",
       "      <td>90</td>\n",
       "      <td>71</td>\n",
       "      <td>87</td>\n",
       "      <td>3.5</td>\n",
       "      <td>4.00</td>\n",
       "      <td>1</td>\n",
       "      <td>2</td>\n",
       "      <td>1</td>\n",
       "      <td>0</td>\n",
       "      <td>6</td>\n",
       "    </tr>\n",
       "    <tr>\n",
       "      <th>2</th>\n",
       "      <td>24</td>\n",
       "      <td>1</td>\n",
       "      <td>670</td>\n",
       "      <td>99</td>\n",
       "      <td>78</td>\n",
       "      <td>95</td>\n",
       "      <td>3.3</td>\n",
       "      <td>3.25</td>\n",
       "      <td>1</td>\n",
       "      <td>2</td>\n",
       "      <td>1</td>\n",
       "      <td>0</td>\n",
       "      <td>6</td>\n",
       "    </tr>\n",
       "    <tr>\n",
       "      <th>3</th>\n",
       "      <td>24</td>\n",
       "      <td>1</td>\n",
       "      <td>570</td>\n",
       "      <td>56</td>\n",
       "      <td>81</td>\n",
       "      <td>75</td>\n",
       "      <td>3.3</td>\n",
       "      <td>2.67</td>\n",
       "      <td>1</td>\n",
       "      <td>1</td>\n",
       "      <td>1</td>\n",
       "      <td>0</td>\n",
       "      <td>7</td>\n",
       "    </tr>\n",
       "    <tr>\n",
       "      <th>4</th>\n",
       "      <td>24</td>\n",
       "      <td>2</td>\n",
       "      <td>710</td>\n",
       "      <td>93</td>\n",
       "      <td>98</td>\n",
       "      <td>98</td>\n",
       "      <td>3.6</td>\n",
       "      <td>3.75</td>\n",
       "      <td>1</td>\n",
       "      <td>2</td>\n",
       "      <td>1</td>\n",
       "      <td>999</td>\n",
       "      <td>5</td>\n",
       "    </tr>\n",
       "  </tbody>\n",
       "</table>\n",
       "</div>"
      ],
      "text/plain": [
       "   age  sex  gmat_tot  gmat_qpc  gmat_vpc  gmat_tpc  s_avg  f_avg  quarter  \\\n",
       "0   23    2       620        77        87        87    3.4   3.00        1   \n",
       "1   24    1       610        90        71        87    3.5   4.00        1   \n",
       "2   24    1       670        99        78        95    3.3   3.25        1   \n",
       "3   24    1       570        56        81        75    3.3   2.67        1   \n",
       "4   24    2       710        93        98        98    3.6   3.75        1   \n",
       "\n",
       "   work_yrs  frstlang  salary  satis  \n",
       "0         2         1       0      7  \n",
       "1         2         1       0      6  \n",
       "2         2         1       0      6  \n",
       "3         1         1       0      7  \n",
       "4         2         1     999      5  "
      ]
     },
     "execution_count": 2,
     "metadata": {},
     "output_type": "execute_result"
    }
   ],
   "source": [
    "df = pd.read_csv(\"MBASSData.csv\")\n",
    "\n",
    "df.head()"
   ]
  },
  {
   "cell_type": "code",
   "execution_count": 4,
   "id": "6a2c1590",
   "metadata": {},
   "outputs": [
    {
     "name": "stdout",
     "output_type": "stream",
     "text": [
      "<class 'pandas.core.frame.DataFrame'>\n",
      "RangeIndex: 274 entries, 0 to 273\n",
      "Data columns (total 13 columns):\n",
      " #   Column    Non-Null Count  Dtype  \n",
      "---  ------    --------------  -----  \n",
      " 0   age       274 non-null    int64  \n",
      " 1   sex       274 non-null    int64  \n",
      " 2   gmat_tot  274 non-null    int64  \n",
      " 3   gmat_qpc  274 non-null    int64  \n",
      " 4   gmat_vpc  274 non-null    int64  \n",
      " 5   gmat_tpc  274 non-null    int64  \n",
      " 6   s_avg     274 non-null    float64\n",
      " 7   f_avg     274 non-null    float64\n",
      " 8   quarter   274 non-null    int64  \n",
      " 9   work_yrs  274 non-null    int64  \n",
      " 10  frstlang  274 non-null    int64  \n",
      " 11  salary    274 non-null    int64  \n",
      " 12  satis     274 non-null    int64  \n",
      "dtypes: float64(2), int64(11)\n",
      "memory usage: 28.0 KB\n"
     ]
    }
   ],
   "source": [
    "df.info()"
   ]
  },
  {
   "cell_type": "code",
   "execution_count": 5,
   "id": "08bdeec6",
   "metadata": {},
   "outputs": [],
   "source": [
    "import statsmodels.api as sm"
   ]
  },
  {
   "cell_type": "code",
   "execution_count": null,
   "id": "7987a2ee",
   "metadata": {},
   "outputs": [],
   "source": [
    "x = sm.add_constant"
   ]
  },
  {
   "cell_type": "markdown",
   "id": "06d4dbb5",
   "metadata": {},
   "source": [
    "sum of squared errors (SSE)\n",
    "\n",
    "<img src='r.png' />\n",
    "\n",
    "calculate b1 and b0\n",
    "\n",
    "<img src='t.png' />"
   ]
  },
  {
   "cell_type": "code",
   "execution_count": null,
   "id": "11710ebd",
   "metadata": {},
   "outputs": [],
   "source": []
  },
  {
   "cell_type": "code",
   "execution_count": null,
   "id": "9383eec6",
   "metadata": {},
   "outputs": [],
   "source": []
  },
  {
   "cell_type": "code",
   "execution_count": null,
   "id": "3bd3185b",
   "metadata": {},
   "outputs": [],
   "source": []
  },
  {
   "cell_type": "code",
   "execution_count": null,
   "id": "beffc624",
   "metadata": {},
   "outputs": [],
   "source": []
  },
  {
   "cell_type": "code",
   "execution_count": null,
   "id": "1b9fd9de",
   "metadata": {},
   "outputs": [],
   "source": []
  },
  {
   "cell_type": "markdown",
   "id": "8f7f8490",
   "metadata": {},
   "source": [
    "<img src='one.png' />\n",
    "\n",
    "<img src='two.png' />\n",
    "\n",
    "<img src='three.png' />"
   ]
  },
  {
   "cell_type": "code",
   "execution_count": null,
   "id": "73fc95f2",
   "metadata": {},
   "outputs": [],
   "source": []
  }
 ],
 "metadata": {
  "kernelspec": {
   "display_name": "Python 3 (ipykernel)",
   "language": "python",
   "name": "python3"
  },
  "language_info": {
   "codemirror_mode": {
    "name": "ipython",
    "version": 3
   },
   "file_extension": ".py",
   "mimetype": "text/x-python",
   "name": "python",
   "nbconvert_exporter": "python",
   "pygments_lexer": "ipython3",
   "version": "3.9.12"
  }
 },
 "nbformat": 4,
 "nbformat_minor": 5
}
