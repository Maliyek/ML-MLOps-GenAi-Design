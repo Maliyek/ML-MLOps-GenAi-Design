{
 "cells": [
  {
   "cell_type": "markdown",
   "id": "a960739f",
   "metadata": {},
   "source": [
    "# ANOVA\n",
    "\n",
    "Analysis of Variance"
   ]
  },
  {
   "cell_type": "code",
   "execution_count": null,
   "id": "473b9805",
   "metadata": {},
   "outputs": [],
   "source": [
    "ANOVA - used to analyze the differences among group means in a dataset.\n",
    "- is there any statistically significant difference between the means of two or more groups.\n",
    "\n",
    "\n",
    "feature selection - healthcare - biomarkers\n",
    "customer segmentation - which fators significantlly influence customer spending\n",
    "quality control (manufacturing) - source of variance\n",
    "emplyee performance analysis - \n",
    "\n"
   ]
  },
  {
   "cell_type": "code",
   "execution_count": null,
   "id": "ba9d4c49",
   "metadata": {},
   "outputs": [],
   "source": [
    "One-way ANOVA\n",
    "\n",
    "- compares the variance in group means within sample.\n",
    "\n",
    "when to use one-way ANOVA?\n",
    "- categorical independent variable\n",
    "- one independent variable\n",
    "\n"
   ]
  },
  {
   "cell_type": "markdown",
   "id": "e37b56f5",
   "metadata": {},
   "source": [
    "### Business Problem\n",
    "\n",
    "Test the relationship between shoe brand and race finish times in a marathon."
   ]
  },
  {
   "cell_type": "code",
   "execution_count": 1,
   "id": "bf1e0967",
   "metadata": {},
   "outputs": [],
   "source": [
    "import numpy as np\n",
    "import pandas as pd\n",
    "\n",
    "import scipy.stats as stats\n",
    "import matplotlib.pyplot as plt\n",
    "\n",
    "import statsmodels.api as sm\n",
    "from statsmodels.formula.api import ols\n",
    "from statsmodels.stats.multicomp import pairwise_tukeyhsd"
   ]
  },
  {
   "cell_type": "code",
   "execution_count": 4,
   "id": "d56966ea",
   "metadata": {},
   "outputs": [],
   "source": [
    "np.random.seed(11)\n",
    "\n",
    "shoe_brand_names = ['nike', 'adidas', 'saucony', 'hoka', 'converse', 'puma', 'timberland']\n",
    "\n",
    "shoe_brands = np.random.choice(a = shoe_brand_names,\n",
    "                              p = [0.05, 0.13, 0.25, 0.05, 0.3, 0.2, 0.02],\n",
    "                              size=5000)\n",
    "\n",
    "marathon_times = stats.poisson.rvs(loc=18, mu=30, size=5000)"
   ]
  },
  {
   "cell_type": "code",
   "execution_count": 3,
   "id": "bf9b426d",
   "metadata": {},
   "outputs": [],
   "source": [
    "# help(stats.poisson.rvs)"
   ]
  },
  {
   "cell_type": "code",
   "execution_count": 6,
   "id": "6b6c2193",
   "metadata": {},
   "outputs": [
    {
     "data": {
      "text/html": [
       "<div>\n",
       "<style scoped>\n",
       "    .dataframe tbody tr th:only-of-type {\n",
       "        vertical-align: middle;\n",
       "    }\n",
       "\n",
       "    .dataframe tbody tr th {\n",
       "        vertical-align: top;\n",
       "    }\n",
       "\n",
       "    .dataframe thead th {\n",
       "        text-align: right;\n",
       "    }\n",
       "</style>\n",
       "<table border=\"1\" class=\"dataframe\">\n",
       "  <thead>\n",
       "    <tr style=\"text-align: right;\">\n",
       "      <th></th>\n",
       "      <th>shoe</th>\n",
       "      <th>marathon</th>\n",
       "    </tr>\n",
       "  </thead>\n",
       "  <tbody>\n",
       "    <tr>\n",
       "      <th>0</th>\n",
       "      <td>saucony</td>\n",
       "      <td>40</td>\n",
       "    </tr>\n",
       "    <tr>\n",
       "      <th>1</th>\n",
       "      <td>nike</td>\n",
       "      <td>64</td>\n",
       "    </tr>\n",
       "    <tr>\n",
       "      <th>2</th>\n",
       "      <td>hoka</td>\n",
       "      <td>46</td>\n",
       "    </tr>\n",
       "    <tr>\n",
       "      <th>3</th>\n",
       "      <td>converse</td>\n",
       "      <td>58</td>\n",
       "    </tr>\n",
       "    <tr>\n",
       "      <th>4</th>\n",
       "      <td>saucony</td>\n",
       "      <td>50</td>\n",
       "    </tr>\n",
       "    <tr>\n",
       "      <th>...</th>\n",
       "      <td>...</td>\n",
       "      <td>...</td>\n",
       "    </tr>\n",
       "    <tr>\n",
       "      <th>4995</th>\n",
       "      <td>converse</td>\n",
       "      <td>52</td>\n",
       "    </tr>\n",
       "    <tr>\n",
       "      <th>4996</th>\n",
       "      <td>saucony</td>\n",
       "      <td>51</td>\n",
       "    </tr>\n",
       "    <tr>\n",
       "      <th>4997</th>\n",
       "      <td>adidas</td>\n",
       "      <td>38</td>\n",
       "    </tr>\n",
       "    <tr>\n",
       "      <th>4998</th>\n",
       "      <td>saucony</td>\n",
       "      <td>48</td>\n",
       "    </tr>\n",
       "    <tr>\n",
       "      <th>4999</th>\n",
       "      <td>saucony</td>\n",
       "      <td>41</td>\n",
       "    </tr>\n",
       "  </tbody>\n",
       "</table>\n",
       "<p>5000 rows × 2 columns</p>\n",
       "</div>"
      ],
      "text/plain": [
       "          shoe  marathon\n",
       "0      saucony        40\n",
       "1         nike        64\n",
       "2         hoka        46\n",
       "3     converse        58\n",
       "4      saucony        50\n",
       "...        ...       ...\n",
       "4995  converse        52\n",
       "4996   saucony        51\n",
       "4997    adidas        38\n",
       "4998   saucony        48\n",
       "4999   saucony        41\n",
       "\n",
       "[5000 rows x 2 columns]"
      ]
     },
     "execution_count": 6,
     "metadata": {},
     "output_type": "execute_result"
    }
   ],
   "source": [
    "marathon_frame = pd.DataFrame({\"shoe\": shoe_brands, \"marathon\": marathon_times})\n",
    "\n",
    "marathon_frame"
   ]
  },
  {
   "cell_type": "code",
   "execution_count": 7,
   "id": "b1986c18",
   "metadata": {},
   "outputs": [],
   "source": [
    "groups = marathon_frame.groupby('shoe').groups"
   ]
  },
  {
   "cell_type": "code",
   "execution_count": 11,
   "id": "38d1d4fe",
   "metadata": {},
   "outputs": [],
   "source": [
    "# groups"
   ]
  },
  {
   "cell_type": "code",
   "execution_count": 12,
   "id": "dbde6378",
   "metadata": {},
   "outputs": [],
   "source": [
    "# extract individual values\n",
    "\n",
    "nike = marathon_times[groups['nike']]\n",
    "adidas = marathon_times[groups['adidas']]\n",
    "saucony = marathon_times[groups['saucony']]\n",
    "hoka = marathon_times[groups['hoka']]\n",
    "converse = marathon_times[groups['converse']]\n",
    "puma = marathon_times[groups['puma']]\n",
    "timberland = marathon_times[groups['timberland']]"
   ]
  },
  {
   "cell_type": "code",
   "execution_count": null,
   "id": "5ed65ab4",
   "metadata": {},
   "outputs": [],
   "source": [
    "# conduct one way anova\n",
    "\n",
    "Hypothesis\n",
    "\n",
    "H0: there is no significant difference between the group means\n",
    "\n",
    "H1: there is significant difference between the group means"
   ]
  },
  {
   "cell_type": "code",
   "execution_count": 13,
   "id": "17ca2752",
   "metadata": {},
   "outputs": [
    {
     "data": {
      "text/plain": [
       "F_onewayResult(statistic=1.0545716280465174, pvalue=0.38768383569947124)"
      ]
     },
     "execution_count": 13,
     "metadata": {},
     "output_type": "execute_result"
    }
   ],
   "source": [
    "stats.f_oneway(nike, adidas, saucony, hoka, converse, puma, timberland)"
   ]
  },
  {
   "cell_type": "code",
   "execution_count": 14,
   "id": "c83f0c57",
   "metadata": {},
   "outputs": [
    {
     "name": "stdout",
     "output_type": "stream",
     "text": [
      "              df         sum_sq    mean_sq         F    PR(>F)\n",
      "shoe         6.0     187.079498  31.179916  1.054572  0.387684\n",
      "Residual  4993.0  147625.176302  29.566428       NaN       NaN\n"
     ]
    }
   ],
   "source": [
    "# one-way anova test using statsmodels\n",
    "\n",
    "model = ols('marathon ~ shoe',\n",
    "           data = marathon_frame).fit()\n",
    "\n",
    "anova_result = sm.stats.anova_lm(model, typ=1)\n",
    "\n",
    "print(anova_result)"
   ]
  },
  {
   "cell_type": "code",
   "execution_count": null,
   "id": "881cd7ea",
   "metadata": {},
   "outputs": [],
   "source": [
    "p-value(0.05) < 0.38  -> reject the H1"
   ]
  },
  {
   "cell_type": "code",
   "execution_count": 15,
   "id": "fb6f09fc",
   "metadata": {},
   "outputs": [
    {
     "name": "stdout",
     "output_type": "stream",
     "text": [
      "Pairs of shoe brands: nike adidas\n",
      "Ttest_indResult(statistic=0.8862922831439877, pvalue=0.37570245392836255)\n",
      "Pairs of shoe brands: nike saucony\n",
      "Ttest_indResult(statistic=1.762786440980292, pvalue=0.07814149286846872)\n",
      "Pairs of shoe brands: nike hoka\n",
      "Ttest_indResult(statistic=0.48809058611147266, pvalue=0.6257044580453001)\n",
      "Pairs of shoe brands: nike converse\n",
      "Ttest_indResult(statistic=1.8181934419646448, pvalue=0.06921059220729714)\n",
      "Pairs of shoe brands: nike puma\n",
      "Ttest_indResult(statistic=1.296447582452365, pvalue=0.1950585274992822)\n",
      "Pairs of shoe brands: nike timberland\n",
      "Ttest_indResult(statistic=0.2843933937002686, pvalue=0.7762957825486976)\n",
      "Pairs of shoe brands: adidas saucony\n",
      "Ttest_indResult(statistic=1.2037135839092055, pvalue=0.22884922680385597)\n",
      "Pairs of shoe brands: adidas hoka\n",
      "Ttest_indResult(statistic=-0.35913420982773653, pvalue=0.7195778199442804)\n",
      "Pairs of shoe brands: adidas converse\n",
      "Ttest_indResult(statistic=1.2501515788807367, pvalue=0.21138202761894428)\n",
      "Pairs of shoe brands: adidas puma\n",
      "Ttest_indResult(statistic=0.4906893918919971, pvalue=0.6237100819602404)\n",
      "Pairs of shoe brands: adidas timberland\n",
      "Ttest_indResult(statistic=-0.28183184229836705, pvalue=0.7781514635366614)\n",
      "Pairs of shoe brands: saucony hoka\n",
      "Ttest_indResult(statistic=-1.253341075157252, pvalue=0.21027397872730164)\n",
      "Pairs of shoe brands: saucony converse\n",
      "Ttest_indResult(statistic=-0.0068216994249110045, pvalue=0.9945576114434662)\n",
      "Pairs of shoe brands: saucony puma\n",
      "Ttest_indResult(statistic=-0.8196206096140196, pvalue=0.41251752953204934)\n",
      "Pairs of shoe brands: saucony timberland\n",
      "Ttest_indResult(statistic=-0.8193297176837686, pvalue=0.4127430460714945)\n",
      "Pairs of shoe brands: hoka converse\n",
      "Ttest_indResult(statistic=1.2910415194799367, pvalue=0.1968615692366829)\n",
      "Pairs of shoe brands: hoka puma\n",
      "Ttest_indResult(statistic=0.7507135342567756, pvalue=0.45296156342421634)\n",
      "Pairs of shoe brands: hoka timberland\n",
      "Ttest_indResult(statistic=-0.054761954099593536, pvalue=0.9563595358963835)\n",
      "Pairs of shoe brands: converse puma\n",
      "Ttest_indResult(statistic=-0.8525610387288702, pvalue=0.39398431326435457)\n",
      "Pairs of shoe brands: converse timberland\n",
      "Ttest_indResult(statistic=-0.8407299103130836, pvalue=0.40062826693884046)\n",
      "Pairs of shoe brands: puma timberland\n",
      "Ttest_indResult(statistic=-0.5204296971843653, pvalue=0.6028669751149495)\n"
     ]
    }
   ],
   "source": [
    "# post-hoc test - \n",
    "\n",
    "shoe_pairs = []\n",
    "\n",
    "for shoe1 in range(6):\n",
    "    for shoe2 in range(shoe1 + 1, 7):\n",
    "        shoe_pairs.append((shoe_brand_names[shoe1], shoe_brand_names[shoe2]))\n",
    "    \n",
    "for shoe1, shoe2 in shoe_pairs:\n",
    "    print(\"Pairs of shoe brands:\", shoe1, shoe2)\n",
    "    print(stats.ttest_ind(marathon_times[groups[shoe1]], marathon_times[groups[shoe2]]))"
   ]
  },
  {
   "cell_type": "code",
   "execution_count": 16,
   "id": "46a989c9",
   "metadata": {},
   "outputs": [
    {
     "data": {
      "text/html": [
       "<table class=\"simpletable\">\n",
       "<caption>Multiple Comparison of Means - Tukey HSD, FWER=0.05</caption>\n",
       "<tr>\n",
       "   <th>group1</th>    <th>group2</th>   <th>meandiff</th>  <th>p-adj</th>  <th>lower</th>   <th>upper</th> <th>reject</th>\n",
       "</tr>\n",
       "<tr>\n",
       "   <td>adidas</td>   <td>converse</td>   <td>-0.3195</td> <td>0.8747</td> <td>-1.074</td>   <td>0.435</td>  <td>False</td>\n",
       "</tr>\n",
       "<tr>\n",
       "   <td>adidas</td>     <td>hoka</td>     <td>0.1428</td>  <td>0.9998</td> <td>-1.0304</td> <td>1.3159</td>  <td>False</td>\n",
       "</tr>\n",
       "<tr>\n",
       "   <td>adidas</td>     <td>nike</td>     <td>0.3789</td>  <td>0.9715</td> <td>-0.8531</td> <td>1.6109</td>  <td>False</td>\n",
       "</tr>\n",
       "<tr>\n",
       "   <td>adidas</td>     <td>puma</td>     <td>-0.1336</td>  <td>0.999</td> <td>-0.9356</td> <td>0.6685</td>  <td>False</td>\n",
       "</tr>\n",
       "<tr>\n",
       "   <td>adidas</td>    <td>saucony</td>   <td>-0.3209</td> <td>0.8851</td> <td>-1.0943</td> <td>0.4525</td>  <td>False</td>\n",
       "</tr>\n",
       "<tr>\n",
       "   <td>adidas</td>  <td>timberland</td>  <td>0.1783</td>    <td>1.0</td>  <td>-1.6431</td> <td>1.9997</td>  <td>False</td>\n",
       "</tr>\n",
       "<tr>\n",
       "  <td>converse</td>    <td>hoka</td>     <td>0.4623</td>  <td>0.8667</td> <td>-0.6131</td> <td>1.5377</td>  <td>False</td>\n",
       "</tr>\n",
       "<tr>\n",
       "  <td>converse</td>    <td>nike</td>     <td>0.6984</td>  <td>0.5425</td> <td>-0.4409</td> <td>1.8377</td>  <td>False</td>\n",
       "</tr>\n",
       "<tr>\n",
       "  <td>converse</td>    <td>puma</td>     <td>0.1859</td>  <td>0.9804</td> <td>-0.4648</td> <td>0.8367</td>  <td>False</td>\n",
       "</tr>\n",
       "<tr>\n",
       "  <td>converse</td>   <td>saucony</td>   <td>-0.0014</td>   <td>1.0</td>  <td>-0.6166</td> <td>0.6137</td>  <td>False</td>\n",
       "</tr>\n",
       "<tr>\n",
       "  <td>converse</td> <td>timberland</td>  <td>0.4978</td>  <td>0.9814</td> <td>-1.2622</td> <td>2.2579</td>  <td>False</td>\n",
       "</tr>\n",
       "<tr>\n",
       "    <td>hoka</td>      <td>nike</td>     <td>0.2361</td>  <td>0.9991</td> <td>-1.2147</td>  <td>1.687</td>  <td>False</td>\n",
       "</tr>\n",
       "<tr>\n",
       "    <td>hoka</td>      <td>puma</td>     <td>-0.2763</td> <td>0.9904</td> <td>-1.3856</td>  <td>0.833</td>  <td>False</td>\n",
       "</tr>\n",
       "<tr>\n",
       "    <td>hoka</td>     <td>saucony</td>   <td>-0.4637</td> <td>0.8717</td> <td>-1.5525</td> <td>0.6251</td>  <td>False</td>\n",
       "</tr>\n",
       "<tr>\n",
       "    <td>hoka</td>   <td>timberland</td>  <td>0.0356</td>    <td>1.0</td>  <td>-1.9405</td> <td>2.0116</td>  <td>False</td>\n",
       "</tr>\n",
       "<tr>\n",
       "    <td>nike</td>      <td>puma</td>     <td>-0.5125</td> <td>0.8566</td> <td>-1.6838</td> <td>0.6588</td>  <td>False</td>\n",
       "</tr>\n",
       "<tr>\n",
       "    <td>nike</td>     <td>saucony</td>   <td>-0.6998</td> <td>0.5535</td> <td>-1.8517</td> <td>0.4521</td>  <td>False</td>\n",
       "</tr>\n",
       "<tr>\n",
       "    <td>nike</td>   <td>timberland</td>  <td>-0.2006</td> <td>0.9999</td> <td>-2.2121</td> <td>1.8109</td>  <td>False</td>\n",
       "</tr>\n",
       "<tr>\n",
       "    <td>puma</td>     <td>saucony</td>   <td>-0.1874</td> <td>0.9828</td>  <td>-0.86</td>  <td>0.4853</td>  <td>False</td>\n",
       "</tr>\n",
       "<tr>\n",
       "    <td>puma</td>   <td>timberland</td>  <td>0.3119</td>  <td>0.9986</td> <td>-1.469</td>  <td>2.0928</td>  <td>False</td>\n",
       "</tr>\n",
       "<tr>\n",
       "   <td>saucony</td> <td>timberland</td>  <td>0.4993</td>  <td>0.9816</td> <td>-1.269</td>  <td>2.2675</td>  <td>False</td>\n",
       "</tr>\n",
       "</table>"
      ],
      "text/plain": [
       "<class 'statsmodels.iolib.table.SimpleTable'>"
      ]
     },
     "execution_count": 16,
     "metadata": {},
     "output_type": "execute_result"
    },
    {
     "data": {
      "image/png": "[encoded data removed]",
      "text/plain": [
       "<Figure size 864x504 with 1 Axes>"
      ]
     },
     "metadata": {
      "needs_background": "light"
     },
     "output_type": "display_data"
    }
   ],
   "source": [
    "tukey = pairwise_tukeyhsd(endog = marathon_times, groups=shoe_brands, alpha=0.05)\n",
    "\n",
    "tukey.plot_simultaneous(figsize=(12,7))\n",
    "\n",
    "plt.vlines(x=49.5, ymin=-0.3, ymax=5, colors=\"#F0260A\", linestyles='dashed')\n",
    "\n",
    "tukey.summary()"
   ]
  },
  {
   "cell_type": "code",
   "execution_count": null,
   "id": "72a9fd6d",
   "metadata": {},
   "outputs": [],
   "source": []
  },
  {
   "cell_type": "code",
   "execution_count": null,
   "id": "636739de",
   "metadata": {},
   "outputs": [],
   "source": []
  },
  {
   "cell_type": "markdown",
   "id": "6a2306cb",
   "metadata": {},
   "source": [
    "# Chi Square Test"
   ]
  },
  {
   "cell_type": "code",
   "execution_count": null,
   "id": "8a1c5755",
   "metadata": {},
   "outputs": [],
   "source": [
    "- categorical variables \n",
    "- determine the association or independence of categorical variables\n",
    "- is there any significant relationship between two or more categorical variables \n",
    "  between compairing observed and expected values.\n",
    "\n",
    "\n",
    "- text classification\n",
    "- market basket analysis - inventory management, optimizing store layouts\n",
    "- image classification - \n",
    "- website user behavior - "
   ]
  },
  {
   "cell_type": "code",
   "execution_count": null,
   "id": "3db731a7",
   "metadata": {},
   "outputs": [],
   "source": [
    "Hypothisis testing\n",
    "\n",
    "H0: no relationship(independent)\n",
    "\n",
    "H1: there is a relationship(dependent)"
   ]
  },
  {
   "cell_type": "code",
   "execution_count": 18,
   "id": "666c6dc6",
   "metadata": {},
   "outputs": [],
   "source": [
    "np.random.seed(10)\n",
    "\n",
    "type_bottle = np.random.choice(a = ['paper', 'cans', 'glass', 'others', 'plastic'],\n",
    "                              p = [0.05, 0.15, 0.25, 0.05, 0.5],\n",
    "                              size = 1000)\n",
    "\n",
    "month = np.random.choice(a=['January', 'February', 'March'],\n",
    "                        p = [0.4, 0.2, 0.4],\n",
    "                        size=1000)\n",
    "\n",
    "bottles = pd.DataFrame({\"types\":type_bottle,\n",
    "                      \"months\": month})\n",
    "\n",
    "bottles_tab = pd.crosstab(bottles.types, bottles.months, margins=True)\n",
    "\n",
    "bottles_tab.columns = ['January', 'February', 'March', 'row_totals']\n",
    "bottles_tab.index = ['paper', 'cans', 'glass', 'others', 'plastic', 'col_totals']\n",
    "\n",
    "observed = bottles_tab.iloc[0:5, 0:3]"
   ]
  },
  {
   "cell_type": "code",
   "execution_count": 20,
   "id": "28204775",
   "metadata": {},
   "outputs": [
    {
     "data": {
      "text/html": [
       "<div>\n",
       "<style scoped>\n",
       "    .dataframe tbody tr th:only-of-type {\n",
       "        vertical-align: middle;\n",
       "    }\n",
       "\n",
       "    .dataframe tbody tr th {\n",
       "        vertical-align: top;\n",
       "    }\n",
       "\n",
       "    .dataframe thead th {\n",
       "        text-align: right;\n",
       "    }\n",
       "</style>\n",
       "<table border=\"1\" class=\"dataframe\">\n",
       "  <thead>\n",
       "    <tr style=\"text-align: right;\">\n",
       "      <th></th>\n",
       "      <th>January</th>\n",
       "      <th>February</th>\n",
       "      <th>March</th>\n",
       "      <th>row_totals</th>\n",
       "    </tr>\n",
       "  </thead>\n",
       "  <tbody>\n",
       "    <tr>\n",
       "      <th>paper</th>\n",
       "      <td>25</td>\n",
       "      <td>65</td>\n",
       "      <td>64</td>\n",
       "      <td>154</td>\n",
       "    </tr>\n",
       "    <tr>\n",
       "      <th>cans</th>\n",
       "      <td>50</td>\n",
       "      <td>107</td>\n",
       "      <td>94</td>\n",
       "      <td>251</td>\n",
       "    </tr>\n",
       "    <tr>\n",
       "      <th>glass</th>\n",
       "      <td>8</td>\n",
       "      <td>15</td>\n",
       "      <td>15</td>\n",
       "      <td>38</td>\n",
       "    </tr>\n",
       "    <tr>\n",
       "      <th>others</th>\n",
       "      <td>7</td>\n",
       "      <td>21</td>\n",
       "      <td>32</td>\n",
       "      <td>60</td>\n",
       "    </tr>\n",
       "    <tr>\n",
       "      <th>plastic</th>\n",
       "      <td>96</td>\n",
       "      <td>189</td>\n",
       "      <td>212</td>\n",
       "      <td>497</td>\n",
       "    </tr>\n",
       "    <tr>\n",
       "      <th>col_totals</th>\n",
       "      <td>186</td>\n",
       "      <td>397</td>\n",
       "      <td>417</td>\n",
       "      <td>1000</td>\n",
       "    </tr>\n",
       "  </tbody>\n",
       "</table>\n",
       "</div>"
      ],
      "text/plain": [
       "            January  February  March  row_totals\n",
       "paper            25        65     64         154\n",
       "cans             50       107     94         251\n",
       "glass             8        15     15          38\n",
       "others            7        21     32          60\n",
       "plastic          96       189    212         497\n",
       "col_totals      186       397    417        1000"
      ]
     },
     "execution_count": 20,
     "metadata": {},
     "output_type": "execute_result"
    }
   ],
   "source": [
    "bottles_tab"
   ]
  },
  {
   "cell_type": "code",
   "execution_count": 22,
   "id": "36ebed4e",
   "metadata": {},
   "outputs": [
    {
     "data": {
      "text/html": [
       "<div>\n",
       "<style scoped>\n",
       "    .dataframe tbody tr th:only-of-type {\n",
       "        vertical-align: middle;\n",
       "    }\n",
       "\n",
       "    .dataframe tbody tr th {\n",
       "        vertical-align: top;\n",
       "    }\n",
       "\n",
       "    .dataframe thead th {\n",
       "        text-align: right;\n",
       "    }\n",
       "</style>\n",
       "<table border=\"1\" class=\"dataframe\">\n",
       "  <thead>\n",
       "    <tr style=\"text-align: right;\">\n",
       "      <th></th>\n",
       "      <th>January</th>\n",
       "      <th>February</th>\n",
       "      <th>March</th>\n",
       "    </tr>\n",
       "  </thead>\n",
       "  <tbody>\n",
       "    <tr>\n",
       "      <th>paper</th>\n",
       "      <td>28.644</td>\n",
       "      <td>61.138</td>\n",
       "      <td>64.218</td>\n",
       "    </tr>\n",
       "    <tr>\n",
       "      <th>cans</th>\n",
       "      <td>46.686</td>\n",
       "      <td>99.647</td>\n",
       "      <td>104.667</td>\n",
       "    </tr>\n",
       "    <tr>\n",
       "      <th>glass</th>\n",
       "      <td>7.068</td>\n",
       "      <td>15.086</td>\n",
       "      <td>15.846</td>\n",
       "    </tr>\n",
       "    <tr>\n",
       "      <th>others</th>\n",
       "      <td>11.160</td>\n",
       "      <td>23.820</td>\n",
       "      <td>25.020</td>\n",
       "    </tr>\n",
       "    <tr>\n",
       "      <th>plastic</th>\n",
       "      <td>92.442</td>\n",
       "      <td>197.309</td>\n",
       "      <td>207.249</td>\n",
       "    </tr>\n",
       "  </tbody>\n",
       "</table>\n",
       "</div>"
      ],
      "text/plain": [
       "         January  February    March\n",
       "paper     28.644    61.138   64.218\n",
       "cans      46.686    99.647  104.667\n",
       "glass      7.068    15.086   15.846\n",
       "others    11.160    23.820   25.020\n",
       "plastic   92.442   197.309  207.249"
      ]
     },
     "execution_count": 22,
     "metadata": {},
     "output_type": "execute_result"
    }
   ],
   "source": [
    "expected = np.outer(bottles_tab['row_totals'][0:5], bottles_tab.loc['col_totals'][0:3]) / 1000\n",
    "\n",
    "expected = pd.DataFrame(expected)\n",
    "\n",
    "expected.columns = ['January', 'February', 'March']\n",
    "\n",
    "expected.index = ['paper', 'cans', 'glass', 'others', 'plastic']\n",
    "\n",
    "expected"
   ]
  },
  {
   "cell_type": "code",
   "execution_count": 23,
   "id": "5ec982a0",
   "metadata": {},
   "outputs": [
    {
     "data": {
      "text/plain": [
       "7.169321280162059"
      ]
     },
     "execution_count": 23,
     "metadata": {},
     "output_type": "execute_result"
    }
   ],
   "source": [
    "chi_square_stat = (((observed - expected)**2)/expected).sum().sum()\n",
    "\n",
    "chi_square_stat"
   ]
  },
  {
   "cell_type": "code",
   "execution_count": 25,
   "id": "d36a3a84",
   "metadata": {},
   "outputs": [
    {
     "data": {
      "text/plain": [
       "15.50731305586545"
      ]
     },
     "execution_count": 25,
     "metadata": {},
     "output_type": "execute_result"
    }
   ],
   "source": [
    "critical_value = stats.chi2.ppf(q=0.95, df=8)\n",
    "\n",
    "critical_value"
   ]
  },
  {
   "cell_type": "code",
   "execution_count": 27,
   "id": "12fe29a0",
   "metadata": {},
   "outputs": [
    {
     "data": {
      "text/plain": [
       "0.518479392948842"
      ]
     },
     "execution_count": 27,
     "metadata": {},
     "output_type": "execute_result"
    }
   ],
   "source": [
    "p_value = 1 - stats.chi2.cdf(x=chi_square_stat, df=8)\n",
    "\n",
    "p_value"
   ]
  },
  {
   "cell_type": "code",
   "execution_count": null,
   "id": "6de3f9a9",
   "metadata": {},
   "outputs": [],
   "source": [
    "5x3 -> 4x2 -> 8"
   ]
  }
 ],
 "metadata": {
  "kernelspec": {
   "display_name": "Python 3 (ipykernel)",
   "language": "python",
   "name": "python3"
  },
  "language_info": {
   "codemirror_mode": {
    "name": "ipython",
    "version": 3
   },
   "file_extension": ".py",
   "mimetype": "text/x-python",
   "name": "python",
   "nbconvert_exporter": "python",
   "pygments_lexer": "ipython3",
   "version": "3.9.12"
  }
 },
 "nbformat": 4,
 "nbformat_minor": 5
}
