{
 "cells": [
  {
   "cell_type": "markdown",
   "id": "6dd302a6",
   "metadata": {},
   "source": [
    "# For Leaders"
   ]
  },
  {
   "cell_type": "code",
   "execution_count": null,
   "id": "2397bc6c",
   "metadata": {},
   "outputs": [],
   "source": [
    "- gradient\n",
    "- tensor\n",
    "- jacobian matrix\n",
    "- curse of dimensionality"
   ]
  },
  {
   "cell_type": "markdown",
   "id": "0189191c",
   "metadata": {},
   "source": [
    "## What it is?"
   ]
  },
  {
   "cell_type": "code",
   "execution_count": null,
   "id": "0b3d0d5c",
   "metadata": {},
   "outputs": [],
   "source": [
    "- gradient(slope) -> vectors that represents the rate of change of a function wrt parameters f(x) = g(x,e(y))\n",
    "- optimization\n",
    "\n",
    "- gradient descent (optimization alogrithm)\n",
    "- neurals networks -> epoch (forward and backpropagation(loss function))\n",
    "- recommendation system -> e-commerce\n",
    "- training a model -> NLP(chatbot), \n",
    "\n",
    "algorithms used for optimization\n",
    "- mini-batch gradient descent\n",
    "- adagrad\n",
    "- adam - adaptive moment estimation\n",
    "\n"
   ]
  },
  {
   "cell_type": "markdown",
   "id": "81a50ed2",
   "metadata": {},
   "source": [
    "### gradient\n",
    "\n",
    "<img src=\"t2.png\" />"
   ]
  },
  {
   "cell_type": "code",
   "execution_count": null,
   "id": "6a900e36",
   "metadata": {},
   "outputs": [],
   "source": [
    ".       0th d\n",
    "\n",
    "._____. 1st d\n",
    "\n",
    ".___|___.  2D\n",
    "\n",
    ".___|___.  3d\n",
    "   /"
   ]
  },
  {
   "cell_type": "markdown",
   "id": "c6258ae9",
   "metadata": {},
   "source": [
    "### tensors\n",
    "\n",
    "<img src=\"t1.png\" />"
   ]
  },
  {
   "cell_type": "code",
   "execution_count": 2,
   "id": "6c3d1f52",
   "metadata": {},
   "outputs": [],
   "source": [
    "tensors are multi-dimensional arrays, that can hold data of different types.\n",
    "\n",
    "- data represtation\n",
    "- best compatible with GPUs\n",
    "- efficent processing\n",
    "\n",
    "- neural networks - storing information like - weights and biases, gradients\n",
    "- CNN - use tensors for filters, detecting patterns in image\n",
    "\n",
    "- tensorflow and pytorch\n",
    "- efficiency and scalability\n",
    "\n",
    "\n",
    "- converting english words into numbers -> word embeddings (text to numerical tensors)"
   ]
  },
  {
   "cell_type": "markdown",
   "id": "49a7e7ba",
   "metadata": {},
   "source": [
    "### jacobian matrix\n",
    "\n",
    "<img src=\"t3.png\" />\n",
    "\n",
    "<br> \n",
    "\n",
    "<img src=\"t4.png\" />\n"
   ]
  },
  {
   "cell_type": "code",
   "execution_count": null,
   "id": "c966355e",
   "metadata": {},
   "outputs": [],
   "source": [
    "- jacobian matrix -> is there any change in output if we change a small part in the input\n",
    "\n",
    "- optimization\n",
    "- sensitivity analysis -> weather forecasting (for, if the predictions are reliable or not)\n",
    "\n"
   ]
  },
  {
   "cell_type": "markdown",
   "id": "028aff7f",
   "metadata": {},
   "source": [
    "## What are the real world examples?"
   ]
  },
  {
   "cell_type": "code",
   "execution_count": null,
   "id": "032f95cb",
   "metadata": {},
   "outputs": [],
   "source": [
    "curse of dimesionality -> \n",
    "                             threshold\n",
    "accuracy                    inc     dec\n",
    "models -> m1     m2    m3    m4  |   m5     m6\n",
    "features  2      5     10    15     100    1000\n",
    "\n",
    "\n",
    "- feature selection and dimensionality reduction(PCA)\n",
    "- clustering -> k-means (affected by curse of dim.) "
   ]
  },
  {
   "cell_type": "markdown",
   "id": "da993828",
   "metadata": {},
   "source": [
    "## What are the ML algorithms using that concept?"
   ]
  },
  {
   "cell_type": "code",
   "execution_count": null,
   "id": "570454e7",
   "metadata": {},
   "outputs": [],
   "source": []
  },
  {
   "cell_type": "markdown",
   "id": "08834a2e",
   "metadata": {},
   "source": [
    "## When to use those algorithms?"
   ]
  },
  {
   "cell_type": "code",
   "execution_count": null,
   "id": "1a56ec6d",
   "metadata": {},
   "outputs": [],
   "source": []
  },
  {
   "cell_type": "markdown",
   "id": "0bbe4a12",
   "metadata": {},
   "source": [
    "# For Engineers"
   ]
  },
  {
   "cell_type": "code",
   "execution_count": null,
   "id": "ded20a44",
   "metadata": {},
   "outputs": [],
   "source": []
  },
  {
   "cell_type": "code",
   "execution_count": null,
   "id": "b1a8de8b",
   "metadata": {},
   "outputs": [],
   "source": []
  },
  {
   "cell_type": "markdown",
   "id": "0e40d3ae",
   "metadata": {},
   "source": [
    "## Project Example with data \n",
    "#### (if possible as per the topic)"
   ]
  },
  {
   "cell_type": "code",
   "execution_count": null,
   "id": "b9c0b988",
   "metadata": {},
   "outputs": [],
   "source": []
  },
  {
   "cell_type": "code",
   "execution_count": null,
   "id": "d8542298",
   "metadata": {},
   "outputs": [],
   "source": []
  },
  {
   "cell_type": "code",
   "execution_count": null,
   "id": "0814c6f7",
   "metadata": {},
   "outputs": [],
   "source": []
  }
 ],
 "metadata": {
  "kernelspec": {
   "display_name": "Python 3 (ipykernel)",
   "language": "python",
   "name": "python3"
  },
  "language_info": {
   "codemirror_mode": {
    "name": "ipython",
    "version": 3
   },
   "file_extension": ".py",
   "mimetype": "text/x-python",
   "name": "python",
   "nbconvert_exporter": "python",
   "pygments_lexer": "ipython3",
   "version": "3.9.12"
  }
 },
 "nbformat": 4,
 "nbformat_minor": 5
}
