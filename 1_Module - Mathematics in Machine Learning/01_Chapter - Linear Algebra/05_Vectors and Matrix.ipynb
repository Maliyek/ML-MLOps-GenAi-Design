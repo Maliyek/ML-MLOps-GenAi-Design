{
 "cells": [
  {
   "cell_type": "markdown",
   "id": "ede6deda",
   "metadata": {},
   "source": [
    "# Vectors\n",
    "\n",
    "### 1 - Dot product\n",
    "\n",
    "- similarity calculations \n",
    "\n",
    "-> text analysis\n",
    "\n",
    "-> search engines -> semantic seaerch (search on the basis of context rather than keyword only)\n",
    "\n",
    "-> palgiarism detectors"
   ]
  },
  {
   "cell_type": "code",
   "execution_count": 1,
   "id": "59ce12b5",
   "metadata": {},
   "outputs": [
    {
     "name": "stdout",
     "output_type": "stream",
     "text": [
      "32\n"
     ]
    }
   ],
   "source": [
    "import numpy as np\n",
    "\n",
    "v = np.array([1,2,3])\n",
    "u = np.array([4,5,6])\n",
    "\n",
    "print(np.dot(v,u))"
   ]
  },
  {
   "cell_type": "markdown",
   "id": "5e8c725d",
   "metadata": {},
   "source": [
    "## 2 - Vector Addition\n",
    "\n",
    "- aggregation\n",
    "\n",
    "-> sentiment analysis - individual sentiment score(vectors) and can add to determine the overall sentiment of the text\n",
    "\"your t-shirt is looking killer\"\n",
    "\n"
   ]
  },
  {
   "cell_type": "code",
   "execution_count": null,
   "id": "8308a544",
   "metadata": {},
   "outputs": [],
   "source": [
    "# ASCII\n",
    "\n",
    "A -> 65/2 -> binary \n",
    "B -> 66\n",
    "Z -> 90"
   ]
  },
  {
   "cell_type": "code",
   "execution_count": 3,
   "id": "37c8ca79",
   "metadata": {},
   "outputs": [
    {
     "name": "stdout",
     "output_type": "stream",
     "text": [
      "[5 7 9]\n"
     ]
    }
   ],
   "source": [
    "w = v + u\n",
    "print(w)"
   ]
  },
  {
   "cell_type": "markdown",
   "id": "c724ee5f",
   "metadata": {},
   "source": [
    "## 3 - Element wise multiplication(Hadamard Product)\n",
    "\n",
    "- Optimization - stock portfolio - investment strategy\n",
    "\n",
    "-> performance of a portfolio\n",
    "\n",
    "v -> asset return\n",
    "\n",
    "u -> weights\n",
    "\n"
   ]
  },
  {
   "cell_type": "code",
   "execution_count": 4,
   "id": "066f9817",
   "metadata": {},
   "outputs": [
    {
     "name": "stdout",
     "output_type": "stream",
     "text": [
      "[ 4 10 18]\n"
     ]
    }
   ],
   "source": [
    "w = v * u\n",
    "\n",
    "print(w)"
   ]
  },
  {
   "cell_type": "markdown",
   "id": "4667a35c",
   "metadata": {},
   "source": [
    "## 4 - Vector Norm(L2 Norm)\n",
    "\n",
    "- image quality\n",
    "\n",
    "- l2 normalization is difference between reference and distorted vectors\n",
    "\n",
    "- medical imaging, content delivery platforms"
   ]
  },
  {
   "cell_type": "code",
   "execution_count": 5,
   "id": "abd29ea1",
   "metadata": {},
   "outputs": [
    {
     "name": "stdout",
     "output_type": "stream",
     "text": [
      "3.7416573867739413\n"
     ]
    }
   ],
   "source": [
    "l2 = np.linalg.norm(v)\n",
    "\n",
    "print(l2)"
   ]
  },
  {
   "cell_type": "markdown",
   "id": "2e214853",
   "metadata": {},
   "source": [
    "## 5 - Transposition\n",
    "\n",
    "- customer segmentation - preferences or behaviours\n",
    "\n",
    "- flipping an image"
   ]
  },
  {
   "cell_type": "code",
   "execution_count": 6,
   "id": "c509128e",
   "metadata": {},
   "outputs": [
    {
     "name": "stdout",
     "output_type": "stream",
     "text": [
      "[1 2 3]\n"
     ]
    }
   ],
   "source": [
    "print(v.T)"
   ]
  },
  {
   "cell_type": "markdown",
   "id": "141c9580",
   "metadata": {},
   "source": [
    "## 6 - Vector concatenation\n",
    "\n",
    "- user profile enrichment -> personalized the experience"
   ]
  },
  {
   "cell_type": "code",
   "execution_count": 8,
   "id": "f57beff9",
   "metadata": {},
   "outputs": [
    {
     "name": "stdout",
     "output_type": "stream",
     "text": [
      "[1 2 3 4 5 6]\n"
     ]
    }
   ],
   "source": [
    "w = np.concatenate((v,u))\n",
    "\n",
    "print(w)"
   ]
  },
  {
   "cell_type": "markdown",
   "id": "4d4e3c4e",
   "metadata": {},
   "source": [
    "## 7 - Cross product\n",
    "\n",
    "- 3D graphics and simulation\n",
    "\n",
    "- it is used in physics simulations to calculate normal vectors\n",
    "\n",
    "- rendering realistic 3D scenes"
   ]
  },
  {
   "cell_type": "code",
   "execution_count": 9,
   "id": "095d50fd",
   "metadata": {},
   "outputs": [
    {
     "name": "stdout",
     "output_type": "stream",
     "text": [
      "[-3  6 -3]\n"
     ]
    }
   ],
   "source": [
    "w = np.cross(v,u)\n",
    "\n",
    "print(w)"
   ]
  },
  {
   "cell_type": "markdown",
   "id": "721c4cf2",
   "metadata": {},
   "source": [
    "# Matrix\n",
    "\n",
    "## 1 - Matrix Multiplication(dot product)\n",
    "\n",
    "- image processing\n",
    "\n",
    "- CNN - Convolutional Neural Network - feature map(image matix * filter matrix)\n",
    "\n",
    "- to extract features from an image"
   ]
  },
  {
   "cell_type": "code",
   "execution_count": 10,
   "id": "019e2121",
   "metadata": {},
   "outputs": [
    {
     "name": "stdout",
     "output_type": "stream",
     "text": [
      "[[ 30  36  42]\n",
      " [ 66  81  96]\n",
      " [102 126 150]]\n"
     ]
    }
   ],
   "source": [
    "matrix1 = np.array([[1,2,3],[4,5,6],[7,8,9]])\n",
    "matrix2 = np.array([[1,2,3],[4,5,6],[7,8,9]])\n",
    "\n",
    "print(np.dot(matrix1, matrix2))"
   ]
  },
  {
   "cell_type": "markdown",
   "id": "4eb76952",
   "metadata": {},
   "source": [
    "## 2 - Matrix Inversion\n",
    "\n",
    "- find the optimal coefficient for the regression model\n",
    "\n",
    "- minimizing the sum of squared errors"
   ]
  },
  {
   "cell_type": "code",
   "execution_count": null,
   "id": "8b0d4b2f",
   "metadata": {},
   "outputs": [],
   "source": [
    "y = mx + c\n",
    "\n",
    "y = m1x1 + m2x2 + m3x3 + c + e"
   ]
  },
  {
   "cell_type": "code",
   "execution_count": 11,
   "id": "32736cd6",
   "metadata": {},
   "outputs": [
    {
     "name": "stdout",
     "output_type": "stream",
     "text": [
      "[[ 3.15251974e+15 -6.30503948e+15  3.15251974e+15]\n",
      " [-6.30503948e+15  1.26100790e+16 -6.30503948e+15]\n",
      " [ 3.15251974e+15 -6.30503948e+15  3.15251974e+15]]\n"
     ]
    }
   ],
   "source": [
    "print(np.linalg.inv(matrix1))"
   ]
  },
  {
   "cell_type": "markdown",
   "id": "2c0739e9",
   "metadata": {},
   "source": [
    "## 3 - Singular Value Decomposition(SVD)\n",
    "\n",
    "- recommendation systems\n",
    "\n",
    "- matrix factorization -> factors in user-item interaction - improve quality of our recommendation\n",
    "\n",
    "- how the inverse helping in the recommnedation quality"
   ]
  },
  {
   "cell_type": "code",
   "execution_count": 12,
   "id": "b977176b",
   "metadata": {},
   "outputs": [
    {
     "name": "stdout",
     "output_type": "stream",
     "text": [
      "(array([[-0.21483724,  0.88723069,  0.40824829],\n",
      "       [-0.52058739,  0.24964395, -0.81649658],\n",
      "       [-0.82633754, -0.38794278,  0.40824829]]), array([1.68481034e+01, 1.06836951e+00, 1.40266540e-16]), array([[-0.47967118, -0.57236779, -0.66506441],\n",
      "       [-0.77669099, -0.07568647,  0.62531805],\n",
      "       [ 0.40824829, -0.81649658,  0.40824829]]))\n"
     ]
    }
   ],
   "source": [
    "print(np.linalg.svd(matrix1))"
   ]
  },
  {
   "cell_type": "markdown",
   "id": "b9fe7b69",
   "metadata": {},
   "source": [
    "## 4 - Addition of Matrix\n",
    "\n",
    "- nlp - combine word embeddings to represent sentences or docs as vectors"
   ]
  },
  {
   "cell_type": "code",
   "execution_count": 13,
   "id": "c12da2d8",
   "metadata": {},
   "outputs": [
    {
     "name": "stdout",
     "output_type": "stream",
     "text": [
      "[[ 2  4  6]\n",
      " [ 8 10 12]\n",
      " [14 16 18]]\n"
     ]
    }
   ],
   "source": [
    "print(matrix1 + matrix2)"
   ]
  },
  {
   "cell_type": "markdown",
   "id": "cd7c24e2",
   "metadata": {},
   "source": [
    "## 5 - Covariance Matrix\n",
    "\n",
    "- EDA - relationship between diffrent features"
   ]
  },
  {
   "cell_type": "code",
   "execution_count": 14,
   "id": "2820906c",
   "metadata": {},
   "outputs": [
    {
     "name": "stdout",
     "output_type": "stream",
     "text": [
      "[[1. 1. 1.]\n",
      " [1. 1. 1.]\n",
      " [1. 1. 1.]]\n"
     ]
    }
   ],
   "source": [
    "print(np.cov(matrix1))"
   ]
  },
  {
   "cell_type": "markdown",
   "id": "e24bb0f8",
   "metadata": {},
   "source": [
    "## 6 - Determinent\n",
    "\n",
    "- use this to check if there is multicollinearity between features in regression model"
   ]
  },
  {
   "cell_type": "code",
   "execution_count": 15,
   "id": "06e18e81",
   "metadata": {
    "scrolled": true
   },
   "outputs": [
    {
     "name": "stdout",
     "output_type": "stream",
     "text": [
      "-9.51619735392994e-16\n"
     ]
    }
   ],
   "source": [
    "print(np.linalg.det(matrix1))"
   ]
  },
  {
   "cell_type": "markdown",
   "id": "aa702cea",
   "metadata": {},
   "source": [
    "# 7 - Rank\n",
    "\n",
    "- help us indentify- linearly dependent features"
   ]
  },
  {
   "cell_type": "code",
   "execution_count": 16,
   "id": "54085828",
   "metadata": {},
   "outputs": [
    {
     "name": "stdout",
     "output_type": "stream",
     "text": [
      "2\n"
     ]
    }
   ],
   "source": [
    "print(np.linalg.matrix_rank(matrix1))"
   ]
  },
  {
   "cell_type": "markdown",
   "id": "2b576a1b",
   "metadata": {},
   "source": [
    "# Interview Questions"
   ]
  },
  {
   "cell_type": "code",
   "execution_count": null,
   "id": "b6782d6f",
   "metadata": {},
   "outputs": [],
   "source": [
    "# 1. Whats the difference between vectors and matrix?\n",
    "\n",
    "# - vectors - 1-d array - represent a point or a quantity with both magnitude and direction\n",
    "\n",
    "# - matrix - 2-d array - represents a collection of data."
   ]
  },
  {
   "cell_type": "code",
   "execution_count": null,
   "id": "4370364a",
   "metadata": {},
   "outputs": [],
   "source": [
    "# 2 - What is the importance of matrix multiplication in ML?\n",
    "\n",
    "# - linear transformations, feature transformation, updating a parameter in neural networks\n",
    "\n",
    "# modeling relationship in data"
   ]
  },
  {
   "cell_type": "code",
   "execution_count": null,
   "id": "fab7fcc3",
   "metadata": {},
   "outputs": [],
   "source": [
    "# 3 - Concept of transposition\n",
    "\n",
    "# switching rows and columns wrt pricipal diagonal\n",
    "# flipping an image\n",
    "# customer segmentation"
   ]
  },
  {
   "cell_type": "code",
   "execution_count": null,
   "id": "3a813b00",
   "metadata": {},
   "outputs": [],
   "source": [
    "# 4 - What is a determinent\n",
    "\n",
    "# reperents a scaling factor\n",
    "# check multicollineaerity in the data"
   ]
  },
  {
   "cell_type": "code",
   "execution_count": null,
   "id": "e2c7c72c",
   "metadata": {},
   "outputs": [],
   "source": [
    "# 5 - how matrix factorization is used in recommendation system.\n",
    "\n",
    "# user-item interation \n",
    "# to predict user preferences and suggest items better"
   ]
  },
  {
   "cell_type": "code",
   "execution_count": null,
   "id": "e7e68c63",
   "metadata": {},
   "outputs": [],
   "source": []
  },
  {
   "cell_type": "code",
   "execution_count": null,
   "id": "9bd63f2b",
   "metadata": {},
   "outputs": [],
   "source": []
  }
 ],
 "metadata": {
  "kernelspec": {
   "display_name": "Python 3 (ipykernel)",
   "language": "python",
   "name": "python3"
  },
  "language_info": {
   "codemirror_mode": {
    "name": "ipython",
    "version": 3
   },
   "file_extension": ".py",
   "mimetype": "text/x-python",
   "name": "python",
   "nbconvert_exporter": "python",
   "pygments_lexer": "ipython3",
   "version": "3.9.12"
  }
 },
 "nbformat": 4,
 "nbformat_minor": 5
}
