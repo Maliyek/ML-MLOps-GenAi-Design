{
 "cells": [
  {
   "cell_type": "code",
   "execution_count": null,
   "id": "528cc061",
   "metadata": {},
   "outputs": [],
   "source": [
    "bits < numbers < characters < instructions < functions < classes < module < package < libraies < frameworks < software "
   ]
  },
  {
   "cell_type": "code",
   "execution_count": null,
   "id": "86498c9f",
   "metadata": {},
   "outputs": [],
   "source": [
    "               compile                run\n",
    "source code   -------->  byte code --------->   output\n",
    "    .c                     .bak                  .exe\n",
    "    .cpp                   .obj\n",
    "    .java                  .javac\n",
    "    .py                    .pyc"
   ]
  },
  {
   "cell_type": "code",
   "execution_count": 1,
   "id": "bfd91ca3",
   "metadata": {},
   "outputs": [],
   "source": [
    "import math"
   ]
  },
  {
   "cell_type": "code",
   "execution_count": 3,
   "id": "a20bcc3e",
   "metadata": {},
   "outputs": [
    {
     "name": "stdout",
     "output_type": "stream",
     "text": [
      "3.141592653589793\n"
     ]
    }
   ],
   "source": [
    "print(math.pi)"
   ]
  },
  {
   "cell_type": "code",
   "execution_count": null,
   "id": "f1e0a187",
   "metadata": {},
   "outputs": [],
   "source": []
  }
 ],
 "metadata": {
  "kernelspec": {
   "display_name": "Python 3 (ipykernel)",
   "language": "python",
   "name": "python3"
  },
  "language_info": {
   "codemirror_mode": {
    "name": "ipython",
    "version": 3
   },
   "file_extension": ".py",
   "mimetype": "text/x-python",
   "name": "python",
   "nbconvert_exporter": "python",
   "pygments_lexer": "ipython3",
   "version": "3.9.12"
  }
 },
 "nbformat": 4,
 "nbformat_minor": 5
}
