{
 "cells": [
  {
   "cell_type": "markdown",
   "id": "c339c7a2",
   "metadata": {},
   "source": [
    "# Day 2 - Tuesday\n",
    "\n",
    "- While Loops\n",
    "- Logic Building\n",
    "- Practice Questions"
   ]
  },
  {
   "cell_type": "markdown",
   "id": "18efe98e",
   "metadata": {},
   "source": [
    "# While Loop"
   ]
  },
  {
   "cell_type": "code",
   "execution_count": 2,
   "id": "feed52df",
   "metadata": {},
   "outputs": [
    {
     "name": "stdout",
     "output_type": "stream",
     "text": [
      "Himanshu\n"
     ]
    }
   ],
   "source": [
    "print(\"Himanshu\")"
   ]
  },
  {
   "cell_type": "code",
   "execution_count": null,
   "id": "2423e88a",
   "metadata": {},
   "outputs": [],
   "source": [
    "i += 1 #  i = i + 1"
   ]
  },
  {
   "cell_type": "code",
   "execution_count": 3,
   "id": "255da5ce",
   "metadata": {},
   "outputs": [
    {
     "name": "stdout",
     "output_type": "stream",
     "text": [
      "Himanshu\n",
      "Himanshu\n",
      "Himanshu\n",
      "Himanshu\n",
      "Himanshu\n",
      "Himanshu\n",
      "Himanshu\n",
      "Himanshu\n",
      "Himanshu\n",
      "Himanshu\n"
     ]
    }
   ],
   "source": [
    "i = 1\n",
    "\n",
    "while i <= 10:\n",
    "    print(\"Himanshu\")\n",
    "    i += 1"
   ]
  },
  {
   "cell_type": "code",
   "execution_count": 4,
   "id": "7c4be1b7",
   "metadata": {},
   "outputs": [
    {
     "name": "stdout",
     "output_type": "stream",
     "text": [
      "1\n",
      "2\n",
      "3\n",
      "4\n",
      "5\n",
      "6\n",
      "7\n",
      "8\n",
      "9\n",
      "10\n"
     ]
    }
   ],
   "source": [
    "i = 1\n",
    "\n",
    "while i <= 10:\n",
    "    print(i)\n",
    "    i += 1"
   ]
  },
  {
   "cell_type": "code",
   "execution_count": 6,
   "id": "c0ca60e9",
   "metadata": {},
   "outputs": [
    {
     "name": "stdout",
     "output_type": "stream",
     "text": [
      "Hello\n",
      "Everyone\n"
     ]
    }
   ],
   "source": [
    "print(\"Hello\", end='\\n')         # \"Hello\\n\"\n",
    "print(\"Everyone\")"
   ]
  },
  {
   "cell_type": "code",
   "execution_count": 7,
   "id": "10c6d654",
   "metadata": {},
   "outputs": [
    {
     "name": "stdout",
     "output_type": "stream",
     "text": [
      "Hello Everyone\n"
     ]
    }
   ],
   "source": [
    "print(\"Hello\", end=' ')\n",
    "print(\"Everyone\")"
   ]
  },
  {
   "cell_type": "code",
   "execution_count": 8,
   "id": "1edfd1ed",
   "metadata": {},
   "outputs": [
    {
     "name": "stdout",
     "output_type": "stream",
     "text": [
      "Hello+Everyone\n"
     ]
    }
   ],
   "source": [
    "print(\"Hello\", end='+')\n",
    "print(\"Everyone\")"
   ]
  },
  {
   "cell_type": "code",
   "execution_count": 9,
   "id": "7ab5b2cc",
   "metadata": {},
   "outputs": [
    {
     "name": "stdout",
     "output_type": "stream",
     "text": [
      "<class 'str'>\n"
     ]
    }
   ],
   "source": [
    "s = ''\n",
    "print(type(s))"
   ]
  },
  {
   "cell_type": "code",
   "execution_count": 10,
   "id": "f214262d",
   "metadata": {},
   "outputs": [
    {
     "name": "stdout",
     "output_type": "stream",
     "text": [
      "HelloEveryone\n"
     ]
    }
   ],
   "source": [
    "print(\"Hello\", end='')        # empty string\n",
    "print(\"Everyone\")"
   ]
  },
  {
   "cell_type": "markdown",
   "id": "91b18b1a",
   "metadata": {},
   "source": [
    "# print the following series"
   ]
  },
  {
   "cell_type": "code",
   "execution_count": null,
   "id": "787638a9",
   "metadata": {},
   "outputs": [],
   "source": [
    "1 2 3 4 5 6 7 8 9 10"
   ]
  },
  {
   "cell_type": "code",
   "execution_count": 11,
   "id": "400012b8",
   "metadata": {},
   "outputs": [
    {
     "name": "stdout",
     "output_type": "stream",
     "text": [
      "1  2  3  4  5  6  7  8  9  10  "
     ]
    }
   ],
   "source": [
    "i = 1\n",
    "\n",
    "while i <= 10:\n",
    "    print(i, end='  ')\n",
    "    i += 1"
   ]
  },
  {
   "cell_type": "code",
   "execution_count": 12,
   "id": "c9af7a87",
   "metadata": {},
   "outputs": [
    {
     "name": "stdout",
     "output_type": "stream",
     "text": [
      "3\n",
      "1\n"
     ]
    }
   ],
   "source": [
    "i = 1\n",
    "\n",
    "print(i + 2)\n",
    "\n",
    "print(i)"
   ]
  },
  {
   "cell_type": "code",
   "execution_count": null,
   "id": "8d96fe70",
   "metadata": {},
   "outputs": [],
   "source": [
    "1  4  9  16  25  36  49  64  81  100"
   ]
  },
  {
   "cell_type": "code",
   "execution_count": 13,
   "id": "f1204c73",
   "metadata": {},
   "outputs": [
    {
     "name": "stdout",
     "output_type": "stream",
     "text": [
      "1  4  9  16  25  36  49  64  81  100  "
     ]
    }
   ],
   "source": [
    "i = 1\n",
    "\n",
    "while i <= 10:\n",
    "    print(i*i, end='  ')\n",
    "    i += 1"
   ]
  },
  {
   "cell_type": "code",
   "execution_count": null,
   "id": "8d3cc8f4",
   "metadata": {},
   "outputs": [],
   "source": [
    "1+2+3+4+5+6+7+8+9+10"
   ]
  },
  {
   "cell_type": "code",
   "execution_count": 14,
   "id": "46d7d826",
   "metadata": {},
   "outputs": [
    {
     "name": "stdout",
     "output_type": "stream",
     "text": [
      "1+2+3+4+5+6+7+8+9+10+"
     ]
    }
   ],
   "source": [
    "i = 1\n",
    "\n",
    "while i <= 10:\n",
    "    print(i, end='+')\n",
    "    i += 1"
   ]
  },
  {
   "cell_type": "code",
   "execution_count": 15,
   "id": "a860e98e",
   "metadata": {},
   "outputs": [
    {
     "name": "stdout",
     "output_type": "stream",
     "text": [
      "1+2+3+4+5+6+7+8+9+10\n"
     ]
    }
   ],
   "source": [
    "i = 1\n",
    "\n",
    "while i <= 10:\n",
    "    if i < 10:\n",
    "        print(i, end='+')\n",
    "    else:\n",
    "        print(i)\n",
    "    i += 1"
   ]
  },
  {
   "cell_type": "markdown",
   "id": "5d81da7e",
   "metadata": {},
   "source": [
    "**Write a program to get a number from user and print reverse of it**"
   ]
  },
  {
   "cell_type": "code",
   "execution_count": null,
   "id": "2ee99469",
   "metadata": {},
   "outputs": [],
   "source": [
    "153\n",
    "\n",
    "351"
   ]
  },
  {
   "cell_type": "code",
   "execution_count": null,
   "id": "f81fa154",
   "metadata": {},
   "outputs": [],
   "source": [
    "153 % 10  = 3\n",
    "153 // 10 = 15\n",
    "\n",
    "15 % 10 = 5\n",
    "15 // 10 = 1\n",
    "\n",
    "1 % 10  = 1\n",
    "1 // 10 = 0"
   ]
  },
  {
   "cell_type": "code",
   "execution_count": null,
   "id": "e2a6633a",
   "metadata": {},
   "outputs": [],
   "source": [
    "a % b = c"
   ]
  },
  {
   "cell_type": "code",
   "execution_count": 16,
   "id": "b108fdc6",
   "metadata": {},
   "outputs": [
    {
     "name": "stdout",
     "output_type": "stream",
     "text": [
      "Enter a number: 153\n",
      "351"
     ]
    }
   ],
   "source": [
    "n = int(input(\"Enter a number: \"))\n",
    "\n",
    "while n > 0:\n",
    "    r = n % 10\n",
    "    print(r, end='')\n",
    "    n = n // 10"
   ]
  },
  {
   "cell_type": "markdown",
   "id": "54b8648c",
   "metadata": {},
   "source": [
    "**WAP to enter a number from user and print sum of its individual digits**"
   ]
  },
  {
   "cell_type": "code",
   "execution_count": null,
   "id": "6213f2cb",
   "metadata": {},
   "outputs": [],
   "source": [
    "153\n",
    "\n",
    "0 + 3 \n",
    "s + 3\n",
    "  s + 5\n",
    "    s + 1\n",
    "      s\n",
    "\n",
    "9"
   ]
  },
  {
   "cell_type": "code",
   "execution_count": 19,
   "id": "a19ae0cd",
   "metadata": {},
   "outputs": [
    {
     "name": "stdout",
     "output_type": "stream",
     "text": [
      "Enter a number: 145678\n",
      "Sum = 31\n"
     ]
    }
   ],
   "source": [
    "n = int(input(\"Enter a number: \"))\n",
    "s = 0\n",
    "\n",
    "while n > 0:\n",
    "    r = n % 10\n",
    "    s = s + r          # s = 0, 3, 8, 9\n",
    "    n = n // 10\n",
    "\n",
    "print(\"Sum =\", s)"
   ]
  },
  {
   "cell_type": "markdown",
   "id": "d3d4f0eb",
   "metadata": {},
   "source": [
    "# break statement"
   ]
  },
  {
   "cell_type": "code",
   "execution_count": 20,
   "id": "f22584b7",
   "metadata": {},
   "outputs": [
    {
     "name": "stdout",
     "output_type": "stream",
     "text": [
      "1\n",
      "2\n",
      "3\n",
      "4\n",
      "Hi\n"
     ]
    }
   ],
   "source": [
    "i = 1\n",
    "\n",
    "while i <= 10:\n",
    "    if i == 5:\n",
    "        print(\"Hi\")\n",
    "        break\n",
    "    print(i)\n",
    "    i += 1\n"
   ]
  },
  {
   "cell_type": "markdown",
   "id": "f94600ed",
   "metadata": {},
   "source": [
    "# continue statement"
   ]
  },
  {
   "cell_type": "code",
   "execution_count": 21,
   "id": "791ea027",
   "metadata": {},
   "outputs": [
    {
     "name": "stdout",
     "output_type": "stream",
     "text": [
      "1\n",
      "3\n",
      "5\n",
      "7\n",
      "9\n",
      "11\n"
     ]
    }
   ],
   "source": [
    "i = 0\n",
    "\n",
    "while i <= 10:\n",
    "    i += 1\n",
    "    if i%2 == 0:\n",
    "        continue\n",
    "    else:\n",
    "        print(i)"
   ]
  },
  {
   "cell_type": "code",
   "execution_count": 22,
   "id": "94d7bf32",
   "metadata": {},
   "outputs": [
    {
     "name": "stdout",
     "output_type": "stream",
     "text": [
      "1\n",
      "3\n",
      "5\n",
      "7\n",
      "9\n"
     ]
    }
   ],
   "source": [
    "i = 0\n",
    "\n",
    "while i <= 9:\n",
    "    i += 1\n",
    "    if i%2 == 0:\n",
    "        continue\n",
    "    else:\n",
    "        print(i)"
   ]
  },
  {
   "cell_type": "markdown",
   "id": "5c7533b9",
   "metadata": {},
   "source": [
    "**reverse of a number again**"
   ]
  },
  {
   "cell_type": "code",
   "execution_count": 23,
   "id": "e9076df7",
   "metadata": {},
   "outputs": [
    {
     "name": "stdout",
     "output_type": "stream",
     "text": [
      "Enter a number: 153\n",
      "Reverse = 351\n",
      "702\n"
     ]
    }
   ],
   "source": [
    "n = int(input(\"Enter a number: \"))\n",
    "s = 0\n",
    "\n",
    "while n > 0:\n",
    "    r = n % 10\n",
    "    s = s * 10 + r        # s = 0, 3, 35, 351\n",
    "    n = n // 10\n",
    "\n",
    "print(\"Reverse =\", s)\n",
    "print(s * 2)"
   ]
  },
  {
   "cell_type": "markdown",
   "id": "06ebdeea",
   "metadata": {},
   "source": [
    "**WAP to enter a number from user and check if it is palindrome or not**"
   ]
  },
  {
   "cell_type": "code",
   "execution_count": null,
   "id": "60b927a2",
   "metadata": {},
   "outputs": [],
   "source": [
    "153 => 351 -> not a palindrome number\n",
    "\n",
    "121 => 121 -> palindrome number"
   ]
  },
  {
   "cell_type": "code",
   "execution_count": 25,
   "id": "c13aceb8",
   "metadata": {},
   "outputs": [
    {
     "name": "stdout",
     "output_type": "stream",
     "text": [
      "Enter a number: 121\n",
      "Not a Palindrome\n"
     ]
    }
   ],
   "source": [
    "n = int(input(\"Enter a number: \"))\n",
    "s = 0\n",
    "\n",
    "while n > 0:\n",
    "    r = n % 10\n",
    "    s = s * 10 + r        # s = 0, 3, 35, 351\n",
    "    n = n // 10\n",
    "\n",
    "if s == n:\n",
    "    print(\"Palindrome\")\n",
    "else:\n",
    "    print(\"Not a Palindrome\")"
   ]
  },
  {
   "cell_type": "code",
   "execution_count": 27,
   "id": "b52ea4c0",
   "metadata": {},
   "outputs": [
    {
     "name": "stdout",
     "output_type": "stream",
     "text": [
      "Enter a number: 121\n",
      "Palindrome\n"
     ]
    }
   ],
   "source": [
    "n = int(input(\"Enter a number: \"))\n",
    "t = n\n",
    "s = 0\n",
    "\n",
    "while n > 0:\n",
    "    r = n % 10\n",
    "    s = s * 10 + r        # s = 0, 3, 35, 351\n",
    "    n = n // 10\n",
    "\n",
    "if s == t:\n",
    "    print(\"Palindrome\")\n",
    "else:\n",
    "    print(\"Not a Palindrome\")"
   ]
  },
  {
   "cell_type": "markdown",
   "id": "a7a00544",
   "metadata": {},
   "source": [
    "**WAP to enter a number from user and check if it is an armstrong number or not**"
   ]
  },
  {
   "cell_type": "code",
   "execution_count": null,
   "id": "3f28434f",
   "metadata": {},
   "outputs": [],
   "source": [
    "153 -> cube(1) + cube(5) + cube(3) => 153\n",
    "\n",
    "370\n",
    "\n",
    "371"
   ]
  },
  {
   "cell_type": "code",
   "execution_count": 30,
   "id": "551eccd7",
   "metadata": {},
   "outputs": [
    {
     "name": "stdout",
     "output_type": "stream",
     "text": [
      "Enter a number: 370\n",
      "Armstrong\n"
     ]
    }
   ],
   "source": [
    "n = int(input(\"Enter a number: \"))\n",
    "t = n\n",
    "s = 0\n",
    "\n",
    "while n > 0:\n",
    "    r = n % 10\n",
    "    s = s + r*r*r        # s = 0, 27, 152, 153\n",
    "    n = n // 10\n",
    "\n",
    "if s == t:\n",
    "    print(\"Armstrong\")\n",
    "else:\n",
    "    print(\"Not an Armstrong\")"
   ]
  },
  {
   "cell_type": "markdown",
   "id": "8a7b4f56",
   "metadata": {},
   "source": [
    "**WAP to enter a number from user and print its individual digits on seperate line**\n",
    "\n",
    "153\n",
    "\n",
    "1\n",
    "\n",
    "5\n",
    "\n",
    "3"
   ]
  },
  {
   "cell_type": "code",
   "execution_count": 33,
   "id": "0ad55d87",
   "metadata": {},
   "outputs": [
    {
     "name": "stdout",
     "output_type": "stream",
     "text": [
      "Enter a number: 153\n",
      "1\n",
      "5\n",
      "3\n"
     ]
    }
   ],
   "source": [
    "n = int(input(\"Enter a number: \"))\n",
    "s = 0\n",
    "\n",
    "while n > 0:\n",
    "    r = n % 10\n",
    "    s = s * 10 + r\n",
    "    n = n // 10\n",
    "\n",
    "while s > 0:\n",
    "    r = s % 10\n",
    "    print(r)\n",
    "    s = s // 10\n"
   ]
  },
  {
   "cell_type": "markdown",
   "id": "8136d3f3",
   "metadata": {},
   "source": [
    "**WAP to enter a number from user and print individual digits in character format**\n",
    "\n",
    "153\n",
    "\n",
    "One\n",
    "\n",
    "Five\n",
    "\n",
    "Three"
   ]
  },
  {
   "cell_type": "code",
   "execution_count": null,
   "id": "e5ce14c9",
   "metadata": {},
   "outputs": [],
   "source": []
  }
 ],
 "metadata": {
  "kernelspec": {
   "display_name": "Python 3 (ipykernel)",
   "language": "python",
   "name": "python3"
  },
  "language_info": {
   "codemirror_mode": {
    "name": "ipython",
    "version": 3
   },
   "file_extension": ".py",
   "mimetype": "text/x-python",
   "name": "python",
   "nbconvert_exporter": "python",
   "pygments_lexer": "ipython3",
   "version": "3.9.12"
  }
 },
 "nbformat": 4,
 "nbformat_minor": 5
}
