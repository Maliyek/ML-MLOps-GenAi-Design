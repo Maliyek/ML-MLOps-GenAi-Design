{
 "cells": [
  {
   "cell_type": "markdown",
   "id": "cc7ec547",
   "metadata": {},
   "source": [
    "# LSTM - Long Short Term Memory and \n",
    "# GRU - Gated Recurrent Unit\n",
    "\n",
    "\n",
    "<img src='l1.png' />\n"
   ]
  },
  {
   "cell_type": "code",
   "execution_count": null,
   "id": "be98e738",
   "metadata": {},
   "outputs": [],
   "source": [
    "- nlp tasks\n",
    "- speech recognition\n",
    "- time-series prediction\n",
    "- speech synthesis\n",
    "- text generation\n",
    "- captions for a video"
   ]
  },
  {
   "cell_type": "markdown",
   "id": "83cc0155",
   "metadata": {},
   "source": [
    "# RNN and Its drawbacks"
   ]
  },
  {
   "cell_type": "code",
   "execution_count": null,
   "id": "584c00d0",
   "metadata": {},
   "outputs": [],
   "source": [
    "- forward pass - sort-term memory\n",
    "- backward pass - vanishing gradient problem\n",
    "\n"
   ]
  },
  {
   "cell_type": "markdown",
   "id": "2afb2e0b",
   "metadata": {},
   "source": [
    "# LSTM - Long Short Term Memory\n",
    "\n",
    "<img src='l2.png' />"
   ]
  },
  {
   "cell_type": "code",
   "execution_count": null,
   "id": "1dba67e9",
   "metadata": {},
   "outputs": [],
   "source": [
    "mechanism -> gates\n",
    "\n",
    "\n",
    "- it stores relevant information to make predictions\n",
    "\n",
    "RNN\n",
    "- words -> vectors -> RNN process it one-by-one -> tanh[-1, 1] -> hidden layer \n",
    "\n",
    "[5,0.1,-0.5] -> tanh -> [0.99, 0.009, -0.46]\n",
    "\n",
    "- small sentences, \n",
    "- less computational as compared to LSTM and GRU"
   ]
  },
  {
   "cell_type": "code",
   "execution_count": null,
   "id": "34512335",
   "metadata": {},
   "outputs": [],
   "source": [
    "In LSTM the information should propagate forward\n",
    "\n",
    "- Cell State -> memory of the network\n",
    "- Gates -> neural networks -> allow which information should be there on the cell state\n",
    "        -> gates can learn what information is relevant to keep or forget during training.\n",
    "\n",
    "Sigmoid -> [0,1]\n",
    "\n",
    "- Forget Gate\n",
    "- Input Gate\n",
    "- Cell State\n",
    "- Output Gate"
   ]
  },
  {
   "cell_type": "markdown",
   "id": "9d23a804",
   "metadata": {},
   "source": [
    "# Gates\n",
    "\n",
    "## Forget Gate\n",
    "\n",
    "\n",
    "<img src='l3.gif' />"
   ]
  },
  {
   "cell_type": "code",
   "execution_count": null,
   "id": "8cf06262",
   "metadata": {},
   "outputs": [],
   "source": [
    "Sigmoid [0,1]\n",
    "forget gate - it will decide what infromation should be thorwn away or kept\n",
    "\n",
    "if the value is  close to 0 -> forget\n",
    "                 close to 1 -> kept"
   ]
  },
  {
   "cell_type": "code",
   "execution_count": null,
   "id": "51e5a1cf",
   "metadata": {},
   "outputs": [],
   "source": []
  },
  {
   "cell_type": "markdown",
   "id": "9c1eedfc",
   "metadata": {},
   "source": [
    "## Input Gate\n",
    "\n",
    "<img src='l4.gif' />"
   ]
  },
  {
   "cell_type": "code",
   "execution_count": null,
   "id": "e6bc452c",
   "metadata": {},
   "outputs": [],
   "source": [
    "input gate -> to update the cell state\n",
    "\n"
   ]
  },
  {
   "cell_type": "code",
   "execution_count": null,
   "id": "552f2cbc",
   "metadata": {},
   "outputs": [],
   "source": []
  },
  {
   "cell_type": "markdown",
   "id": "044f855d",
   "metadata": {},
   "source": [
    "## Cell State\n",
    "\n",
    "<img src='l5.gif' />"
   ]
  },
  {
   "cell_type": "code",
   "execution_count": null,
   "id": "b462db25",
   "metadata": {},
   "outputs": [],
   "source": []
  },
  {
   "cell_type": "code",
   "execution_count": null,
   "id": "f4fa2350",
   "metadata": {},
   "outputs": [],
   "source": []
  },
  {
   "cell_type": "markdown",
   "id": "37cd12ca",
   "metadata": {},
   "source": [
    "## Output Gate\n",
    "\n",
    "<img src='l6.gif' />"
   ]
  },
  {
   "cell_type": "code",
   "execution_count": null,
   "id": "ef3b26b3",
   "metadata": {},
   "outputs": [],
   "source": [
    "forget gate -> decide what is relevant to keep from prior steps\n",
    "input gate ->  what information is relevant to add from the current step\n",
    "output gate -> determines what next hidden state should be"
   ]
  },
  {
   "cell_type": "code",
   "execution_count": 1,
   "id": "49a8e698",
   "metadata": {},
   "outputs": [],
   "source": [
    "# algo for LSTM\n",
    "\n",
    "def LSTMCell(prev_ct, prev_ht, input):\n",
    "    combine = prev_ht + input\n",
    "    ft = forget_layer(combine)\n",
    "    candidate = candidate_layer(combine)\n",
    "    it = input_layer(combine)\n",
    "    ct = prev_ct * ft + candidate * it\n",
    "    ot = output_layer(combine)\n",
    "    ht = ot * tanh(ct)\n",
    "    return ht, ct"
   ]
  },
  {
   "cell_type": "code",
   "execution_count": null,
   "id": "08eecb61",
   "metadata": {},
   "outputs": [],
   "source": [
    "# ct = [0,0,0]\n",
    "# ht = [0,0,0]\n",
    "\n",
    "# for input in inputs:\n",
    "#     ct, ht = LSTMCell(ct,ht,input)"
   ]
  },
  {
   "cell_type": "markdown",
   "id": "0ca37941",
   "metadata": {},
   "source": [
    "# GRU - Gated Recurrent Unit\n",
    "\n",
    "<img src='l7.png' />"
   ]
  },
  {
   "cell_type": "code",
   "execution_count": null,
   "id": "832a25da",
   "metadata": {},
   "outputs": [],
   "source": [
    "GRU -> it is newer generation of RNNs\n",
    "\n",
    "- no cell state\n",
    "- using hidden state to tranfer information"
   ]
  },
  {
   "cell_type": "markdown",
   "id": "4e50cdc9",
   "metadata": {},
   "source": [
    "## update gate \n"
   ]
  },
  {
   "cell_type": "code",
   "execution_count": null,
   "id": "9b4eea3e",
   "metadata": {},
   "outputs": [],
   "source": [
    "it is similar to the forget gate and input gate\n",
    "\n",
    "- decide what information to throw away and what new info to add"
   ]
  },
  {
   "cell_type": "markdown",
   "id": "df1c44e5",
   "metadata": {},
   "source": [
    "## reset gate "
   ]
  },
  {
   "cell_type": "code",
   "execution_count": null,
   "id": "f8a3d5f3",
   "metadata": {},
   "outputs": [],
   "source": [
    "- how much past information to forget"
   ]
  },
  {
   "cell_type": "code",
   "execution_count": null,
   "id": "21aeaee6",
   "metadata": {},
   "outputs": [],
   "source": [
    "faster thatn LSTM -> less tensor operations"
   ]
  },
  {
   "cell_type": "markdown",
   "id": "f40a723c",
   "metadata": {},
   "source": [
    "# PyTorch Code for LSTM on Movie Review Data"
   ]
  },
  {
   "cell_type": "code",
   "execution_count": null,
   "id": "0858914c",
   "metadata": {},
   "outputs": [],
   "source": [
    "!pip install torchtext"
   ]
  },
  {
   "cell_type": "code",
   "execution_count": null,
   "id": "8da0d3c1",
   "metadata": {},
   "outputs": [],
   "source": [
    "import torch\n",
    "import torch.nn as nn\n",
    "import torch.optim as optim\n",
    "from torchtext import data\n",
    "from torchtext import datasets"
   ]
  },
  {
   "cell_type": "code",
   "execution_count": null,
   "id": "b2372bca",
   "metadata": {},
   "outputs": [],
   "source": [
    "# Set random seed for reproducibility\n",
    "seed = 42\n",
    "torch.manual_seed(seed)\n",
    "torch.backends.cudnn.deterministic = True\n",
    "\n",
    "TEXT = data.Field(tokenize='spacy', lower=True)\n",
    "LABEL = data.LabelField(dtype=torch.float)"
   ]
  },
  {
   "cell_type": "code",
   "execution_count": null,
   "id": "5d4bf513",
   "metadata": {},
   "outputs": [],
   "source": [
    "# Load the IMDb dataset\n",
    "train_data, test_data = datasets.IMDB.splits(TEXT, LABEL)\n",
    "\n",
    "# Split the training data into training and validation sets\n",
    "train_data, valid_data = train_data.split(random_state=random.seed(seed))\n",
    "\n",
    "# Build the vocabulary\n",
    "TEXT.build_vocab(train_data, max_size=25000, vectors=\"glove.6B.100d\", unk_init=torch.Tensor.normal_)\n",
    "LABEL.build_vocab(train_data)\n",
    "\n"
   ]
  },
  {
   "cell_type": "code",
   "execution_count": null,
   "id": "ce82c6c2",
   "metadata": {},
   "outputs": [],
   "source": [
    "# Set up the iterators\n",
    "BATCH_SIZE = 64\n",
    "\n",
    "train_iterator, valid_iterator, test_iterator = data.BucketIterator.splits(\n",
    "    (train_data, valid_data, test_data),\n",
    "    batch_size=BATCH_SIZE,\n",
    "    sort_key=lambda x: len(x.text),\n",
    "    sort_within_batch=True\n",
    ")\n",
    "\n"
   ]
  },
  {
   "cell_type": "code",
   "execution_count": null,
   "id": "fa5dc7f4",
   "metadata": {},
   "outputs": [],
   "source": [
    "# Define the LSTM model\n",
    "class LSTMModel(nn.Module):\n",
    "    def __init__(self, input_dim, embedding_dim, hidden_dim, output_dim, n_layers, bidirectional, dropout):\n",
    "        super().__init__()\n",
    "\n",
    "        # Embedding layer\n",
    "        self.embedding = nn.Embedding(input_dim, embedding_dim)\n",
    "\n",
    "        # LSTM layer\n",
    "        self.lstm = nn.LSTM(\n",
    "            embedding_dim,\n",
    "            hidden_dim,\n",
    "            num_layers=n_layers,\n",
    "            bidirectional=bidirectional,\n",
    "            dropout=dropout if n_layers > 1 else 0\n",
    "        )\n",
    "\n",
    "        # Fully connected layer\n",
    "        self.fc = nn.Linear(hidden_dim * 2 if bidirectional else hidden_dim, output_dim)\n",
    "\n",
    "        # Dropout layer\n",
    "        self.dropout = nn.Dropout(dropout)\n",
    "\n",
    "    def forward(self, text):\n",
    "        # Pass the input through the embedding layer\n",
    "        embedded = self.dropout(self.embedding(text))\n",
    "\n",
    "        # Pass the embedded input through the LSTM layer\n",
    "        output, (hidden, cell) = self.lstm(embedded)\n",
    "\n",
    "        # Concatenate the final forward and backward hidden states\n",
    "        hidden = self.dropout(torch.cat((hidden[-2, :, :], hidden[-1, :, :]), dim=1))\n",
    "\n",
    "        # Pass the concatenated hidden state through the fully connected layer\n",
    "        return self.fc(hidden)\n",
    "\n"
   ]
  },
  {
   "cell_type": "code",
   "execution_count": null,
   "id": "237200f3",
   "metadata": {},
   "outputs": [],
   "source": [
    "# Initialize the model\n",
    "INPUT_DIM = len(TEXT.vocab)\n",
    "EMBEDDING_DIM = 100\n",
    "HIDDEN_DIM = 256\n",
    "OUTPUT_DIM = 1\n",
    "N_LAYERS = 2\n",
    "BIDIRECTIONAL = True\n",
    "DROPOUT = 0.5\n",
    "\n",
    "model = LSTMModel(INPUT_DIM, EMBEDDING_DIM, HIDDEN_DIM, OUTPUT_DIM, N_LAYERS, BIDIRECTIONAL, DROPOUT)\n",
    "\n",
    "# Print the model architecture\n",
    "print(model)\n",
    "\n",
    "# Define the loss and optimizer\n",
    "criterion = nn.BCEWithLogitsLoss()\n",
    "optimizer = optim.Adam(model.parameters())\n",
    "\n"
   ]
  },
  {
   "cell_type": "code",
   "execution_count": null,
   "id": "24c6a267",
   "metadata": {},
   "outputs": [],
   "source": [
    "# Train the model\n",
    "NUM_EPOCHS = 5\n",
    "\n",
    "for epoch in range(NUM_EPOCHS):\n",
    "    for batch in train_iterator:\n",
    "        text, labels = batch.text, batch.label\n",
    "        optimizer.zero_grad()\n",
    "        predictions = model(text).squeeze(1)\n",
    "        loss = criterion(predictions, labels)\n",
    "        loss.backward()\n",
    "        optimizer.step()\n",
    "\n"
   ]
  },
  {
   "cell_type": "code",
   "execution_count": null,
   "id": "38775820",
   "metadata": {},
   "outputs": [],
   "source": [
    "# Evaluate the model\n",
    "def evaluate(model, iterator, criterion):\n",
    "    model.eval()\n",
    "    total_loss = 0\n",
    "    total_correct = 0\n",
    "\n",
    "    with torch.no_grad():\n",
    "        for batch in iterator:\n",
    "            text, labels = batch.text, batch.label\n",
    "            predictions = model(text).squeeze(1)\n",
    "            loss = criterion(predictions, labels)\n",
    "            total_loss += loss.item()\n",
    "\n",
    "            # Round predictions to the nearest integer (0 or 1)\n",
    "            rounded_preds = torch.round(torch.sigmoid(predictions))\n",
    "            total_correct += (rounded_preds == labels).sum().item()\n",
    "\n",
    "    return total_loss / len(iterator), total_correct / len(iterator.dataset)\n",
    "\n",
    "# Evaluate the model on the validation set\n",
    "val_loss, val_acc = evaluate(model, valid_iterator, criterion)\n",
    "print(f'Validation Loss: {val_loss:.3f}, Validation Accuracy: {val_acc * 100:.2f}%')\n"
   ]
  },
  {
   "cell_type": "code",
   "execution_count": null,
   "id": "65a0169a",
   "metadata": {},
   "outputs": [],
   "source": []
  },
  {
   "cell_type": "code",
   "execution_count": null,
   "id": "dbb4b24a",
   "metadata": {},
   "outputs": [],
   "source": []
  },
  {
   "cell_type": "code",
   "execution_count": null,
   "id": "83261703",
   "metadata": {},
   "outputs": [],
   "source": []
  },
  {
   "cell_type": "code",
   "execution_count": null,
   "id": "50a40746",
   "metadata": {},
   "outputs": [],
   "source": []
  },
  {
   "cell_type": "code",
   "execution_count": null,
   "id": "b8376571",
   "metadata": {},
   "outputs": [],
   "source": []
  }
 ],
 "metadata": {
  "kernelspec": {
   "display_name": "Python 3 (ipykernel)",
   "language": "python",
   "name": "python3"
  },
  "language_info": {
   "codemirror_mode": {
    "name": "ipython",
    "version": 3
   },
   "file_extension": ".py",
   "mimetype": "text/x-python",
   "name": "python",
   "nbconvert_exporter": "python",
   "pygments_lexer": "ipython3",
   "version": "3.9.12"
  }
 },
 "nbformat": 4,
 "nbformat_minor": 5
}
