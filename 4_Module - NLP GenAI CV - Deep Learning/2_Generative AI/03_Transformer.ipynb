{
 "cells": [
  {
   "cell_type": "markdown",
   "id": "97608233",
   "metadata": {},
   "source": [
    "# Transformer\n",
    "\n",
    "https://mchromiak.github.io/articles/2017/Sep/12/Transformer-Attention-is-all-you-need/#.XIWlzBNKjOR"
   ]
  },
  {
   "cell_type": "code",
   "execution_count": null,
   "id": "c2eeb210",
   "metadata": {},
   "outputs": [],
   "source": [
    "neural network architecture\n",
    "\n",
    "- attention\n",
    "\n",
    "\"the inverters is a indian band. the band was formed in 2017.\"\n",
    "\n",
    "the band -> the inverters"
   ]
  },
  {
   "cell_type": "markdown",
   "id": "c206c041",
   "metadata": {},
   "source": [
    "# Sequence Transduction\n",
    "\n",
    "<img src='t1.gif' />"
   ]
  },
  {
   "cell_type": "code",
   "execution_count": null,
   "id": "c6b6055e",
   "metadata": {},
   "outputs": [],
   "source": [
    "- machine translation\n"
   ]
  },
  {
   "cell_type": "markdown",
   "id": "e8cb0f85",
   "metadata": {},
   "source": [
    "# Recurrent Neural Network\n",
    "\n",
    "<img src='t2.gif' />"
   ]
  },
  {
   "cell_type": "code",
   "execution_count": null,
   "id": "7dae1b6b",
   "metadata": {},
   "outputs": [],
   "source": [
    "- long term dependencies\n"
   ]
  },
  {
   "attachments": {},
   "cell_type": "markdown",
   "id": "a416cb02",
   "metadata": {},
   "source": [
    "# Long Short Term Memory (LSTM)\n",
    "\n",
    "<img src='t3.png' />"
   ]
  },
  {
   "cell_type": "code",
   "execution_count": null,
   "id": "bb12c7df",
   "metadata": {},
   "outputs": [],
   "source": [
    "3 problems of LSTM and RNN\n",
    "\n",
    "- sequential computation parallelization\n",
    "- long and short range dependencies\n",
    "- distance is linear"
   ]
  },
  {
   "cell_type": "markdown",
   "id": "1c659162",
   "metadata": {},
   "source": [
    "# Attention\n",
    "\n",
    "\n",
    "<img src='t4.gif' />"
   ]
  },
  {
   "cell_type": "code",
   "execution_count": null,
   "id": "7d8145cf",
   "metadata": {},
   "outputs": [],
   "source": []
  },
  {
   "cell_type": "markdown",
   "id": "aba078ca",
   "metadata": {},
   "source": [
    "<img src='t5.gif' />"
   ]
  },
  {
   "cell_type": "code",
   "execution_count": null,
   "id": "bce1cc93",
   "metadata": {},
   "outputs": [],
   "source": []
  },
  {
   "cell_type": "markdown",
   "id": "18cc2858",
   "metadata": {},
   "source": [
    "<img src='t6.gif' />"
   ]
  },
  {
   "cell_type": "code",
   "execution_count": null,
   "id": "f699f35d",
   "metadata": {},
   "outputs": [],
   "source": [
    "prallel computation is not solved here\n",
    "\n",
    "even if you are using the concept of attention with RNN"
   ]
  },
  {
   "cell_type": "markdown",
   "id": "a53e7bf5",
   "metadata": {},
   "source": [
    "# Convolutional Neural Network\n",
    "\n",
    "<img src='t7.gif' />"
   ]
  },
  {
   "cell_type": "code",
   "execution_count": null,
   "id": "4a624ff2",
   "metadata": {},
   "outputs": [],
   "source": [
    "CNN + Attention = Transformer\n",
    "\n",
    "CNNs with attention"
   ]
  },
  {
   "cell_type": "markdown",
   "id": "fb1a9fb0",
   "metadata": {},
   "source": [
    "# Transformer\n",
    "\n",
    "<img src='t8.png' />"
   ]
  },
  {
   "cell_type": "code",
   "execution_count": null,
   "id": "cebe5a3a",
   "metadata": {},
   "outputs": [],
   "source": [
    "transformer use attention to boost the speed, more specifically self-attention\n",
    "\n",
    "attention -> assign different weights to the input sequence, based on relevant parts\n",
    "\n",
    "self-attention -> intra-attention/inner attention\n",
    "                it will assign weigths based on the importance of each element \n",
    "                in relation to other within the same sequence."
   ]
  },
  {
   "cell_type": "markdown",
   "id": "4ecbdefe",
   "metadata": {},
   "source": [
    "<img src='t9.png' />"
   ]
  },
  {
   "cell_type": "code",
   "execution_count": null,
   "id": "0426d95e",
   "metadata": {},
   "outputs": [],
   "source": [
    "encoder\n",
    "- self-attention\n",
    "- feed forward neural network"
   ]
  },
  {
   "cell_type": "markdown",
   "id": "4150d4b2",
   "metadata": {},
   "source": [
    "<img src='t10.png' />"
   ]
  },
  {
   "cell_type": "code",
   "execution_count": null,
   "id": "2d5c8c00",
   "metadata": {},
   "outputs": [],
   "source": [
    "decoder\n",
    "- self-attention\n",
    "- encoder-decoder attention\n",
    "- feed forward neural network"
   ]
  },
  {
   "cell_type": "markdown",
   "id": "d75b9511",
   "metadata": {},
   "source": [
    "# Self-Attention\n",
    "\n",
    "<img src='t11.png' />"
   ]
  },
  {
   "cell_type": "code",
   "execution_count": null,
   "id": "2d9456e5",
   "metadata": {},
   "outputs": [],
   "source": []
  },
  {
   "cell_type": "markdown",
   "id": "c0ef1308",
   "metadata": {},
   "source": [
    "<img src='t12.png' />\n",
    "\n"
   ]
  },
  {
   "cell_type": "code",
   "execution_count": null,
   "id": "079f03a6",
   "metadata": {},
   "outputs": [],
   "source": [
    "steps\n",
    "\n",
    "1 - calculating the self-attention\n",
    "\n",
    "for each word\n",
    "\n",
    "- query vectors \n",
    "- key vectors\n",
    "- value vector\n",
    "\n"
   ]
  },
  {
   "cell_type": "markdown",
   "id": "2627b45f",
   "metadata": {},
   "source": [
    "<img src='t13.png' />\n",
    "\n"
   ]
  },
  {
   "cell_type": "code",
   "execution_count": null,
   "id": "b1c2b1b6",
   "metadata": {},
   "outputs": [],
   "source": [
    "2 - calulating a score\n",
    "\n",
    "the score determines how much focus to palce on other parts of the input sentence"
   ]
  },
  {
   "cell_type": "markdown",
   "id": "65462a8c",
   "metadata": {},
   "source": [
    "<img src='t14.png' />\n",
    "\n"
   ]
  },
  {
   "cell_type": "code",
   "execution_count": null,
   "id": "3615d3cb",
   "metadata": {},
   "outputs": [],
   "source": [
    "3 and 4th step\n",
    "\n",
    "- divide this score by 8 (sq root 64 - dimension of the key vector)\n",
    "\n",
    "- pass that through softmax"
   ]
  },
  {
   "cell_type": "markdown",
   "id": "3add9acf",
   "metadata": {},
   "source": [
    "<img src='t15.png' />\n",
    "\n"
   ]
  },
  {
   "cell_type": "code",
   "execution_count": null,
   "id": "1c54dffd",
   "metadata": {},
   "outputs": [],
   "source": [
    "5 - multiplication of each vector\n",
    "\n",
    "\n",
    "focus on keeping the value of words"
   ]
  },
  {
   "cell_type": "markdown",
   "id": "9de7bf54",
   "metadata": {},
   "source": [
    "<img src='t16.png' />\n"
   ]
  },
  {
   "cell_type": "code",
   "execution_count": null,
   "id": "9072f505",
   "metadata": {},
   "outputs": [],
   "source": [
    "6 - step\n",
    "\n",
    "sum up the weighted value vectors"
   ]
  },
  {
   "cell_type": "markdown",
   "id": "286f6645",
   "metadata": {},
   "source": [
    "# Multi-thread Attention\n",
    "\n",
    "<img src='t17.png' />\n"
   ]
  },
  {
   "cell_type": "code",
   "execution_count": null,
   "id": "7a4eb4a8",
   "metadata": {},
   "outputs": [],
   "source": [
    "# positional encoding"
   ]
  },
  {
   "cell_type": "markdown",
   "id": "0153ba3c",
   "metadata": {},
   "source": [
    "# Interview Questions"
   ]
  },
  {
   "cell_type": "code",
   "execution_count": null,
   "id": "8a13cf01",
   "metadata": {},
   "outputs": [],
   "source": [
    "# 5 reasons why tranformer was introduced?\n",
    "\n",
    "- a transformer is a neural netowrk arechitecture\n",
    "- it is used to handle sequential data\n",
    "- it used mechanism called self-attention\n",
    "- it overcomes limitations of traditional sequential models, RNN and LSTM\n",
    "- it overcomes the long-range dependencies problem\n"
   ]
  },
  {
   "cell_type": "code",
   "execution_count": null,
   "id": "3fad60c7",
   "metadata": {},
   "outputs": [],
   "source": [
    "# what is self attention\n",
    "\n",
    "- assigning weigts to different parts of the sentence just to focus on the importance\n",
    "- scores based on the content of each position in the sequence"
   ]
  },
  {
   "cell_type": "code",
   "execution_count": null,
   "id": "251b829d",
   "metadata": {},
   "outputs": [],
   "source": []
  },
  {
   "cell_type": "markdown",
   "id": "83768db2",
   "metadata": {},
   "source": [
    "## Interview question for deep learning\n",
    "https://github.com/youssefHosni/Data-Science-Interview-Questions-Answers/blob/main/Deep%20Learning%20Questions%20&%20Answers%20for%20Data%20Scientists.md"
   ]
  },
  {
   "cell_type": "code",
   "execution_count": null,
   "id": "ba991e30",
   "metadata": {},
   "outputs": [],
   "source": []
  }
 ],
 "metadata": {
  "kernelspec": {
   "display_name": "Python 3 (ipykernel)",
   "language": "python",
   "name": "python3"
  },
  "language_info": {
   "codemirror_mode": {
    "name": "ipython",
    "version": 3
   },
   "file_extension": ".py",
   "mimetype": "text/x-python",
   "name": "python",
   "nbconvert_exporter": "python",
   "pygments_lexer": "ipython3",
   "version": "3.9.12"
  }
 },
 "nbformat": 4,
 "nbformat_minor": 5
}
