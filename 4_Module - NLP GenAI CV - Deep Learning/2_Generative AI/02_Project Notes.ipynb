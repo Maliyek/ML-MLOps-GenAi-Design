{
 "cells": [
  {
   "cell_type": "markdown",
   "id": "c0657c58",
   "metadata": {},
   "source": [
    "# ChatGPT API for NLP problems\n",
    "\n",
    "- explore the account section on openai\n",
    "- check the tokenizer: https://platform.openai.com/tokenizer\n",
    "- api key\n",
    "- check the token pricing\n",
    "- monitor your usage\n",
    "\n",
    "\n",
    "- environment setup\n",
    "- install openai\n",
    "- \n",
    "\n",
    "\n",
    "# Clone ChatGPT\n",
    "\n",
    "- clone the chatgpt bot using flask\n",
    "- html\n",
    "- api endpoints\n",
    "- AJAX\n",
    "- fronend\n",
    "\n",
    "\n",
    "# Deploy on Azure\n",
    "\n",
    "- install azure cli -> https://learn.microsoft.com/en-us/cli/azure/install-azure-cli-windows?tabs=azure-cli\n",
    "\n",
    "- got to powershell/terminal: az --version\n",
    "\n",
    "- az login\n",
    "- az webapp up --name chatgptclone\n",
    "\n",
    "\n",
    "\n"
   ]
  },
  {
   "cell_type": "code",
   "execution_count": null,
   "id": "673a50e2",
   "metadata": {},
   "outputs": [],
   "source": [
    "                  request           response\n",
    "python flask file  >>>   openai api    >>>     json"
   ]
  }
 ],
 "metadata": {
  "kernelspec": {
   "display_name": "Python 3 (ipykernel)",
   "language": "python",
   "name": "python3"
  },
  "language_info": {
   "codemirror_mode": {
    "name": "ipython",
    "version": 3
   },
   "file_extension": ".py",
   "mimetype": "text/x-python",
   "name": "python",
   "nbconvert_exporter": "python",
   "pygments_lexer": "ipython3",
   "version": "3.9.12"
  }
 },
 "nbformat": 4,
 "nbformat_minor": 5
}
